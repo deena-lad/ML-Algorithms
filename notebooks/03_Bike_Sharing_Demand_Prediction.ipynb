{
 "cells": [
  {
   "cell_type": "markdown",
   "id": "a698d3ce",
   "metadata": {},
   "source": [
    "# PRML Assignment 3"
   ]
  },
  {
   "cell_type": "code",
   "execution_count": 2,
   "id": "deb2f846",
   "metadata": {},
   "outputs": [
    {
     "name": "stderr",
     "output_type": "stream",
     "text": [
      "C:\\Users\\Deena\\anaconda3\\lib\\site-packages\\scipy\\__init__.py:146: UserWarning: A NumPy version >=1.16.5 and <1.23.0 is required for this version of SciPy (detected version 1.24.3\n",
      "  warnings.warn(f\"A NumPy version >={np_minversion} and <{np_maxversion}\"\n"
     ]
    }
   ],
   "source": [
    "# import the libraries\n",
    "import numpy as np\n",
    "import math\n",
    "import pandas as pd\n",
    "import matplotlib.pyplot as plt\n",
    "import seaborn as sns\n",
    "from statistics import mean\n",
    "from sklearn import preprocessing\n",
    "from sklearn.metrics import r2_score\n",
    "from sklearn.model_selection import train_test_split\n",
    "from sklearn.preprocessing import LabelEncoder\n",
    "from sklearn.linear_model import LinearRegression\n",
    "from sklearn.metrics import mean_squared_error, mean_squared_log_error\n",
    "from mpl_toolkits.mplot3d import Axes3D\n",
    "from sklearn.preprocessing import StandardScaler"
   ]
  },
  {
   "cell_type": "code",
   "execution_count": 3,
   "id": "a3d9cb3c",
   "metadata": {},
   "outputs": [],
   "source": [
    "# loading data\n",
    "data = pd.read_csv(r\"C:\\Users\\Deena\\Downloads\\Bengaluru_House_Data.csv\")"
   ]
  },
  {
   "cell_type": "code",
   "execution_count": 4,
   "id": "018927b4",
   "metadata": {},
   "outputs": [
    {
     "data": {
      "text/html": [
       "<div>\n",
       "<style scoped>\n",
       "    .dataframe tbody tr th:only-of-type {\n",
       "        vertical-align: middle;\n",
       "    }\n",
       "\n",
       "    .dataframe tbody tr th {\n",
       "        vertical-align: top;\n",
       "    }\n",
       "\n",
       "    .dataframe thead th {\n",
       "        text-align: right;\n",
       "    }\n",
       "</style>\n",
       "<table border=\"1\" class=\"dataframe\">\n",
       "  <thead>\n",
       "    <tr style=\"text-align: right;\">\n",
       "      <th></th>\n",
       "      <th>area_type</th>\n",
       "      <th>availability</th>\n",
       "      <th>location</th>\n",
       "      <th>size</th>\n",
       "      <th>society</th>\n",
       "      <th>total_sqft</th>\n",
       "      <th>bath</th>\n",
       "      <th>balcony</th>\n",
       "      <th>price</th>\n",
       "    </tr>\n",
       "  </thead>\n",
       "  <tbody>\n",
       "    <tr>\n",
       "      <th>0</th>\n",
       "      <td>Super built-up  Area</td>\n",
       "      <td>19-Dec</td>\n",
       "      <td>Electronic City Phase II</td>\n",
       "      <td>2 BHK</td>\n",
       "      <td>Coomee</td>\n",
       "      <td>1056</td>\n",
       "      <td>2.0</td>\n",
       "      <td>1.0</td>\n",
       "      <td>39.07</td>\n",
       "    </tr>\n",
       "    <tr>\n",
       "      <th>1</th>\n",
       "      <td>Plot  Area</td>\n",
       "      <td>Ready To Move</td>\n",
       "      <td>Chikka Tirupathi</td>\n",
       "      <td>4 Bedroom</td>\n",
       "      <td>Theanmp</td>\n",
       "      <td>2600</td>\n",
       "      <td>5.0</td>\n",
       "      <td>3.0</td>\n",
       "      <td>120.00</td>\n",
       "    </tr>\n",
       "    <tr>\n",
       "      <th>2</th>\n",
       "      <td>Built-up  Area</td>\n",
       "      <td>Ready To Move</td>\n",
       "      <td>Uttarahalli</td>\n",
       "      <td>3 BHK</td>\n",
       "      <td>NaN</td>\n",
       "      <td>1440</td>\n",
       "      <td>2.0</td>\n",
       "      <td>3.0</td>\n",
       "      <td>62.00</td>\n",
       "    </tr>\n",
       "    <tr>\n",
       "      <th>3</th>\n",
       "      <td>Super built-up  Area</td>\n",
       "      <td>Ready To Move</td>\n",
       "      <td>Lingadheeranahalli</td>\n",
       "      <td>3 BHK</td>\n",
       "      <td>Soiewre</td>\n",
       "      <td>1521</td>\n",
       "      <td>3.0</td>\n",
       "      <td>1.0</td>\n",
       "      <td>95.00</td>\n",
       "    </tr>\n",
       "    <tr>\n",
       "      <th>4</th>\n",
       "      <td>Super built-up  Area</td>\n",
       "      <td>Ready To Move</td>\n",
       "      <td>Kothanur</td>\n",
       "      <td>2 BHK</td>\n",
       "      <td>NaN</td>\n",
       "      <td>1200</td>\n",
       "      <td>2.0</td>\n",
       "      <td>1.0</td>\n",
       "      <td>51.00</td>\n",
       "    </tr>\n",
       "  </tbody>\n",
       "</table>\n",
       "</div>"
      ],
      "text/plain": [
       "              area_type   availability                  location       size  \\\n",
       "0  Super built-up  Area         19-Dec  Electronic City Phase II      2 BHK   \n",
       "1            Plot  Area  Ready To Move          Chikka Tirupathi  4 Bedroom   \n",
       "2        Built-up  Area  Ready To Move               Uttarahalli      3 BHK   \n",
       "3  Super built-up  Area  Ready To Move        Lingadheeranahalli      3 BHK   \n",
       "4  Super built-up  Area  Ready To Move                  Kothanur      2 BHK   \n",
       "\n",
       "   society total_sqft  bath  balcony   price  \n",
       "0  Coomee        1056   2.0      1.0   39.07  \n",
       "1  Theanmp       2600   5.0      3.0  120.00  \n",
       "2      NaN       1440   2.0      3.0   62.00  \n",
       "3  Soiewre       1521   3.0      1.0   95.00  \n",
       "4      NaN       1200   2.0      1.0   51.00  "
      ]
     },
     "execution_count": 4,
     "metadata": {},
     "output_type": "execute_result"
    }
   ],
   "source": [
    "# reading data\n",
    "data.head()"
   ]
  },
  {
   "cell_type": "code",
   "execution_count": 5,
   "id": "a1818ed1",
   "metadata": {},
   "outputs": [
    {
     "data": {
      "text/plain": [
       "(13320, 9)"
      ]
     },
     "execution_count": 5,
     "metadata": {},
     "output_type": "execute_result"
    }
   ],
   "source": [
    "data.shape"
   ]
  },
  {
   "cell_type": "code",
   "execution_count": 6,
   "id": "00460122",
   "metadata": {},
   "outputs": [
    {
     "data": {
      "text/plain": [
       "area_type        object\n",
       "availability     object\n",
       "location         object\n",
       "size             object\n",
       "society          object\n",
       "total_sqft       object\n",
       "bath            float64\n",
       "balcony         float64\n",
       "price           float64\n",
       "dtype: object"
      ]
     },
     "execution_count": 6,
     "metadata": {},
     "output_type": "execute_result"
    }
   ],
   "source": [
    "data.dtypes"
   ]
  },
  {
   "cell_type": "markdown",
   "id": "5e22dc9e",
   "metadata": {},
   "source": [
    "### Exercise 1: Draw a scatter plot for the data mentioned for given attributes.\n",
    "### Exercise 2: Perform Data pre-processing."
   ]
  },
  {
   "cell_type": "code",
   "execution_count": 7,
   "id": "89a38957",
   "metadata": {},
   "outputs": [],
   "source": [
    "# using try-except for cleaning the total_sqft column values\n",
    "avg = []\n",
    "for s in data['total_sqft']:  \n",
    "    try:\n",
    "        avg.append(float(s))      # if the values only have numbers\n",
    "    except:\n",
    "        try:\n",
    "            range_list = s.split('-')\n",
    "            avg.append((range_list[0] + range_list[1]) / 2)      # if the values are in a range\n",
    "        except:\n",
    "            avg.append(0)  "
   ]
  },
  {
   "cell_type": "code",
   "execution_count": 8,
   "id": "e5fa0896",
   "metadata": {},
   "outputs": [],
   "source": [
    "data['avg_area'] = avg"
   ]
  },
  {
   "cell_type": "code",
   "execution_count": 9,
   "id": "4fb3ca5b",
   "metadata": {},
   "outputs": [],
   "source": [
    "data.drop(['total_sqft'], axis=1, inplace=True)"
   ]
  },
  {
   "cell_type": "code",
   "execution_count": 10,
   "id": "9cc4693d",
   "metadata": {},
   "outputs": [
    {
     "data": {
      "text/html": [
       "<div>\n",
       "<style scoped>\n",
       "    .dataframe tbody tr th:only-of-type {\n",
       "        vertical-align: middle;\n",
       "    }\n",
       "\n",
       "    .dataframe tbody tr th {\n",
       "        vertical-align: top;\n",
       "    }\n",
       "\n",
       "    .dataframe thead th {\n",
       "        text-align: right;\n",
       "    }\n",
       "</style>\n",
       "<table border=\"1\" class=\"dataframe\">\n",
       "  <thead>\n",
       "    <tr style=\"text-align: right;\">\n",
       "      <th></th>\n",
       "      <th>area_type</th>\n",
       "      <th>availability</th>\n",
       "      <th>location</th>\n",
       "      <th>size</th>\n",
       "      <th>society</th>\n",
       "      <th>bath</th>\n",
       "      <th>balcony</th>\n",
       "      <th>price</th>\n",
       "      <th>avg_area</th>\n",
       "    </tr>\n",
       "  </thead>\n",
       "  <tbody>\n",
       "    <tr>\n",
       "      <th>0</th>\n",
       "      <td>Super built-up  Area</td>\n",
       "      <td>19-Dec</td>\n",
       "      <td>Electronic City Phase II</td>\n",
       "      <td>2 BHK</td>\n",
       "      <td>Coomee</td>\n",
       "      <td>2.0</td>\n",
       "      <td>1.0</td>\n",
       "      <td>39.07</td>\n",
       "      <td>1056.0</td>\n",
       "    </tr>\n",
       "    <tr>\n",
       "      <th>1</th>\n",
       "      <td>Plot  Area</td>\n",
       "      <td>Ready To Move</td>\n",
       "      <td>Chikka Tirupathi</td>\n",
       "      <td>4 Bedroom</td>\n",
       "      <td>Theanmp</td>\n",
       "      <td>5.0</td>\n",
       "      <td>3.0</td>\n",
       "      <td>120.00</td>\n",
       "      <td>2600.0</td>\n",
       "    </tr>\n",
       "    <tr>\n",
       "      <th>2</th>\n",
       "      <td>Built-up  Area</td>\n",
       "      <td>Ready To Move</td>\n",
       "      <td>Uttarahalli</td>\n",
       "      <td>3 BHK</td>\n",
       "      <td>NaN</td>\n",
       "      <td>2.0</td>\n",
       "      <td>3.0</td>\n",
       "      <td>62.00</td>\n",
       "      <td>1440.0</td>\n",
       "    </tr>\n",
       "    <tr>\n",
       "      <th>3</th>\n",
       "      <td>Super built-up  Area</td>\n",
       "      <td>Ready To Move</td>\n",
       "      <td>Lingadheeranahalli</td>\n",
       "      <td>3 BHK</td>\n",
       "      <td>Soiewre</td>\n",
       "      <td>3.0</td>\n",
       "      <td>1.0</td>\n",
       "      <td>95.00</td>\n",
       "      <td>1521.0</td>\n",
       "    </tr>\n",
       "    <tr>\n",
       "      <th>4</th>\n",
       "      <td>Super built-up  Area</td>\n",
       "      <td>Ready To Move</td>\n",
       "      <td>Kothanur</td>\n",
       "      <td>2 BHK</td>\n",
       "      <td>NaN</td>\n",
       "      <td>2.0</td>\n",
       "      <td>1.0</td>\n",
       "      <td>51.00</td>\n",
       "      <td>1200.0</td>\n",
       "    </tr>\n",
       "  </tbody>\n",
       "</table>\n",
       "</div>"
      ],
      "text/plain": [
       "              area_type   availability                  location       size  \\\n",
       "0  Super built-up  Area         19-Dec  Electronic City Phase II      2 BHK   \n",
       "1            Plot  Area  Ready To Move          Chikka Tirupathi  4 Bedroom   \n",
       "2        Built-up  Area  Ready To Move               Uttarahalli      3 BHK   \n",
       "3  Super built-up  Area  Ready To Move        Lingadheeranahalli      3 BHK   \n",
       "4  Super built-up  Area  Ready To Move                  Kothanur      2 BHK   \n",
       "\n",
       "   society  bath  balcony   price  avg_area  \n",
       "0  Coomee    2.0      1.0   39.07    1056.0  \n",
       "1  Theanmp   5.0      3.0  120.00    2600.0  \n",
       "2      NaN   2.0      3.0   62.00    1440.0  \n",
       "3  Soiewre   3.0      1.0   95.00    1521.0  \n",
       "4      NaN   2.0      1.0   51.00    1200.0  "
      ]
     },
     "execution_count": 10,
     "metadata": {},
     "output_type": "execute_result"
    }
   ],
   "source": [
    "data.head()"
   ]
  },
  {
   "cell_type": "code",
   "execution_count": 11,
   "id": "f3542ebe",
   "metadata": {},
   "outputs": [
    {
     "data": {
      "text/plain": [
       "2 BHK         5199\n",
       "3 BHK         4310\n",
       "4 Bedroom      826\n",
       "4 BHK          591\n",
       "3 Bedroom      547\n",
       "1 BHK          538\n",
       "2 Bedroom      329\n",
       "5 Bedroom      297\n",
       "6 Bedroom      191\n",
       "1 Bedroom      105\n",
       "8 Bedroom       84\n",
       "7 Bedroom       83\n",
       "5 BHK           59\n",
       "9 Bedroom       46\n",
       "6 BHK           30\n",
       "7 BHK           17\n",
       "1 RK            13\n",
       "10 Bedroom      12\n",
       "9 BHK            8\n",
       "8 BHK            5\n",
       "11 BHK           2\n",
       "11 Bedroom       2\n",
       "10 BHK           2\n",
       "14 BHK           1\n",
       "13 BHK           1\n",
       "12 Bedroom       1\n",
       "27 BHK           1\n",
       "43 Bedroom       1\n",
       "16 BHK           1\n",
       "19 BHK           1\n",
       "18 Bedroom       1\n",
       "Name: size, dtype: int64"
      ]
     },
     "execution_count": 11,
     "metadata": {},
     "output_type": "execute_result"
    }
   ],
   "source": [
    "data['size'].value_counts()"
   ]
  },
  {
   "cell_type": "code",
   "execution_count": 12,
   "id": "83ac2496",
   "metadata": {},
   "outputs": [],
   "source": [
    "data['size'] = data['size'].replace('4 Bedroom', '4 BHK')\n",
    "data['size'] = data['size'].replace('3 Bedroom', '3 BHK')\n",
    "data['size'] = data['size'].replace('2 Bedroom', '2 BHK')\n",
    "data['size'] = data['size'].replace('4 Bedroom', '4 BHK')\n",
    "data['size'] = data['size'].replace('1 Bedroom', '1 BHK')\n",
    "data['size'] = data['size'].replace('5 Bedroom', '5 BHK')\n",
    "data['size'] = data['size'].replace('6 Bedroom', '6 BHK')\n",
    "data['size'] = data['size'].replace('7 Bedroom', '7 BHK')\n",
    "data['size'] = data['size'].replace('8 Bedroom', '8 BHK')\n",
    "data['size'] = data['size'].replace('9 Bedroom', '9 BHK')\n",
    "data['size'] = data['size'].replace('10 Bedroom', '1O BHK')\n",
    "data['size'] = data['size'].replace('11 Bedroom', '11 BHK')\n",
    "data['size'] = data['size'].replace('12 Bedroom', '12 BHK')"
   ]
  },
  {
   "cell_type": "code",
   "execution_count": 13,
   "id": "41d7b1be",
   "metadata": {},
   "outputs": [
    {
     "data": {
      "text/plain": [
       "GrrvaGr    80\n",
       "PrarePa    76\n",
       "Sryalan    59\n",
       "Prtates    59\n",
       "GMown E    56\n",
       "           ..\n",
       "Amionce     1\n",
       "JaghtDe     1\n",
       "Jauraht     1\n",
       "Brity U     1\n",
       "RSntsAp     1\n",
       "Name: society, Length: 2688, dtype: int64"
      ]
     },
     "execution_count": 13,
     "metadata": {},
     "output_type": "execute_result"
    }
   ],
   "source": [
    "data['society'].value_counts()"
   ]
  },
  {
   "cell_type": "code",
   "execution_count": 14,
   "id": "b8861939",
   "metadata": {},
   "outputs": [
    {
     "data": {
      "text/html": [
       "<div>\n",
       "<style scoped>\n",
       "    .dataframe tbody tr th:only-of-type {\n",
       "        vertical-align: middle;\n",
       "    }\n",
       "\n",
       "    .dataframe tbody tr th {\n",
       "        vertical-align: top;\n",
       "    }\n",
       "\n",
       "    .dataframe thead th {\n",
       "        text-align: right;\n",
       "    }\n",
       "</style>\n",
       "<table border=\"1\" class=\"dataframe\">\n",
       "  <thead>\n",
       "    <tr style=\"text-align: right;\">\n",
       "      <th></th>\n",
       "      <th>area_type</th>\n",
       "      <th>availability</th>\n",
       "      <th>location</th>\n",
       "      <th>size</th>\n",
       "      <th>society</th>\n",
       "      <th>bath</th>\n",
       "      <th>balcony</th>\n",
       "      <th>price</th>\n",
       "      <th>avg_area</th>\n",
       "    </tr>\n",
       "  </thead>\n",
       "  <tbody>\n",
       "    <tr>\n",
       "      <th>0</th>\n",
       "      <td>3</td>\n",
       "      <td>40</td>\n",
       "      <td>419</td>\n",
       "      <td>11</td>\n",
       "      <td>464</td>\n",
       "      <td>2.0</td>\n",
       "      <td>1.0</td>\n",
       "      <td>39.07</td>\n",
       "      <td>1056.0</td>\n",
       "    </tr>\n",
       "    <tr>\n",
       "      <th>1</th>\n",
       "      <td>2</td>\n",
       "      <td>80</td>\n",
       "      <td>317</td>\n",
       "      <td>14</td>\n",
       "      <td>2439</td>\n",
       "      <td>5.0</td>\n",
       "      <td>3.0</td>\n",
       "      <td>120.00</td>\n",
       "      <td>2600.0</td>\n",
       "    </tr>\n",
       "    <tr>\n",
       "      <th>2</th>\n",
       "      <td>0</td>\n",
       "      <td>80</td>\n",
       "      <td>1179</td>\n",
       "      <td>13</td>\n",
       "      <td>2688</td>\n",
       "      <td>2.0</td>\n",
       "      <td>3.0</td>\n",
       "      <td>62.00</td>\n",
       "      <td>1440.0</td>\n",
       "    </tr>\n",
       "    <tr>\n",
       "      <th>3</th>\n",
       "      <td>3</td>\n",
       "      <td>80</td>\n",
       "      <td>757</td>\n",
       "      <td>13</td>\n",
       "      <td>2186</td>\n",
       "      <td>3.0</td>\n",
       "      <td>1.0</td>\n",
       "      <td>95.00</td>\n",
       "      <td>1521.0</td>\n",
       "    </tr>\n",
       "    <tr>\n",
       "      <th>4</th>\n",
       "      <td>3</td>\n",
       "      <td>80</td>\n",
       "      <td>716</td>\n",
       "      <td>11</td>\n",
       "      <td>2688</td>\n",
       "      <td>2.0</td>\n",
       "      <td>1.0</td>\n",
       "      <td>51.00</td>\n",
       "      <td>1200.0</td>\n",
       "    </tr>\n",
       "  </tbody>\n",
       "</table>\n",
       "</div>"
      ],
      "text/plain": [
       "   area_type  availability  location  size  society  bath  balcony   price  \\\n",
       "0          3            40       419    11      464   2.0      1.0   39.07   \n",
       "1          2            80       317    14     2439   5.0      3.0  120.00   \n",
       "2          0            80      1179    13     2688   2.0      3.0   62.00   \n",
       "3          3            80       757    13     2186   3.0      1.0   95.00   \n",
       "4          3            80       716    11     2688   2.0      1.0   51.00   \n",
       "\n",
       "   avg_area  \n",
       "0    1056.0  \n",
       "1    2600.0  \n",
       "2    1440.0  \n",
       "3    1521.0  \n",
       "4    1200.0  "
      ]
     },
     "execution_count": 14,
     "metadata": {},
     "output_type": "execute_result"
    }
   ],
   "source": [
    "le = LabelEncoder()\n",
    "cols = ['area_type', 'availability', 'location', 'size', 'society']\n",
    "# Encode labels of multiple columns at once\n",
    "data[cols] = data[cols].apply(LabelEncoder().fit_transform)\n",
    "data.head()"
   ]
  },
  {
   "cell_type": "code",
   "execution_count": 15,
   "id": "b0c1479a",
   "metadata": {},
   "outputs": [
    {
     "data": {
      "text/plain": [
       "area_type         0\n",
       "availability      0\n",
       "location          0\n",
       "size              0\n",
       "society           0\n",
       "bath             73\n",
       "balcony         609\n",
       "price             0\n",
       "avg_area          0\n",
       "dtype: int64"
      ]
     },
     "execution_count": 15,
     "metadata": {},
     "output_type": "execute_result"
    }
   ],
   "source": [
    "data.isnull().sum()"
   ]
  },
  {
   "cell_type": "code",
   "execution_count": 16,
   "id": "1871bd43",
   "metadata": {},
   "outputs": [],
   "source": [
    "data.dropna(inplace=True)"
   ]
  },
  {
   "cell_type": "code",
   "execution_count": 17,
   "id": "6a34126b",
   "metadata": {},
   "outputs": [
    {
     "data": {
      "text/plain": [
       "Index(['area_type', 'availability', 'location', 'size', 'society', 'bath',\n",
       "       'balcony', 'price', 'avg_area'],\n",
       "      dtype='object')"
      ]
     },
     "execution_count": 17,
     "metadata": {},
     "output_type": "execute_result"
    }
   ],
   "source": [
    "data.columns"
   ]
  },
  {
   "cell_type": "code",
   "execution_count": 18,
   "id": "e8535c17",
   "metadata": {},
   "outputs": [
    {
     "data": {
      "text/plain": [
       "<AxesSubplot:>"
      ]
     },
     "execution_count": 18,
     "metadata": {},
     "output_type": "execute_result"
    },
    {
     "data": {
      "image/png": "[encoded data removed]",
      "text/plain": [
       "<Figure size 1080x504 with 2 Axes>"
      ]
     },
     "metadata": {
      "needs_background": "light"
     },
     "output_type": "display_data"
    }
   ],
   "source": [
    "plt.figure(figsize=(15,7))\n",
    "sns.heatmap(data.corr(), annot=True)"
   ]
  },
  {
   "cell_type": "code",
   "execution_count": 19,
   "id": "6f062539",
   "metadata": {},
   "outputs": [
    {
     "data": {
      "text/plain": [
       "area_type      -0.061415\n",
       "location        0.012764\n",
       "availability    0.030050\n",
       "society         0.057865\n",
       "balcony         0.120355\n",
       "size            0.295952\n",
       "bath            0.459730\n",
       "avg_area        0.547874\n",
       "price           1.000000\n",
       "Name: price, dtype: float64"
      ]
     },
     "execution_count": 19,
     "metadata": {},
     "output_type": "execute_result"
    }
   ],
   "source": [
    "data.corr()['price'].sort_values()"
   ]
  },
  {
   "cell_type": "code",
   "execution_count": 20,
   "id": "3cad0771",
   "metadata": {},
   "outputs": [
    {
     "data": {
      "text/html": [
       "<div>\n",
       "<style scoped>\n",
       "    .dataframe tbody tr th:only-of-type {\n",
       "        vertical-align: middle;\n",
       "    }\n",
       "\n",
       "    .dataframe tbody tr th {\n",
       "        vertical-align: top;\n",
       "    }\n",
       "\n",
       "    .dataframe thead th {\n",
       "        text-align: right;\n",
       "    }\n",
       "</style>\n",
       "<table border=\"1\" class=\"dataframe\">\n",
       "  <thead>\n",
       "    <tr style=\"text-align: right;\">\n",
       "      <th></th>\n",
       "      <th>area_type</th>\n",
       "      <th>availability</th>\n",
       "      <th>location</th>\n",
       "      <th>size</th>\n",
       "      <th>society</th>\n",
       "      <th>bath</th>\n",
       "      <th>balcony</th>\n",
       "      <th>price</th>\n",
       "      <th>avg_area</th>\n",
       "    </tr>\n",
       "  </thead>\n",
       "  <tbody>\n",
       "    <tr>\n",
       "      <th>0</th>\n",
       "      <td>3</td>\n",
       "      <td>40</td>\n",
       "      <td>419</td>\n",
       "      <td>11</td>\n",
       "      <td>464</td>\n",
       "      <td>2.0</td>\n",
       "      <td>1.0</td>\n",
       "      <td>39.07</td>\n",
       "      <td>1056.0</td>\n",
       "    </tr>\n",
       "    <tr>\n",
       "      <th>1</th>\n",
       "      <td>2</td>\n",
       "      <td>80</td>\n",
       "      <td>317</td>\n",
       "      <td>14</td>\n",
       "      <td>2439</td>\n",
       "      <td>5.0</td>\n",
       "      <td>3.0</td>\n",
       "      <td>120.00</td>\n",
       "      <td>2600.0</td>\n",
       "    </tr>\n",
       "    <tr>\n",
       "      <th>2</th>\n",
       "      <td>0</td>\n",
       "      <td>80</td>\n",
       "      <td>1179</td>\n",
       "      <td>13</td>\n",
       "      <td>2688</td>\n",
       "      <td>2.0</td>\n",
       "      <td>3.0</td>\n",
       "      <td>62.00</td>\n",
       "      <td>1440.0</td>\n",
       "    </tr>\n",
       "    <tr>\n",
       "      <th>3</th>\n",
       "      <td>3</td>\n",
       "      <td>80</td>\n",
       "      <td>757</td>\n",
       "      <td>13</td>\n",
       "      <td>2186</td>\n",
       "      <td>3.0</td>\n",
       "      <td>1.0</td>\n",
       "      <td>95.00</td>\n",
       "      <td>1521.0</td>\n",
       "    </tr>\n",
       "    <tr>\n",
       "      <th>4</th>\n",
       "      <td>3</td>\n",
       "      <td>80</td>\n",
       "      <td>716</td>\n",
       "      <td>11</td>\n",
       "      <td>2688</td>\n",
       "      <td>2.0</td>\n",
       "      <td>1.0</td>\n",
       "      <td>51.00</td>\n",
       "      <td>1200.0</td>\n",
       "    </tr>\n",
       "  </tbody>\n",
       "</table>\n",
       "</div>"
      ],
      "text/plain": [
       "   area_type  availability  location  size  society  bath  balcony   price  \\\n",
       "0          3            40       419    11      464   2.0      1.0   39.07   \n",
       "1          2            80       317    14     2439   5.0      3.0  120.00   \n",
       "2          0            80      1179    13     2688   2.0      3.0   62.00   \n",
       "3          3            80       757    13     2186   3.0      1.0   95.00   \n",
       "4          3            80       716    11     2688   2.0      1.0   51.00   \n",
       "\n",
       "   avg_area  \n",
       "0    1056.0  \n",
       "1    2600.0  \n",
       "2    1440.0  \n",
       "3    1521.0  \n",
       "4    1200.0  "
      ]
     },
     "execution_count": 20,
     "metadata": {},
     "output_type": "execute_result"
    }
   ],
   "source": [
    "df=data.copy()\n",
    "df.head()"
   ]
  },
  {
   "cell_type": "code",
   "execution_count": 21,
   "id": "afccdb58",
   "metadata": {},
   "outputs": [
    {
     "data": {
      "text/plain": [
       "12711.0"
      ]
     },
     "execution_count": 21,
     "metadata": {},
     "output_type": "execute_result"
    }
   ],
   "source": [
    "N = float(len(df))\n",
    "\n",
    "N"
   ]
  },
  {
   "cell_type": "code",
   "execution_count": 22,
   "id": "ee7ee288",
   "metadata": {},
   "outputs": [
    {
     "data": {
      "image/png": "[encoded data removed]",
      "text/plain": [
       "<Figure size 864x576 with 4 Axes>"
      ]
     },
     "metadata": {
      "needs_background": "light"
     },
     "output_type": "display_data"
    }
   ],
   "source": [
    "plt.figure(figsize=(12,8))\n",
    "plt.subplot(2,2,1)\n",
    "plt.scatter(data['area_type'], data['price'])\n",
    "plt.title(\"Area Type v/s Price\")\n",
    "\n",
    "plt.subplot(2,2,2)\n",
    "plt.scatter(data['avg_area'], data['price'])\n",
    "plt.title(\"Average Area v/s Price\")\n",
    "\n",
    "plt.subplot(2,2,3)\n",
    "plt.scatter(data['bath'], data['price'])\n",
    "plt.title(\"Bath v/s Price\")\n",
    "\n",
    "plt.subplot(2,2,4)\n",
    "plt.scatter(data['balcony'], data['price'])\n",
    "plt.title(\"Balcony v/s Price\")\n",
    "\n",
    "plt.show()"
   ]
  },
  {
   "cell_type": "markdown",
   "id": "edda94d0",
   "metadata": {},
   "source": [
    "### Exercise 3: Performs gradient descent to learn theta. (using the library and without using the library). Compare the values of ‘theta’ in both cases.\n",
    "### Exercise 4: Splitting data into the training and testing, 60:40, 70:30, ND 80:20.\n",
    "### Exercise 5: Train multilinear regression model and test USING Gradient Descent and using the library. Compare your results with Simple Linear Regression."
   ]
  },
  {
   "cell_type": "code",
   "execution_count": 30,
   "id": "6f7a31a7",
   "metadata": {},
   "outputs": [],
   "source": [
    "ss = StandardScaler()"
   ]
  },
  {
   "cell_type": "code",
   "execution_count": 31,
   "id": "5bc61cf4",
   "metadata": {},
   "outputs": [],
   "source": [
    "x = df[['area_type', 'availability', 'location', 'size', 'society', 'bath',\n",
    "       'balcony', 'price', 'avg_area']]\n",
    "X = ss.fit_transform(x)"
   ]
  },
  {
   "cell_type": "code",
   "execution_count": 34,
   "id": "a16d0307",
   "metadata": {},
   "outputs": [],
   "source": [
    "#y = preprocessing.scale(df['cnt'])\n",
    "y = df['price'].values.reshape(-1, 1)\n",
    "y_scaled = ss.fit_transform(y)\n",
    "ori_shape = ss.inverse_transform(y_scaled.reshape(-1, 1))\n",
    "df['price'] = ori_shape\n",
    "Y = df.iloc[:,-1].values"
   ]
  },
  {
   "cell_type": "code",
   "execution_count": 35,
   "id": "b427fa7f",
   "metadata": {},
   "outputs": [
    {
     "data": {
      "text/plain": [
       "area_type         int32\n",
       "availability      int32\n",
       "location          int32\n",
       "size              int32\n",
       "society           int32\n",
       "bath            float64\n",
       "balcony         float64\n",
       "price           float64\n",
       "avg_area        float64\n",
       "dtype: object"
      ]
     },
     "execution_count": 35,
     "metadata": {},
     "output_type": "execute_result"
    }
   ],
   "source": [
    "df.dtypes"
   ]
  },
  {
   "cell_type": "code",
   "execution_count": 36,
   "id": "6d3dd962",
   "metadata": {},
   "outputs": [
    {
     "name": "stdout",
     "output_type": "stream",
     "text": [
      "Shape of X_train: (7626, 9)\n",
      "Shape of X_test: (5085, 9)\n"
     ]
    }
   ],
   "source": [
    "X_train, X_test, Y_train, Y_test = train_test_split(X, Y, test_size = 0.4,random_state=42)\n",
    "print(\"Shape of X_train:\", X_train.shape)\n",
    "print(\"Shape of X_test:\", X_test.shape)"
   ]
  },
  {
   "cell_type": "code",
   "execution_count": 37,
   "id": "51ba37d8",
   "metadata": {},
   "outputs": [
    {
     "name": "stdout",
     "output_type": "stream",
     "text": [
      "Shape of X_train: (8897, 9)\n",
      "Shape of X_test: (3814, 9)\n"
     ]
    }
   ],
   "source": [
    "X_train, X_test, Y_train, Y_test = train_test_split(X, Y, test_size = 0.3,random_state=42)\n",
    "print(\"Shape of X_train:\", X_train.shape)\n",
    "print(\"Shape of X_test:\", X_test.shape)"
   ]
  },
  {
   "cell_type": "code",
   "execution_count": 38,
   "id": "53d538f6",
   "metadata": {},
   "outputs": [
    {
     "name": "stdout",
     "output_type": "stream",
     "text": [
      "Shape of X_train: (10168,)\n",
      "Shape of X_test: (2543, 9)\n"
     ]
    }
   ],
   "source": [
    "X_train, X_test, Y_train, Y_test = train_test_split(X, Y, test_size = 0.2,random_state=42)\n",
    "print(\"Shape of X_train:\", Y_train.shape)\n",
    "print(\"Shape of X_test:\", X_test.shape)"
   ]
  },
  {
   "cell_type": "code",
   "execution_count": 41,
   "id": "f9bbe48e",
   "metadata": {},
   "outputs": [
    {
     "name": "stdout",
     "output_type": "stream",
     "text": [
      "N: 10168.0\n",
      "Theta:  (9,)\n",
      "t1:  (9,)\n",
      "Coefficients [ 0.01048995 -0.00900813 -0.008362   -0.06892097  0.00284307 -0.08988877\n",
      " -0.0422025  -0.12662811 -0.21595843]\n"
     ]
    }
   ],
   "source": [
    "# Lists to store RMSE and RMSLE values during training\n",
    "rmse_values = []\n",
    "\n",
    "# gradient descent using matrix dot product\n",
    "A = 0.000001\n",
    "epochs = 100\n",
    "\n",
    "n = float(len(Y_train))\n",
    "print(\"N:\",n)\n",
    "\n",
    "# t - theta - making a matrix of the dimension [no of columns of X, 1]\n",
    "t1 = np.zeros(X_train.shape[1])\n",
    "print(\"Theta: \",t1.shape)\n",
    "\n",
    "# Separate intercept term (theta0) from other coefficients\n",
    "\n",
    "print(\"t1: \",t1.shape)\n",
    "\n",
    "\n",
    "for i in range(epochs):\n",
    "    Y_pred = np.dot(X_train, t1) #+ t0         # taking a dot product of the matrices X and t1 and add t0\n",
    "    #print(\"Y_pred: \",Y_pred.shape)\n",
    "    \n",
    "    err = Y_pred - Y_train\n",
    "    D_t1 = (-2/n) * np.dot(err, X_train)      # partial derivative wrt t1\n",
    "    #print(\"D_t1: \",D_t1.shape)\n",
    "    #D_t0 = (-1/n) * np.sum(err)            # partial derivative wrt t\n",
    "    \n",
    "    t1 = t1 - A * D_t1                           # updatation of t\n",
    "    #t0 = t0 - A * D_t0\n",
    "    \n",
    "    # Calculate RMSE and RMSLE and store in lists\n",
    "    rmse_values.append(np.sqrt(mean_squared_error(Y_test, np.dot(X_test, t1) )))  #+ t0\n",
    "    #rmsle_values.append(np.sqrt(mean_squared_log_error(Y_test, np.dot(X_test, t1))))  # +t0\n",
    "\n",
    "    \n",
    "# Print the final coefficients\n",
    "print(\"Coefficients\", t1)\n",
    "#print(\"Intercept (theta0):\", t0)"
   ]
  },
  {
   "cell_type": "code",
   "execution_count": 42,
   "id": "7056bcf6",
   "metadata": {},
   "outputs": [
    {
     "name": "stdout",
     "output_type": "stream",
     "text": [
      "R2 Score when gradient descent is used:  -1.2670429660215747\n",
      "R2 score using the library:  1.0\n",
      "Differnce:  2.2670429660215747\n"
     ]
    }
   ],
   "source": [
    "# r2 score for gradient descent\n",
    "y_pred1 = np.dot(X_test, t1)\n",
    "print(\"R2 Score when gradient descent is used: \",r2_score(Y_test, y_pred1))\n",
    "\n",
    "# r2 score using library\n",
    "model = LinearRegression()\n",
    "model.fit(X_train, Y_train)\n",
    "print(\"R2 score using the library: \",model.score(X_test, Y_test))\n",
    "\n",
    "# Difference \n",
    "print(\"Differnce: \",model.score(X_test, Y_test)-r2_score(Y_test, y_pred1))"
   ]
  },
  {
   "cell_type": "code",
   "execution_count": 43,
   "id": "73c1bd8c",
   "metadata": {},
   "outputs": [
    {
     "data": {
      "text/plain": [
       "array([-0.11604822,  0.25778078,  0.26487181, ...,  0.39983997,\n",
       "        0.14710519, -1.17509271])"
      ]
     },
     "execution_count": 43,
     "metadata": {},
     "output_type": "execute_result"
    }
   ],
   "source": [
    "y_pred = np.dot(X_test, t1)\n",
    "y_pred"
   ]
  },
  {
   "cell_type": "code",
   "execution_count": 44,
   "id": "87550de7",
   "metadata": {},
   "outputs": [
    {
     "name": "stdout",
     "output_type": "stream",
     "text": [
      "Root Mean Square Error:\n",
      "\n",
      "2000.9334984390923\n"
     ]
    }
   ],
   "source": [
    "from sklearn.metrics import mean_squared_error\n",
    "import math\n",
    "MSE = mean_squared_error(Y_test, y_pred)\n",
    "\n",
    "RMSE_multi = math.sqrt(MSE)\n",
    "print(\"Root Mean Square Error:\\n\")\n",
    "print(RMSE_multi)\n",
    "R2_before = r2_score(Y_test, y_pred1)"
   ]
  },
  {
   "cell_type": "code",
   "execution_count": 45,
   "id": "e72823e8",
   "metadata": {},
   "outputs": [
    {
     "data": {
      "image/png": "[encoded data removed]",
      "text/plain": [
       "<Figure size 720x288 with 2 Axes>"
      ]
     },
     "metadata": {
      "needs_background": "light"
     },
     "output_type": "display_data"
    }
   ],
   "source": [
    "RMSE_single = 0.43818325380484446    # from previous lab\n",
    "r2_single =  0.8079810202456749      # from previous lab\n",
    "name_list = ['simplelinear', 'multilinear']\n",
    "value1_list = [RMSE_single, RMSE_multi]\n",
    "value2_list = [r2_single, R2_before]\n",
    "plt.figure(figsize=(10,4))\n",
    "plt.subplot(1,2,1)\n",
    "plt.plot(name_list, value1_list)\n",
    "plt.title(\"Comparison of RMSE values\")\n",
    "plt.subplot(1,2,2)\n",
    "plt.plot(name_list, value2_list)\n",
    "plt.title(\"Comparison of R2 scores values\")\n",
    "plt.show()"
   ]
  },
  {
   "cell_type": "code",
   "execution_count": 46,
   "id": "aafb28ac",
   "metadata": {},
   "outputs": [],
   "source": [
    "x = df[['balcony', 'size', 'bath', 'society', 'area_type']]"
   ]
  },
  {
   "cell_type": "code",
   "execution_count": 47,
   "id": "024d580f",
   "metadata": {},
   "outputs": [],
   "source": [
    "y = df['price']"
   ]
  },
  {
   "cell_type": "code",
   "execution_count": 48,
   "id": "466cd9b5",
   "metadata": {},
   "outputs": [
    {
     "name": "stdout",
     "output_type": "stream",
     "text": [
      "Shape of X_train: (10168, 9)\n",
      "Shape of X_test: (2543, 9)\n"
     ]
    }
   ],
   "source": [
    "X_train, X_test, Y_train, Y_test = train_test_split(X, Y, test_size = 0.2,random_state=42)\n",
    "print(\"Shape of X_train:\", X_train.shape)\n",
    "print(\"Shape of X_test:\", X_test.shape)"
   ]
  },
  {
   "cell_type": "code",
   "execution_count": 49,
   "id": "4bd357c1",
   "metadata": {},
   "outputs": [
    {
     "name": "stdout",
     "output_type": "stream",
     "text": [
      "N: 10168.0\n",
      "Theta:  (9,)\n",
      "t1:  (9,)\n"
     ]
    }
   ],
   "source": [
    "rmse_values = []\n",
    "\n",
    "# gradient descent using matrix dot product\n",
    "A = 0.0000001\n",
    "epochs = 100\n",
    "\n",
    "n = float(len(Y_train))\n",
    "print(\"N:\",n)\n",
    "t1 = np.zeros(X_train.shape[1])\n",
    "print(\"Theta: \",t1.shape)\n",
    "print(\"t1: \",t1.shape)"
   ]
  },
  {
   "cell_type": "code",
   "execution_count": 57,
   "id": "f6d84d4e",
   "metadata": {},
   "outputs": [],
   "source": [
    "for i in range(epochs):\n",
    "    Y_pred = np.dot(X_train, t1) #+ t0      \n",
    "    \n",
    "    err = Y_pred - Y_train\n",
    "    D_t1 = (2/n) * np.dot(np.transpose(X_train), np.transpose(err))      # partial derivative wrt t1\n",
    "    \n",
    "    t1 = t1 - A * D_t1                           # updatation of t\n",
    "    \n",
    "    # Calculate RMSE and RMSLE and store in lists\n",
    "    rmse_values.append(np.sqrt(mean_squared_error(Y_test, np.dot(X_test, t1) )))  #+ t0"
   ]
  },
  {
   "cell_type": "code",
   "execution_count": 58,
   "id": "c48d9fd6",
   "metadata": {},
   "outputs": [
    {
     "name": "stdout",
     "output_type": "stream",
     "text": [
      "Coefficients (excluding intercept): [-0.00209711  0.0018008   0.00167189  0.01377852 -0.00056908  0.01797099\n",
      "  0.00843733  0.02531825  0.04318378]\n",
      " \n",
      "R2 Score when gradient descent is used:  -1.2663869998991952\n",
      " \n",
      "R2 score using the library:  1.0\n",
      "\n",
      "Differnce:  2.2663869998991952\n"
     ]
    }
   ],
   "source": [
    "# Print the final coefficients\n",
    "print(\"Coefficients (excluding intercept):\", t1)\n",
    "#print(\"Intercept (theta0):\", t0)\n",
    "print(\" \")\n",
    "# r2 score for gradient descent\n",
    "y_pred1 = np.dot(X_test, t1)\n",
    "print(\"R2 Score when gradient descent is used: \",r2_score(Y_test, y_pred1))\n",
    "print(\" \")\n",
    "# r2 score using library\n",
    "model = LinearRegression()\n",
    "model.fit(X_train, Y_train)\n",
    "print(\"R2 score using the library: \",model.score(X_test, Y_test))\n",
    "print(\"\")\n",
    "# Difference \n",
    "print(\"Differnce: \",model.score(X_test, Y_test)-r2_score(Y_test, y_pred1))"
   ]
  },
  {
   "cell_type": "code",
   "execution_count": 59,
   "id": "7021fccf",
   "metadata": {},
   "outputs": [
    {
     "name": "stdout",
     "output_type": "stream",
     "text": [
      "Root Mean Square Error:\n",
      "\n",
      "2000.9334984390923\n"
     ]
    }
   ],
   "source": [
    "RMSE_multi = math.sqrt(MSE)\n",
    "print(\"Root Mean Square Error:\\n\")\n",
    "print(RMSE_multi)\n",
    "R2_after = r2_score(Y_test, y_pred1)"
   ]
  },
  {
   "cell_type": "code",
   "execution_count": 60,
   "id": "a44ec876",
   "metadata": {},
   "outputs": [
    {
     "data": {
      "image/png": "[encoded data removed]",
      "text/plain": [
       "<Figure size 432x288 with 1 Axes>"
      ]
     },
     "metadata": {
      "needs_background": "light"
     },
     "output_type": "display_data"
    }
   ],
   "source": [
    "name_list2 = ['Before fetaure selection', 'After Feature selection']\n",
    "value_list = [R2_before, R2_after]\n",
    "plt.plot(name_list2, value_list)\n",
    "plt.title(\"Comparison of R2 scores\")\n",
    "plt.show()"
   ]
  },
  {
   "cell_type": "markdown",
   "id": "7f167488",
   "metadata": {},
   "source": [
    "### Exercise 6: Did you expect ridge regression to outperform the lasso, or vice versa? Which predictors turned out to be important in the final model(s)?  \n",
    "#### Predictors important in the final model: balcony, size, bath, society, area_type"
   ]
  },
  {
   "cell_type": "code",
   "execution_count": 61,
   "id": "52bb80da",
   "metadata": {},
   "outputs": [],
   "source": [
    "from sklearn.linear_model import Ridge, Lasso\n",
    "\n",
    "RR= Ridge(alpha=0.1) \n",
    "RR= RR.fit(X_train, Y_train)\n",
    "RR_pred= RR.predict(X_test)\n",
    "\n",
    "LR= Lasso(alpha=1.0) # Regularization parameter\n",
    "LR= LR.fit(X_train, Y_train)\n",
    "LR_pred = LR.predict(X_test)"
   ]
  },
  {
   "cell_type": "code",
   "execution_count": 62,
   "id": "12668bfd",
   "metadata": {},
   "outputs": [
    {
     "name": "stdout",
     "output_type": "stream",
     "text": [
      "Model Score for Ridge Regression:  0.9999999997932006\n",
      "Model Score for Lasso Regression:  0.9999991456630652\n"
     ]
    }
   ],
   "source": [
    "print(\"Model Score for Ridge Regression: \", RR.score(X_test, Y_test))\n",
    "print(\"Model Score for Lasso Regression: \", LR.score(X_test, Y_test))"
   ]
  },
  {
   "cell_type": "code",
   "execution_count": null,
   "id": "bcb63cde",
   "metadata": {},
   "outputs": [],
   "source": []
  }
 ],
 "metadata": {
  "kernelspec": {
   "display_name": "Python 3 (ipykernel)",
   "language": "python",
   "name": "python3"
  },
  "language_info": {
   "codemirror_mode": {
    "name": "ipython",
    "version": 3
   },
   "file_extension": ".py",
   "mimetype": "text/x-python",
   "name": "python",
   "nbconvert_exporter": "python",
   "pygments_lexer": "ipython3",
   "version": "3.9.7"
  }
 },
 "nbformat": 4,
 "nbformat_minor": 5
}
