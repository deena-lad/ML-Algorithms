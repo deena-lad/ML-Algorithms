{
 "cells": [
  {
   "cell_type": "markdown",
   "id": "f84e42b3",
   "metadata": {},
   "source": [
    "# PRML Lab Assignment 6"
   ]
  },
  {
   "cell_type": "markdown",
   "id": "ec4e3b9a",
   "metadata": {},
   "source": [
    "### Aim: To perform cross validation on MNIST dataset and KNN classifier with k = 5."
   ]
  },
  {
   "cell_type": "code",
   "execution_count": 1,
   "id": "064501b5",
   "metadata": {},
   "outputs": [
    {
     "name": "stderr",
     "output_type": "stream",
     "text": [
      "C:\\Users\\Deena\\anaconda3\\lib\\site-packages\\scipy\\__init__.py:146: UserWarning: A NumPy version >=1.16.5 and <1.23.0 is required for this version of SciPy (detected version 1.24.3\n",
      "  warnings.warn(f\"A NumPy version >={np_minversion} and <{np_maxversion}\"\n"
     ]
    }
   ],
   "source": [
    "# import libraries\n",
    "import pandas as pd\n",
    "import matplotlib.pyplot as plt\n",
    "import numpy as np\n",
    "import seaborn as sns\n",
    "from sklearn.model_selection import train_test_split\n",
    "from sklearn.neighbors import KNeighborsClassifier\n",
    "from sklearn.metrics import accuracy_score\n",
    "from sklearn.preprocessing import StandardScaler\n",
    "from sklearn.model_selection import cross_val_score\n",
    "from sklearn.model_selection import LeaveOneOut"
   ]
  },
  {
   "cell_type": "markdown",
   "id": "3789f101",
   "metadata": {},
   "source": [
    "### 1 - Load the dataset"
   ]
  },
  {
   "cell_type": "code",
   "execution_count": 2,
   "id": "7a85564b",
   "metadata": {},
   "outputs": [],
   "source": [
    "from sklearn.datasets import fetch_openml\n",
    "df = fetch_openml('mnist_784')"
   ]
  },
  {
   "cell_type": "markdown",
   "id": "dcd711fc",
   "metadata": {},
   "source": [
    "### 2 - Visualize the data columns"
   ]
  },
  {
   "cell_type": "code",
   "execution_count": 3,
   "id": "eefaeca9",
   "metadata": {},
   "outputs": [
    {
     "name": "stdout",
     "output_type": "stream",
     "text": [
      "(70000, 784)\n",
      "(70000,)\n"
     ]
    }
   ],
   "source": [
    "X = df.data\n",
    "print(df.data.shape)\n",
    "# for labels\n",
    "Y = df.target\n",
    "print(df.target.shape)"
   ]
  },
  {
   "cell_type": "code",
   "execution_count": 4,
   "id": "aa531785",
   "metadata": {},
   "outputs": [
    {
     "data": {
      "text/plain": [
       "<matplotlib.image.AxesImage at 0x2daa8df6d90>"
      ]
     },
     "execution_count": 4,
     "metadata": {},
     "output_type": "execute_result"
    },
    {
     "data": {
      "image/png": "[encoded data removed]",
      "text/plain": [
       "<Figure size 432x288 with 6 Axes>"
      ]
     },
     "metadata": {
      "needs_background": "light"
     },
     "output_type": "display_data"
    }
   ],
   "source": [
    "img = df.data.to_numpy()\n",
    "\n",
    "plt.subplot(231)\n",
    "plt.imshow((img[0].reshape(28,28)), cmap=plt.cm.gray_r)\n",
    "\n",
    "plt.subplot(232)\n",
    "plt.imshow(img[1].reshape(28,28), cmap=plt.cm.gray_r)\n",
    "\n",
    "plt.subplot(233)\n",
    "plt.imshow(img[3].reshape(28,28), cmap=plt.cm.gray_r)\n",
    "\n",
    "plt.subplot(234)\n",
    "plt.imshow(img[4].reshape(28,28), cmap=plt.cm.gray_r)\n",
    "\n",
    "plt.subplot(235)\n",
    "plt.imshow(img[5].reshape(28,28), cmap=plt.cm.gray_r)\n",
    "\n",
    "plt.subplot(236)\n",
    "plt.imshow(img[6].reshape(28,28), cmap=plt.cm.gray_r)"
   ]
  },
  {
   "cell_type": "code",
   "execution_count": 5,
   "id": "97da6d17",
   "metadata": {},
   "outputs": [],
   "source": [
    "X_train, X_test, Y_train, Y_test = train_test_split(df.data, df.target, test_size=0.14, random_state=0)"
   ]
  },
  {
   "cell_type": "code",
   "execution_count": 6,
   "id": "cf4b3760",
   "metadata": {},
   "outputs": [
    {
     "name": "stdout",
     "output_type": "stream",
     "text": [
      "X_train: (60199, 784)\n",
      "Y_train: (60199,)\n",
      "X_test:  (9801, 784)\n",
      "Y_test:  (9801,)\n"
     ]
    }
   ],
   "source": [
    "print('X_train: ' + str(X_train.shape))\n",
    "print('Y_train: ' + str(Y_train.shape))\n",
    "print('X_test:  '  + str(X_test.shape))\n",
    "print('Y_test:  '  + str(Y_test.shape))"
   ]
  },
  {
   "cell_type": "markdown",
   "id": "4aa73c5c",
   "metadata": {},
   "source": [
    "### 3 - Check the class imbalance"
   ]
  },
  {
   "cell_type": "markdown",
   "id": "6a33a356",
   "metadata": {},
   "source": [
    "#### Since there is no major difference between the number of values per class, there is no class imbalance present in the dataset."
   ]
  },
  {
   "cell_type": "code",
   "execution_count": 8,
   "id": "9968cd68",
   "metadata": {},
   "outputs": [
    {
     "name": "stdout",
     "output_type": "stream",
     "text": [
      "Values per class:\n"
     ]
    },
    {
     "data": {
      "text/plain": [
       "1    7877\n",
       "7    7293\n",
       "3    7141\n",
       "2    6990\n",
       "9    6958\n",
       "0    6903\n",
       "6    6876\n",
       "8    6825\n",
       "4    6824\n",
       "5    6313\n",
       "Name: class, dtype: int64"
      ]
     },
     "execution_count": 8,
     "metadata": {},
     "output_type": "execute_result"
    }
   ],
   "source": [
    "print(\"Values per class:\")\n",
    "Y.value_counts()"
   ]
  },
  {
   "cell_type": "markdown",
   "id": "de20f231",
   "metadata": {},
   "source": [
    "### 4 - Compare Leave-one-out with 2,3,5 and 10 folds cross validation"
   ]
  },
  {
   "cell_type": "code",
   "execution_count": 9,
   "id": "6820c3e7",
   "metadata": {},
   "outputs": [],
   "source": [
    "cv = LeaveOneOut()"
   ]
  },
  {
   "cell_type": "code",
   "execution_count": 10,
   "id": "2e2c035a",
   "metadata": {},
   "outputs": [],
   "source": [
    "knn = KNeighborsClassifier(n_neighbors=5)"
   ]
  },
  {
   "cell_type": "code",
   "execution_count": 11,
   "id": "ba0b3b78",
   "metadata": {},
   "outputs": [
    {
     "data": {
      "text/plain": [
       "KNeighborsClassifier()"
      ]
     },
     "execution_count": 11,
     "metadata": {},
     "output_type": "execute_result"
    }
   ],
   "source": [
    "knn.fit(X_train, Y_train)"
   ]
  },
  {
   "cell_type": "code",
   "execution_count": 12,
   "id": "5693d73c",
   "metadata": {},
   "outputs": [
    {
     "data": {
      "text/plain": [
       "array(['0', '4', '1', '2', '7', '9', '7', '1', '1', '7'], dtype=object)"
      ]
     },
     "execution_count": 12,
     "metadata": {},
     "output_type": "execute_result"
    }
   ],
   "source": [
    "knn.predict(X_test[0:10])"
   ]
  },
  {
   "cell_type": "code",
   "execution_count": 13,
   "id": "68e48954",
   "metadata": {},
   "outputs": [],
   "source": [
    "Y_pred = knn.predict(X_test)"
   ]
  },
  {
   "cell_type": "code",
   "execution_count": 14,
   "id": "d61dd20c",
   "metadata": {},
   "outputs": [
    {
     "name": "stdout",
     "output_type": "stream",
     "text": [
      "Accuracy: 0.9728599122538516\n"
     ]
    }
   ],
   "source": [
    "accuracy = accuracy_score(Y_test, Y_pred)\n",
    "print(\"Accuracy:\", accuracy)"
   ]
  },
  {
   "cell_type": "code",
   "execution_count": 15,
   "id": "0085efc1",
   "metadata": {},
   "outputs": [
    {
     "name": "stdout",
     "output_type": "stream",
     "text": [
      "[0.9643428571428572, 0.9674571297828223, 0.9696571428571428, 0.9710285714285714]\n"
     ]
    }
   ],
   "source": [
    "# making a list of folds\n",
    "folds = [2,3,5,10]\n",
    "\n",
    "# making a list for the outputs\n",
    "accuracy_rate = []\n",
    "\n",
    "# for loop for different number of loocv \n",
    "for fold in folds:\n",
    "    score = cross_val_score(knn, X, Y,cv=fold, scoring='accuracy', n_jobs=-1)\n",
    "    accuracy_rate.append(np.mean(score))\n",
    "\n",
    "print(accuracy_rate)"
   ]
  },
  {
   "cell_type": "markdown",
   "id": "7ad0a5ae",
   "metadata": {},
   "source": [
    "### 5 - Observe the pattern as the number of folds increases."
   ]
  },
  {
   "cell_type": "markdown",
   "id": "e74ecfd7",
   "metadata": {},
   "source": [
    "#### As the number of folds increases there is an increase in the mean accuracy which is visible in the below graph."
   ]
  },
  {
   "cell_type": "code",
   "execution_count": 16,
   "id": "df826d24",
   "metadata": {},
   "outputs": [
    {
     "data": {
      "image/png": "[encoded data removed]",
      "text/plain": [
       "<Figure size 720x432 with 1 Axes>"
      ]
     },
     "metadata": {
      "needs_background": "light"
     },
     "output_type": "display_data"
    }
   ],
   "source": [
    "foldss = ['2', '3', '5', '10']\n",
    "plt.figure(figsize=(10,6))\n",
    "plt.plot(foldss, accuracy_rate)\n",
    "plt.title(\"Comparison of different loocv folds\")\n",
    "plt.xlabel(\"Number of folds\")\n",
    "plt.ylabel(\"Mean of the accuracy rate\")\n",
    "plt.show()"
   ]
  },
  {
   "cell_type": "markdown",
   "id": "9821733e",
   "metadata": {},
   "source": [
    "### 6 - Identify a good value of k for better accuracy"
   ]
  },
  {
   "cell_type": "markdown",
   "id": "6e4f46db",
   "metadata": {},
   "source": [
    "#### From the below graphs, it can be observed that when the values of k are taken in the range of 1 to 10, k = 3 shows highest accuracy rate."
   ]
  },
  {
   "cell_type": "code",
   "execution_count": 17,
   "id": "6adb7df9",
   "metadata": {},
   "outputs": [],
   "source": [
    "k_values = [i for i in range (1,10)]\n",
    "scores = []\n",
    "\n",
    "for k in k_values:\n",
    "    knn = KNeighborsClassifier(n_neighbors=k)\n",
    "    score = cross_val_score(knn, X, Y, cv=5)\n",
    "    scores.append(np.mean(score))"
   ]
  },
  {
   "cell_type": "code",
   "execution_count": 19,
   "id": "fbdfd940",
   "metadata": {},
   "outputs": [
    {
     "data": {
      "image/png": "[encoded data removed]",
      "text/plain": [
       "<Figure size 432x288 with 1 Axes>"
      ]
     },
     "metadata": {
      "needs_background": "light"
     },
     "output_type": "display_data"
    }
   ],
   "source": [
    "sns.lineplot(x = k_values, y = scores, marker = 'o')\n",
    "plt.xlabel(\"K Values\")\n",
    "plt.ylabel(\"Accuracy Score\")\n",
    "plt.title(\"Accuracy of different k-values\")\n",
    "plt.show()"
   ]
  },
  {
   "cell_type": "code",
   "execution_count": 20,
   "id": "08547b2b",
   "metadata": {},
   "outputs": [
    {
     "data": {
      "image/png": "[encoded data removed]",
      "text/plain": [
       "<Figure size 432x288 with 1 Axes>"
      ]
     },
     "metadata": {
      "needs_background": "light"
     },
     "output_type": "display_data"
    }
   ],
   "source": [
    "error_rate = []\n",
    "for score in scores:\n",
    "    temp = 1 - score\n",
    "    error_rate.append(temp)\n",
    "sns.lineplot(x = k_values, y = error_rate, marker = 'o')\n",
    "plt.xlabel(\"K Values\")\n",
    "plt.ylabel(\"Error Rate\")\n",
    "plt.title(\"Error Rate of different k-values\")\n",
    "plt.show()"
   ]
  },
  {
   "cell_type": "markdown",
   "id": "a4ebb827",
   "metadata": {},
   "source": [
    "### 7 - Compare the results with and without class imbalance checking"
   ]
  },
  {
   "cell_type": "markdown",
   "id": "e67deab3",
   "metadata": {},
   "source": [
    "#### There is no major class imbalance present in the dataset given."
   ]
  }
 ],
 "metadata": {
  "kernelspec": {
   "display_name": "Python 3 (ipykernel)",
   "language": "python",
   "name": "python3"
  },
  "language_info": {
   "codemirror_mode": {
    "name": "ipython",
    "version": 3
   },
   "file_extension": ".py",
   "mimetype": "text/x-python",
   "name": "python",
   "nbconvert_exporter": "python",
   "pygments_lexer": "ipython3",
   "version": "3.9.7"
  }
 },
 "nbformat": 4,
 "nbformat_minor": 5
}
