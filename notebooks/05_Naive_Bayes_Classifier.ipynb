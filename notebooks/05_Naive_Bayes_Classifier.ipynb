{
 "cells": [
  {
   "cell_type": "markdown",
   "id": "be633d56",
   "metadata": {},
   "source": [
    "# PRML Assignment 5"
   ]
  },
  {
   "cell_type": "markdown",
   "id": "d204f83b",
   "metadata": {},
   "source": [
    "### Aim: Write a script to implement Naïve Bayes Classifier for the given Dataset to support the following: "
   ]
  },
  {
   "cell_type": "code",
   "execution_count": 1,
   "id": "6b0a7d33",
   "metadata": {},
   "outputs": [
    {
     "name": "stderr",
     "output_type": "stream",
     "text": [
      "C:\\Users\\Deena\\anaconda3\\lib\\site-packages\\scipy\\__init__.py:146: UserWarning: A NumPy version >=1.16.5 and <1.23.0 is required for this version of SciPy (detected version 1.24.3\n",
      "  warnings.warn(f\"A NumPy version >={np_minversion} and <{np_maxversion}\"\n"
     ]
    }
   ],
   "source": [
    "# import libraries\n",
    "import pandas as pd\n",
    "import matplotlib.pyplot as plt\n",
    "import numpy as np\n",
    "import seaborn as sns\n",
    "from sklearn.model_selection import train_test_split\n",
    "from sklearn import preprocessing\n",
    "from sklearn.naive_bayes import GaussianNB\n",
    "from sklearn.svm import SVC\n",
    "from sklearn.linear_model import LogisticRegression\n",
    "from sklearn.metrics import accuracy_score, f1_score, precision_score, recall_score, roc_auc_score"
   ]
  },
  {
   "cell_type": "code",
   "execution_count": 2,
   "id": "6feb157c",
   "metadata": {},
   "outputs": [],
   "source": [
    "df = pd.read_csv(r\"C:\\Users\\Deena\\Downloads\\germand credit card\\german_credit_data.csv\")"
   ]
  },
  {
   "cell_type": "markdown",
   "id": "618fc27e",
   "metadata": {},
   "source": [
    "skiprows = 1,\n",
    "                 names = ['status of bank acc', 'duration', 'credit history', 'purpose', 'credit amount',\n",
    "                          'savings account', 'employment', 'installment rate', 'personal status',\n",
    "                         'other applicant', 'present residence', 'property', 'age', 'other installment', \n",
    "                         'housing', 'number of existing credits', 'job', 'no of people',\n",
    "                         'telephone', 'foreign worker']"
   ]
  },
  {
   "cell_type": "code",
   "execution_count": 3,
   "id": "5141fa4f",
   "metadata": {},
   "outputs": [],
   "source": [
    "df = pd.read_csv(r\"C:\\Users\\Deena\\Desktop\\PDEU\\datasets\\german.data\",\n",
    "                 sep=\" \")"
   ]
  },
  {
   "cell_type": "code",
   "execution_count": 4,
   "id": "f7800611",
   "metadata": {},
   "outputs": [
    {
     "data": {
      "text/html": [
       "<div>\n",
       "<style scoped>\n",
       "    .dataframe tbody tr th:only-of-type {\n",
       "        vertical-align: middle;\n",
       "    }\n",
       "\n",
       "    .dataframe tbody tr th {\n",
       "        vertical-align: top;\n",
       "    }\n",
       "\n",
       "    .dataframe thead th {\n",
       "        text-align: right;\n",
       "    }\n",
       "</style>\n",
       "<table border=\"1\" class=\"dataframe\">\n",
       "  <thead>\n",
       "    <tr style=\"text-align: right;\">\n",
       "      <th></th>\n",
       "      <th>status_of_bank</th>\n",
       "      <th>acc_duration</th>\n",
       "      <th>credit_history</th>\n",
       "      <th>purpose</th>\n",
       "      <th>credit_amount</th>\n",
       "      <th>savings_account</th>\n",
       "      <th>employment</th>\n",
       "      <th>installment_rate</th>\n",
       "      <th>personal_status</th>\n",
       "      <th>other_applicant</th>\n",
       "      <th>...</th>\n",
       "      <th>property</th>\n",
       "      <th>age</th>\n",
       "      <th>other_installment</th>\n",
       "      <th>housing</th>\n",
       "      <th>number_of_existingcredits</th>\n",
       "      <th>job</th>\n",
       "      <th>no_of_people</th>\n",
       "      <th>telephone</th>\n",
       "      <th>foreign_worker</th>\n",
       "      <th>output</th>\n",
       "    </tr>\n",
       "  </thead>\n",
       "  <tbody>\n",
       "    <tr>\n",
       "      <th>0</th>\n",
       "      <td>A11</td>\n",
       "      <td>6</td>\n",
       "      <td>A34</td>\n",
       "      <td>A43</td>\n",
       "      <td>1169</td>\n",
       "      <td>A65</td>\n",
       "      <td>A75</td>\n",
       "      <td>4</td>\n",
       "      <td>A93</td>\n",
       "      <td>A101</td>\n",
       "      <td>...</td>\n",
       "      <td>A121</td>\n",
       "      <td>67</td>\n",
       "      <td>A143</td>\n",
       "      <td>A152</td>\n",
       "      <td>2</td>\n",
       "      <td>A173</td>\n",
       "      <td>1</td>\n",
       "      <td>A192</td>\n",
       "      <td>A201</td>\n",
       "      <td>1</td>\n",
       "    </tr>\n",
       "    <tr>\n",
       "      <th>1</th>\n",
       "      <td>A12</td>\n",
       "      <td>48</td>\n",
       "      <td>A32</td>\n",
       "      <td>A43</td>\n",
       "      <td>5951</td>\n",
       "      <td>A61</td>\n",
       "      <td>A73</td>\n",
       "      <td>2</td>\n",
       "      <td>A92</td>\n",
       "      <td>A101</td>\n",
       "      <td>...</td>\n",
       "      <td>A121</td>\n",
       "      <td>22</td>\n",
       "      <td>A143</td>\n",
       "      <td>A152</td>\n",
       "      <td>1</td>\n",
       "      <td>A173</td>\n",
       "      <td>1</td>\n",
       "      <td>A191</td>\n",
       "      <td>A201</td>\n",
       "      <td>2</td>\n",
       "    </tr>\n",
       "    <tr>\n",
       "      <th>2</th>\n",
       "      <td>A14</td>\n",
       "      <td>12</td>\n",
       "      <td>A34</td>\n",
       "      <td>A46</td>\n",
       "      <td>2096</td>\n",
       "      <td>A61</td>\n",
       "      <td>A74</td>\n",
       "      <td>2</td>\n",
       "      <td>A93</td>\n",
       "      <td>A101</td>\n",
       "      <td>...</td>\n",
       "      <td>A121</td>\n",
       "      <td>49</td>\n",
       "      <td>A143</td>\n",
       "      <td>A152</td>\n",
       "      <td>1</td>\n",
       "      <td>A172</td>\n",
       "      <td>2</td>\n",
       "      <td>A191</td>\n",
       "      <td>A201</td>\n",
       "      <td>1</td>\n",
       "    </tr>\n",
       "    <tr>\n",
       "      <th>3</th>\n",
       "      <td>A11</td>\n",
       "      <td>42</td>\n",
       "      <td>A32</td>\n",
       "      <td>A42</td>\n",
       "      <td>7882</td>\n",
       "      <td>A61</td>\n",
       "      <td>A74</td>\n",
       "      <td>2</td>\n",
       "      <td>A93</td>\n",
       "      <td>A103</td>\n",
       "      <td>...</td>\n",
       "      <td>A122</td>\n",
       "      <td>45</td>\n",
       "      <td>A143</td>\n",
       "      <td>A153</td>\n",
       "      <td>1</td>\n",
       "      <td>A173</td>\n",
       "      <td>2</td>\n",
       "      <td>A191</td>\n",
       "      <td>A201</td>\n",
       "      <td>1</td>\n",
       "    </tr>\n",
       "    <tr>\n",
       "      <th>4</th>\n",
       "      <td>A11</td>\n",
       "      <td>24</td>\n",
       "      <td>A33</td>\n",
       "      <td>A40</td>\n",
       "      <td>4870</td>\n",
       "      <td>A61</td>\n",
       "      <td>A73</td>\n",
       "      <td>3</td>\n",
       "      <td>A93</td>\n",
       "      <td>A101</td>\n",
       "      <td>...</td>\n",
       "      <td>A124</td>\n",
       "      <td>53</td>\n",
       "      <td>A143</td>\n",
       "      <td>A153</td>\n",
       "      <td>2</td>\n",
       "      <td>A173</td>\n",
       "      <td>2</td>\n",
       "      <td>A191</td>\n",
       "      <td>A201</td>\n",
       "      <td>2</td>\n",
       "    </tr>\n",
       "  </tbody>\n",
       "</table>\n",
       "<p>5 rows × 21 columns</p>\n",
       "</div>"
      ],
      "text/plain": [
       "  status_of_bank  acc_duration credit_history purpose  credit_amount  \\\n",
       "0            A11             6            A34     A43           1169   \n",
       "1            A12            48            A32     A43           5951   \n",
       "2            A14            12            A34     A46           2096   \n",
       "3            A11            42            A32     A42           7882   \n",
       "4            A11            24            A33     A40           4870   \n",
       "\n",
       "  savings_account employment  installment_rate personal_status  \\\n",
       "0             A65        A75                 4             A93   \n",
       "1             A61        A73                 2             A92   \n",
       "2             A61        A74                 2             A93   \n",
       "3             A61        A74                 2             A93   \n",
       "4             A61        A73                 3             A93   \n",
       "\n",
       "  other_applicant  ...  property age  other_installment housing  \\\n",
       "0            A101  ...      A121  67               A143    A152   \n",
       "1            A101  ...      A121  22               A143    A152   \n",
       "2            A101  ...      A121  49               A143    A152   \n",
       "3            A103  ...      A122  45               A143    A153   \n",
       "4            A101  ...      A124  53               A143    A153   \n",
       "\n",
       "  number_of_existingcredits   job no_of_people  telephone foreign_worker  \\\n",
       "0                         2  A173            1       A192           A201   \n",
       "1                         1  A173            1       A191           A201   \n",
       "2                         1  A172            2       A191           A201   \n",
       "3                         1  A173            2       A191           A201   \n",
       "4                         2  A173            2       A191           A201   \n",
       "\n",
       "  output  \n",
       "0      1  \n",
       "1      2  \n",
       "2      1  \n",
       "3      1  \n",
       "4      2  \n",
       "\n",
       "[5 rows x 21 columns]"
      ]
     },
     "execution_count": 4,
     "metadata": {},
     "output_type": "execute_result"
    }
   ],
   "source": [
    "df.head()"
   ]
  },
  {
   "cell_type": "code",
   "execution_count": 5,
   "id": "5c23f466",
   "metadata": {},
   "outputs": [
    {
     "data": {
      "text/plain": [
       "status_of_bank               object\n",
       "acc_duration                  int64\n",
       "credit_history               object\n",
       "purpose                      object\n",
       "credit_amount                 int64\n",
       "savings_account              object\n",
       "employment                   object\n",
       "installment_rate              int64\n",
       "personal_status              object\n",
       "other_applicant              object\n",
       "present_residence             int64\n",
       "property                     object\n",
       "age                           int64\n",
       "other_installment            object\n",
       "housing                      object\n",
       "number_of_existingcredits     int64\n",
       "job                          object\n",
       "no_of_people                  int64\n",
       "telephone                    object\n",
       "foreign_worker               object\n",
       "output                        int64\n",
       "dtype: object"
      ]
     },
     "execution_count": 5,
     "metadata": {},
     "output_type": "execute_result"
    }
   ],
   "source": [
    "df.dtypes"
   ]
  },
  {
   "cell_type": "code",
   "execution_count": 6,
   "id": "eeb1f0c8",
   "metadata": {},
   "outputs": [
    {
     "data": {
      "text/plain": [
       "<AxesSubplot:>"
      ]
     },
     "execution_count": 6,
     "metadata": {},
     "output_type": "execute_result"
    },
    {
     "data": {
      "image/png": "[encoded data removed]",
      "text/plain": [
       "<Figure size 432x288 with 2 Axes>"
      ]
     },
     "metadata": {
      "needs_background": "light"
     },
     "output_type": "display_data"
    }
   ],
   "source": [
    "sns.heatmap(data=df.corr(), annot=True)"
   ]
  },
  {
   "cell_type": "code",
   "execution_count": 7,
   "id": "ea0470c2",
   "metadata": {},
   "outputs": [],
   "source": [
    "label_encoder = preprocessing.LabelEncoder()"
   ]
  },
  {
   "cell_type": "code",
   "execution_count": 8,
   "id": "1ebb87e9",
   "metadata": {},
   "outputs": [],
   "source": [
    "list1 = ['status_of_bank', 'credit_history', 'purpose', 'savings_account', \n",
    "          'employment', 'personal_status', 'other_applicant', 'property',\n",
    "          'other_installment', 'housing', 'job', 'telephone', 'foreign_worker']"
   ]
  },
  {
   "cell_type": "code",
   "execution_count": 9,
   "id": "4df94d81",
   "metadata": {},
   "outputs": [],
   "source": [
    "df1 = df.copy()"
   ]
  },
  {
   "cell_type": "code",
   "execution_count": 10,
   "id": "cb49f88b",
   "metadata": {},
   "outputs": [],
   "source": [
    "def ft(col):\n",
    "    df1[col] = label_encoder.fit_transform(df1[col])"
   ]
  },
  {
   "cell_type": "code",
   "execution_count": 11,
   "id": "fe73dc9f",
   "metadata": {},
   "outputs": [],
   "source": [
    "for i in list1:\n",
    "    ft(i)"
   ]
  },
  {
   "cell_type": "code",
   "execution_count": 12,
   "id": "54110ae9",
   "metadata": {},
   "outputs": [
    {
     "data": {
      "text/html": [
       "<div>\n",
       "<style scoped>\n",
       "    .dataframe tbody tr th:only-of-type {\n",
       "        vertical-align: middle;\n",
       "    }\n",
       "\n",
       "    .dataframe tbody tr th {\n",
       "        vertical-align: top;\n",
       "    }\n",
       "\n",
       "    .dataframe thead th {\n",
       "        text-align: right;\n",
       "    }\n",
       "</style>\n",
       "<table border=\"1\" class=\"dataframe\">\n",
       "  <thead>\n",
       "    <tr style=\"text-align: right;\">\n",
       "      <th></th>\n",
       "      <th>status_of_bank</th>\n",
       "      <th>acc_duration</th>\n",
       "      <th>credit_history</th>\n",
       "      <th>purpose</th>\n",
       "      <th>credit_amount</th>\n",
       "      <th>savings_account</th>\n",
       "      <th>employment</th>\n",
       "      <th>installment_rate</th>\n",
       "      <th>personal_status</th>\n",
       "      <th>other_applicant</th>\n",
       "      <th>...</th>\n",
       "      <th>property</th>\n",
       "      <th>age</th>\n",
       "      <th>other_installment</th>\n",
       "      <th>housing</th>\n",
       "      <th>number_of_existingcredits</th>\n",
       "      <th>job</th>\n",
       "      <th>no_of_people</th>\n",
       "      <th>telephone</th>\n",
       "      <th>foreign_worker</th>\n",
       "      <th>output</th>\n",
       "    </tr>\n",
       "  </thead>\n",
       "  <tbody>\n",
       "    <tr>\n",
       "      <th>0</th>\n",
       "      <td>0</td>\n",
       "      <td>6</td>\n",
       "      <td>4</td>\n",
       "      <td>4</td>\n",
       "      <td>1169</td>\n",
       "      <td>4</td>\n",
       "      <td>4</td>\n",
       "      <td>4</td>\n",
       "      <td>2</td>\n",
       "      <td>0</td>\n",
       "      <td>...</td>\n",
       "      <td>0</td>\n",
       "      <td>67</td>\n",
       "      <td>2</td>\n",
       "      <td>1</td>\n",
       "      <td>2</td>\n",
       "      <td>2</td>\n",
       "      <td>1</td>\n",
       "      <td>1</td>\n",
       "      <td>0</td>\n",
       "      <td>1</td>\n",
       "    </tr>\n",
       "    <tr>\n",
       "      <th>1</th>\n",
       "      <td>1</td>\n",
       "      <td>48</td>\n",
       "      <td>2</td>\n",
       "      <td>4</td>\n",
       "      <td>5951</td>\n",
       "      <td>0</td>\n",
       "      <td>2</td>\n",
       "      <td>2</td>\n",
       "      <td>1</td>\n",
       "      <td>0</td>\n",
       "      <td>...</td>\n",
       "      <td>0</td>\n",
       "      <td>22</td>\n",
       "      <td>2</td>\n",
       "      <td>1</td>\n",
       "      <td>1</td>\n",
       "      <td>2</td>\n",
       "      <td>1</td>\n",
       "      <td>0</td>\n",
       "      <td>0</td>\n",
       "      <td>2</td>\n",
       "    </tr>\n",
       "    <tr>\n",
       "      <th>2</th>\n",
       "      <td>3</td>\n",
       "      <td>12</td>\n",
       "      <td>4</td>\n",
       "      <td>7</td>\n",
       "      <td>2096</td>\n",
       "      <td>0</td>\n",
       "      <td>3</td>\n",
       "      <td>2</td>\n",
       "      <td>2</td>\n",
       "      <td>0</td>\n",
       "      <td>...</td>\n",
       "      <td>0</td>\n",
       "      <td>49</td>\n",
       "      <td>2</td>\n",
       "      <td>1</td>\n",
       "      <td>1</td>\n",
       "      <td>1</td>\n",
       "      <td>2</td>\n",
       "      <td>0</td>\n",
       "      <td>0</td>\n",
       "      <td>1</td>\n",
       "    </tr>\n",
       "    <tr>\n",
       "      <th>3</th>\n",
       "      <td>0</td>\n",
       "      <td>42</td>\n",
       "      <td>2</td>\n",
       "      <td>3</td>\n",
       "      <td>7882</td>\n",
       "      <td>0</td>\n",
       "      <td>3</td>\n",
       "      <td>2</td>\n",
       "      <td>2</td>\n",
       "      <td>2</td>\n",
       "      <td>...</td>\n",
       "      <td>1</td>\n",
       "      <td>45</td>\n",
       "      <td>2</td>\n",
       "      <td>2</td>\n",
       "      <td>1</td>\n",
       "      <td>2</td>\n",
       "      <td>2</td>\n",
       "      <td>0</td>\n",
       "      <td>0</td>\n",
       "      <td>1</td>\n",
       "    </tr>\n",
       "    <tr>\n",
       "      <th>4</th>\n",
       "      <td>0</td>\n",
       "      <td>24</td>\n",
       "      <td>3</td>\n",
       "      <td>0</td>\n",
       "      <td>4870</td>\n",
       "      <td>0</td>\n",
       "      <td>2</td>\n",
       "      <td>3</td>\n",
       "      <td>2</td>\n",
       "      <td>0</td>\n",
       "      <td>...</td>\n",
       "      <td>3</td>\n",
       "      <td>53</td>\n",
       "      <td>2</td>\n",
       "      <td>2</td>\n",
       "      <td>2</td>\n",
       "      <td>2</td>\n",
       "      <td>2</td>\n",
       "      <td>0</td>\n",
       "      <td>0</td>\n",
       "      <td>2</td>\n",
       "    </tr>\n",
       "  </tbody>\n",
       "</table>\n",
       "<p>5 rows × 21 columns</p>\n",
       "</div>"
      ],
      "text/plain": [
       "   status_of_bank  acc_duration  credit_history  purpose  credit_amount  \\\n",
       "0               0             6               4        4           1169   \n",
       "1               1            48               2        4           5951   \n",
       "2               3            12               4        7           2096   \n",
       "3               0            42               2        3           7882   \n",
       "4               0            24               3        0           4870   \n",
       "\n",
       "   savings_account  employment  installment_rate  personal_status  \\\n",
       "0                4           4                 4                2   \n",
       "1                0           2                 2                1   \n",
       "2                0           3                 2                2   \n",
       "3                0           3                 2                2   \n",
       "4                0           2                 3                2   \n",
       "\n",
       "   other_applicant  ...  property  age  other_installment  housing  \\\n",
       "0                0  ...         0   67                  2        1   \n",
       "1                0  ...         0   22                  2        1   \n",
       "2                0  ...         0   49                  2        1   \n",
       "3                2  ...         1   45                  2        2   \n",
       "4                0  ...         3   53                  2        2   \n",
       "\n",
       "   number_of_existingcredits  job  no_of_people  telephone  foreign_worker  \\\n",
       "0                          2    2             1          1               0   \n",
       "1                          1    2             1          0               0   \n",
       "2                          1    1             2          0               0   \n",
       "3                          1    2             2          0               0   \n",
       "4                          2    2             2          0               0   \n",
       "\n",
       "   output  \n",
       "0       1  \n",
       "1       2  \n",
       "2       1  \n",
       "3       1  \n",
       "4       2  \n",
       "\n",
       "[5 rows x 21 columns]"
      ]
     },
     "execution_count": 12,
     "metadata": {},
     "output_type": "execute_result"
    }
   ],
   "source": [
    "df1.head()"
   ]
  },
  {
   "cell_type": "code",
   "execution_count": 13,
   "id": "034cac5e",
   "metadata": {},
   "outputs": [
    {
     "data": {
      "text/plain": [
       "status_of_bank               int32\n",
       "acc_duration                 int64\n",
       "credit_history               int32\n",
       "purpose                      int32\n",
       "credit_amount                int64\n",
       "savings_account              int32\n",
       "employment                   int32\n",
       "installment_rate             int64\n",
       "personal_status              int32\n",
       "other_applicant              int32\n",
       "present_residence            int64\n",
       "property                     int32\n",
       "age                          int64\n",
       "other_installment            int32\n",
       "housing                      int32\n",
       "number_of_existingcredits    int64\n",
       "job                          int32\n",
       "no_of_people                 int64\n",
       "telephone                    int32\n",
       "foreign_worker               int32\n",
       "output                       int64\n",
       "dtype: object"
      ]
     },
     "execution_count": 13,
     "metadata": {},
     "output_type": "execute_result"
    }
   ],
   "source": [
    "df1.dtypes"
   ]
  },
  {
   "cell_type": "code",
   "execution_count": 14,
   "id": "e3098a1b",
   "metadata": {},
   "outputs": [
    {
     "data": {
      "text/html": [
       "<div>\n",
       "<style scoped>\n",
       "    .dataframe tbody tr th:only-of-type {\n",
       "        vertical-align: middle;\n",
       "    }\n",
       "\n",
       "    .dataframe tbody tr th {\n",
       "        vertical-align: top;\n",
       "    }\n",
       "\n",
       "    .dataframe thead th {\n",
       "        text-align: right;\n",
       "    }\n",
       "</style>\n",
       "<table border=\"1\" class=\"dataframe\">\n",
       "  <thead>\n",
       "    <tr style=\"text-align: right;\">\n",
       "      <th></th>\n",
       "      <th>status_of_bank</th>\n",
       "      <th>acc_duration</th>\n",
       "      <th>credit_history</th>\n",
       "      <th>purpose</th>\n",
       "      <th>credit_amount</th>\n",
       "      <th>savings_account</th>\n",
       "      <th>employment</th>\n",
       "      <th>installment_rate</th>\n",
       "      <th>personal_status</th>\n",
       "      <th>other_applicant</th>\n",
       "      <th>present_residence</th>\n",
       "      <th>property</th>\n",
       "      <th>age</th>\n",
       "      <th>other_installment</th>\n",
       "      <th>housing</th>\n",
       "      <th>number_of_existingcredits</th>\n",
       "      <th>job</th>\n",
       "      <th>no_of_people</th>\n",
       "      <th>telephone</th>\n",
       "      <th>foreign_worker</th>\n",
       "    </tr>\n",
       "  </thead>\n",
       "  <tbody>\n",
       "    <tr>\n",
       "      <th>0</th>\n",
       "      <td>0</td>\n",
       "      <td>6</td>\n",
       "      <td>4</td>\n",
       "      <td>4</td>\n",
       "      <td>1169</td>\n",
       "      <td>4</td>\n",
       "      <td>4</td>\n",
       "      <td>4</td>\n",
       "      <td>2</td>\n",
       "      <td>0</td>\n",
       "      <td>4</td>\n",
       "      <td>0</td>\n",
       "      <td>67</td>\n",
       "      <td>2</td>\n",
       "      <td>1</td>\n",
       "      <td>2</td>\n",
       "      <td>2</td>\n",
       "      <td>1</td>\n",
       "      <td>1</td>\n",
       "      <td>0</td>\n",
       "    </tr>\n",
       "    <tr>\n",
       "      <th>1</th>\n",
       "      <td>1</td>\n",
       "      <td>48</td>\n",
       "      <td>2</td>\n",
       "      <td>4</td>\n",
       "      <td>5951</td>\n",
       "      <td>0</td>\n",
       "      <td>2</td>\n",
       "      <td>2</td>\n",
       "      <td>1</td>\n",
       "      <td>0</td>\n",
       "      <td>2</td>\n",
       "      <td>0</td>\n",
       "      <td>22</td>\n",
       "      <td>2</td>\n",
       "      <td>1</td>\n",
       "      <td>1</td>\n",
       "      <td>2</td>\n",
       "      <td>1</td>\n",
       "      <td>0</td>\n",
       "      <td>0</td>\n",
       "    </tr>\n",
       "    <tr>\n",
       "      <th>2</th>\n",
       "      <td>3</td>\n",
       "      <td>12</td>\n",
       "      <td>4</td>\n",
       "      <td>7</td>\n",
       "      <td>2096</td>\n",
       "      <td>0</td>\n",
       "      <td>3</td>\n",
       "      <td>2</td>\n",
       "      <td>2</td>\n",
       "      <td>0</td>\n",
       "      <td>3</td>\n",
       "      <td>0</td>\n",
       "      <td>49</td>\n",
       "      <td>2</td>\n",
       "      <td>1</td>\n",
       "      <td>1</td>\n",
       "      <td>1</td>\n",
       "      <td>2</td>\n",
       "      <td>0</td>\n",
       "      <td>0</td>\n",
       "    </tr>\n",
       "    <tr>\n",
       "      <th>3</th>\n",
       "      <td>0</td>\n",
       "      <td>42</td>\n",
       "      <td>2</td>\n",
       "      <td>3</td>\n",
       "      <td>7882</td>\n",
       "      <td>0</td>\n",
       "      <td>3</td>\n",
       "      <td>2</td>\n",
       "      <td>2</td>\n",
       "      <td>2</td>\n",
       "      <td>4</td>\n",
       "      <td>1</td>\n",
       "      <td>45</td>\n",
       "      <td>2</td>\n",
       "      <td>2</td>\n",
       "      <td>1</td>\n",
       "      <td>2</td>\n",
       "      <td>2</td>\n",
       "      <td>0</td>\n",
       "      <td>0</td>\n",
       "    </tr>\n",
       "    <tr>\n",
       "      <th>4</th>\n",
       "      <td>0</td>\n",
       "      <td>24</td>\n",
       "      <td>3</td>\n",
       "      <td>0</td>\n",
       "      <td>4870</td>\n",
       "      <td>0</td>\n",
       "      <td>2</td>\n",
       "      <td>3</td>\n",
       "      <td>2</td>\n",
       "      <td>0</td>\n",
       "      <td>4</td>\n",
       "      <td>3</td>\n",
       "      <td>53</td>\n",
       "      <td>2</td>\n",
       "      <td>2</td>\n",
       "      <td>2</td>\n",
       "      <td>2</td>\n",
       "      <td>2</td>\n",
       "      <td>0</td>\n",
       "      <td>0</td>\n",
       "    </tr>\n",
       "  </tbody>\n",
       "</table>\n",
       "</div>"
      ],
      "text/plain": [
       "   status_of_bank  acc_duration  credit_history  purpose  credit_amount  \\\n",
       "0               0             6               4        4           1169   \n",
       "1               1            48               2        4           5951   \n",
       "2               3            12               4        7           2096   \n",
       "3               0            42               2        3           7882   \n",
       "4               0            24               3        0           4870   \n",
       "\n",
       "   savings_account  employment  installment_rate  personal_status  \\\n",
       "0                4           4                 4                2   \n",
       "1                0           2                 2                1   \n",
       "2                0           3                 2                2   \n",
       "3                0           3                 2                2   \n",
       "4                0           2                 3                2   \n",
       "\n",
       "   other_applicant  present_residence  property  age  other_installment  \\\n",
       "0                0                  4         0   67                  2   \n",
       "1                0                  2         0   22                  2   \n",
       "2                0                  3         0   49                  2   \n",
       "3                2                  4         1   45                  2   \n",
       "4                0                  4         3   53                  2   \n",
       "\n",
       "   housing  number_of_existingcredits  job  no_of_people  telephone  \\\n",
       "0        1                          2    2             1          1   \n",
       "1        1                          1    2             1          0   \n",
       "2        1                          1    1             2          0   \n",
       "3        2                          1    2             2          0   \n",
       "4        2                          2    2             2          0   \n",
       "\n",
       "   foreign_worker  \n",
       "0               0  \n",
       "1               0  \n",
       "2               0  \n",
       "3               0  \n",
       "4               0  "
      ]
     },
     "execution_count": 14,
     "metadata": {},
     "output_type": "execute_result"
    }
   ],
   "source": [
    "X = df1.drop('output', axis=1)\n",
    "X.head()"
   ]
  },
  {
   "cell_type": "code",
   "execution_count": 15,
   "id": "9bc96a23",
   "metadata": {},
   "outputs": [
    {
     "data": {
      "text/plain": [
       "0      1\n",
       "1      2\n",
       "2      1\n",
       "3      1\n",
       "4      2\n",
       "      ..\n",
       "995    1\n",
       "996    1\n",
       "997    1\n",
       "998    2\n",
       "999    1\n",
       "Name: output, Length: 1000, dtype: int64"
      ]
     },
     "execution_count": 15,
     "metadata": {},
     "output_type": "execute_result"
    }
   ],
   "source": [
    "Y = df1['output']\n",
    "Y"
   ]
  },
  {
   "cell_type": "code",
   "execution_count": 16,
   "id": "257522a4",
   "metadata": {},
   "outputs": [],
   "source": [
    "X_train, X_test, y_train, y_test = train_test_split(X, Y, test_size=0.2, random_state=42)"
   ]
  },
  {
   "cell_type": "markdown",
   "id": "3457e282",
   "metadata": {},
   "source": [
    "### Exercise 1: Support for both categorical and ordered features.\n",
    "### Exercise 2: Support for both discrete and continuous ordered features."
   ]
  },
  {
   "cell_type": "code",
   "execution_count": 17,
   "id": "aeea1605",
   "metadata": {},
   "outputs": [
    {
     "data": {
      "text/plain": [
       "GaussianNB()"
      ]
     },
     "execution_count": 17,
     "metadata": {},
     "output_type": "execute_result"
    }
   ],
   "source": [
    "nbc = GaussianNB()\n",
    "nbc.fit(X_train, y_train)"
   ]
  },
  {
   "cell_type": "code",
   "execution_count": 18,
   "id": "cd2f6414",
   "metadata": {},
   "outputs": [],
   "source": [
    "nb_pred = nbc.predict(X_test)"
   ]
  },
  {
   "cell_type": "markdown",
   "id": "5a109ae8",
   "metadata": {},
   "source": [
    "### Exercise 3: Perform SVC and Logistic Regression\n"
   ]
  },
  {
   "cell_type": "code",
   "execution_count": 19,
   "id": "a24e0f06",
   "metadata": {},
   "outputs": [
    {
     "data": {
      "text/plain": [
       "SVC()"
      ]
     },
     "execution_count": 19,
     "metadata": {},
     "output_type": "execute_result"
    }
   ],
   "source": [
    "svc = SVC()\n",
    "svc.fit(X_train, y_train)"
   ]
  },
  {
   "cell_type": "code",
   "execution_count": 20,
   "id": "4a540770",
   "metadata": {},
   "outputs": [],
   "source": [
    "svc_pred = svc.predict(X_test)"
   ]
  },
  {
   "cell_type": "code",
   "execution_count": 22,
   "id": "f734fa27",
   "metadata": {},
   "outputs": [
    {
     "data": {
      "text/plain": [
       "0.715"
      ]
     },
     "execution_count": 22,
     "metadata": {},
     "output_type": "execute_result"
    }
   ],
   "source": [
    "svc.score(X_test, y_test)"
   ]
  },
  {
   "cell_type": "code",
   "execution_count": 24,
   "id": "d92c35fc",
   "metadata": {},
   "outputs": [
    {
     "data": {
      "text/plain": [
       "LogisticRegression(solver='liblinear')"
      ]
     },
     "execution_count": 24,
     "metadata": {},
     "output_type": "execute_result"
    }
   ],
   "source": [
    "lrc = LogisticRegression(solver = 'liblinear')\n",
    "lrc.fit(X_train, y_train)"
   ]
  },
  {
   "cell_type": "code",
   "execution_count": 25,
   "id": "cec160a2",
   "metadata": {},
   "outputs": [],
   "source": [
    "lrc_pred = lrc.predict(X_test)"
   ]
  },
  {
   "cell_type": "code",
   "execution_count": 26,
   "id": "566c381d",
   "metadata": {},
   "outputs": [
    {
     "data": {
      "text/plain": [
       "0.775"
      ]
     },
     "execution_count": 26,
     "metadata": {},
     "output_type": "execute_result"
    }
   ],
   "source": [
    "lrc.score(X_test, y_test)"
   ]
  },
  {
   "cell_type": "markdown",
   "id": "16b1cbb9",
   "metadata": {},
   "source": [
    "### Exercise 4: Compare results with Naïve Bayes in terms of Accuracy, F1-Score, Precision, Recall, and AUC\n"
   ]
  },
  {
   "cell_type": "code",
   "execution_count": 27,
   "id": "f448ab38",
   "metadata": {},
   "outputs": [],
   "source": [
    "def performance(y_true, y_pred, model):\n",
    "    acc = accuracy_score(y_true, y_pred)\n",
    "    f1 = f1_score(y_true, y_pred, average='weighted')\n",
    "    prec = precision_score(y_true, y_pred, average='weighted')\n",
    "    recall = recall_score(y_true, y_pred, average='weighted')\n",
    "    auc = roc_auc_score(y_true, y_pred)\n",
    "    return acc,f1,prec,recall,auc"
   ]
  },
  {
   "cell_type": "code",
   "execution_count": 28,
   "id": "7de9691a",
   "metadata": {},
   "outputs": [],
   "source": [
    "nbc1 = performance(y_test, nb_pred, 'Naïve Bayes') \n",
    "svc1 = performance(y_test, svc_pred, 'SVC') \n",
    "lrc1 = performance(y_test, lrc_pred, 'Logistic Regression') "
   ]
  },
  {
   "cell_type": "code",
   "execution_count": 29,
   "id": "16aa4687",
   "metadata": {},
   "outputs": [
    {
     "data": {
      "text/plain": [
       "[(0.71, 0.7159972426470589, 0.7254773758159088, 0.71, 0.6760427936050006),\n",
       " (0.715, 0.6138519146531016, 0.7248214285714286, 0.715, 0.5218776295227792),\n",
       " (0.775, 0.764298323036187, 0.763854895104895, 0.775, 0.6925712225027046)]"
      ]
     },
     "execution_count": 29,
     "metadata": {},
     "output_type": "execute_result"
    }
   ],
   "source": [
    "temp = [nbc1, svc1, lrc1]\n",
    "temp"
   ]
  },
  {
   "cell_type": "code",
   "execution_count": 30,
   "id": "973a7e88",
   "metadata": {},
   "outputs": [
    {
     "data": {
      "text/plain": [
       "0.71"
      ]
     },
     "execution_count": 30,
     "metadata": {},
     "output_type": "execute_result"
    }
   ],
   "source": [
    "temp[0][0]"
   ]
  },
  {
   "cell_type": "code",
   "execution_count": 31,
   "id": "d68706a0",
   "metadata": {},
   "outputs": [],
   "source": [
    "accs = []\n",
    "f1s = []\n",
    "precs = []\n",
    "recalls = []\n",
    "aucs = []\n",
    "names = ['Naive Bayes', 'SVM', 'Logistic Reg']"
   ]
  },
  {
   "cell_type": "code",
   "execution_count": 32,
   "id": "8a44bc0b",
   "metadata": {},
   "outputs": [],
   "source": [
    "for i in range(len(temp)):\n",
    "    accs.append(temp[i][0])\n",
    "    f1s.append(temp[i][1])\n",
    "    precs.append(temp[i][2])\n",
    "    recalls.append(temp[i][3])\n",
    "    aucs.append(temp[i][4])"
   ]
  },
  {
   "cell_type": "code",
   "execution_count": 33,
   "id": "7502f7ba",
   "metadata": {},
   "outputs": [
    {
     "data": {
      "image/png": "[encoded data removed]",
      "text/plain": [
       "<Figure size 1152x576 with 5 Axes>"
      ]
     },
     "metadata": {
      "needs_background": "light"
     },
     "output_type": "display_data"
    }
   ],
   "source": [
    "plt.figure(figsize=(16,8))\n",
    "plt.subplot(2,3,1)\n",
    "plt.plot(names, accs)\n",
    "plt.xlabel(\"Algorithm\")\n",
    "plt.ylabel(\"Accuracy\")\n",
    "\n",
    "plt.subplot(2,3,2)\n",
    "plt.plot(names, f1s)\n",
    "plt.xlabel(\"Algorithm\")\n",
    "plt.ylabel(\"F1 Score\")\n",
    "\n",
    "plt.subplot(2,3,3)\n",
    "plt.plot(names, precs)\n",
    "plt.xlabel(\"Algorithm\")\n",
    "plt.ylabel(\"Precision\")\n",
    "\n",
    "plt.subplot(2,3,4)\n",
    "plt.plot(names, recalls)\n",
    "plt.xlabel(\"Algorithm\")\n",
    "plt.ylabel(\"Recall\")\n",
    "\n",
    "plt.subplot(2,3,5)\n",
    "plt.plot(names, aucs)\n",
    "plt.xlabel(\"Algorithm\")\n",
    "plt.ylabel(\"AUC Score\")\n",
    "plt.show()"
   ]
  },
  {
   "cell_type": "markdown",
   "id": "86352de0",
   "metadata": {},
   "source": [
    "### Exercise 5: From Exercise 4, analyze which model turns out to be overfitting and why?  \n",
    "#### Here NBC might be overfitting becasue its training accuracy is greater than the testing accuracy."
   ]
  },
  {
   "cell_type": "code",
   "execution_count": 34,
   "id": "58b70ae0",
   "metadata": {},
   "outputs": [],
   "source": [
    "svc_train_pred = svc.predict(X_train)\n",
    "nbc_train_pred = nbc.predict(X_train)"
   ]
  },
  {
   "cell_type": "code",
   "execution_count": 35,
   "id": "88f119de",
   "metadata": {},
   "outputs": [],
   "source": [
    "svc_test_pred = svc.predict(X_test)\n",
    "nbc_test_pred = nbc.predict(X_test)"
   ]
  },
  {
   "cell_type": "code",
   "execution_count": 36,
   "id": "adba794b",
   "metadata": {},
   "outputs": [],
   "source": [
    "def comparison(yt, yp, dataset):\n",
    "    accuracy = accuracy_score(yt, yp)\n",
    "    f1 = f1_score(yt, yp)\n",
    "    precision = precision_score(yt, yp)\n",
    "    recall = recall_score(yt, yp)\n",
    "    \n",
    "    print(\"Accuracy :\",dataset, accuracy)\n",
    "    print()"
   ]
  },
  {
   "cell_type": "code",
   "execution_count": 37,
   "id": "f9c8222d",
   "metadata": {},
   "outputs": [
    {
     "name": "stdout",
     "output_type": "stream",
     "text": [
      "Accuracy : SVM Training Data 0.7075\n",
      "\n",
      "Accuracy :  SVM Testing Data 0.715\n",
      "\n",
      "Accuracy : NBC Training Data 0.74125\n",
      "\n",
      "Accuracy :  NBC Testing Data 0.71\n",
      "\n"
     ]
    }
   ],
   "source": [
    "# on SVM data\n",
    "comparison(y_train, svc_train_pred, \"SVM Training Data\")\n",
    "comparison(y_test, svc_test_pred, \" SVM Testing Data\")\n",
    "\n",
    "# on NBC data\n",
    "comparison(y_train, nbc_train_pred, \"NBC Training Data\")\n",
    "comparison(y_test, nbc_test_pred, \" NBC Testing Data\")"
   ]
  },
  {
   "cell_type": "code",
   "execution_count": null,
   "id": "8b00ba02",
   "metadata": {},
   "outputs": [],
   "source": []
  }
 ],
 "metadata": {
  "kernelspec": {
   "display_name": "Python 3 (ipykernel)",
   "language": "python",
   "name": "python3"
  },
  "language_info": {
   "codemirror_mode": {
    "name": "ipython",
    "version": 3
   },
   "file_extension": ".py",
   "mimetype": "text/x-python",
   "name": "python",
   "nbconvert_exporter": "python",
   "pygments_lexer": "ipython3",
   "version": "3.9.7"
  }
 },
 "nbformat": 4,
 "nbformat_minor": 5
}
