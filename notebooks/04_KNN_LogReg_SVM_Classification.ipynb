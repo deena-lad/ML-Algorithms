{
 "cells": [
  {
   "cell_type": "markdown",
   "id": "7c8aae64",
   "metadata": {},
   "source": [
    "## PRML Assigment 4"
   ]
  },
  {
   "cell_type": "code",
   "execution_count": 1,
   "id": "b72f13b6",
   "metadata": {},
   "outputs": [
    {
     "name": "stderr",
     "output_type": "stream",
     "text": [
      "C:\\Users\\Deena\\anaconda3\\lib\\site-packages\\scipy\\__init__.py:146: UserWarning: A NumPy version >=1.16.5 and <1.23.0 is required for this version of SciPy (detected version 1.24.3\n",
      "  warnings.warn(f\"A NumPy version >={np_minversion} and <{np_maxversion}\"\n"
     ]
    }
   ],
   "source": [
    "import numpy as np\n",
    "import pandas as pd\n",
    "import matplotlib.pyplot as plt\n",
    "import seaborn as sns\n",
    "from sklearn.model_selection import train_test_split, GridSearchCV\n",
    "from sklearn.preprocessing import LabelEncoder\n",
    "from sklearn.neighbors import KNeighborsClassifier\n",
    "from sklearn.linear_model import LogisticRegression\n",
    "from sklearn.svm import SVC\n",
    "from sklearn.preprocessing import StandardScaler\n",
    "from sklearn.metrics import accuracy_score, f1_score, precision_score, recall_score,confusion_matrix\n",
    "from sklearn.metrics import roc_curve, roc_auc_score"
   ]
  },
  {
   "cell_type": "code",
   "execution_count": 2,
   "id": "670bd7aa",
   "metadata": {},
   "outputs": [],
   "source": [
    "# loading data\n",
    "df1 = pd.read_csv(r\"C:\\Users\\Deena\\Downloads\\breast+cancer\\breast-cancer.data\")"
   ]
  },
  {
   "cell_type": "code",
   "execution_count": 3,
   "id": "859e4c43",
   "metadata": {},
   "outputs": [
    {
     "data": {
      "text/html": [
       "<div>\n",
       "<style scoped>\n",
       "    .dataframe tbody tr th:only-of-type {\n",
       "        vertical-align: middle;\n",
       "    }\n",
       "\n",
       "    .dataframe tbody tr th {\n",
       "        vertical-align: top;\n",
       "    }\n",
       "\n",
       "    .dataframe thead th {\n",
       "        text-align: right;\n",
       "    }\n",
       "</style>\n",
       "<table border=\"1\" class=\"dataframe\">\n",
       "  <thead>\n",
       "    <tr style=\"text-align: right;\">\n",
       "      <th></th>\n",
       "      <th>Class</th>\n",
       "      <th>age</th>\n",
       "      <th>menopause</th>\n",
       "      <th>tumor-size</th>\n",
       "      <th>inv-nodes</th>\n",
       "      <th>node-caps</th>\n",
       "      <th>deg-malig</th>\n",
       "      <th>breast</th>\n",
       "      <th>breast-quad</th>\n",
       "      <th>irradiat</th>\n",
       "    </tr>\n",
       "  </thead>\n",
       "  <tbody>\n",
       "    <tr>\n",
       "      <th>0</th>\n",
       "      <td>no-recurrence-events</td>\n",
       "      <td>30-39</td>\n",
       "      <td>premeno</td>\n",
       "      <td>30-34</td>\n",
       "      <td>0-2</td>\n",
       "      <td>no</td>\n",
       "      <td>3</td>\n",
       "      <td>left</td>\n",
       "      <td>left_low</td>\n",
       "      <td>no</td>\n",
       "    </tr>\n",
       "    <tr>\n",
       "      <th>1</th>\n",
       "      <td>no-recurrence-events</td>\n",
       "      <td>40-49</td>\n",
       "      <td>premeno</td>\n",
       "      <td>20-24</td>\n",
       "      <td>0-2</td>\n",
       "      <td>no</td>\n",
       "      <td>2</td>\n",
       "      <td>right</td>\n",
       "      <td>right_up</td>\n",
       "      <td>no</td>\n",
       "    </tr>\n",
       "    <tr>\n",
       "      <th>2</th>\n",
       "      <td>no-recurrence-events</td>\n",
       "      <td>40-49</td>\n",
       "      <td>premeno</td>\n",
       "      <td>20-24</td>\n",
       "      <td>0-2</td>\n",
       "      <td>no</td>\n",
       "      <td>2</td>\n",
       "      <td>left</td>\n",
       "      <td>left_low</td>\n",
       "      <td>no</td>\n",
       "    </tr>\n",
       "    <tr>\n",
       "      <th>3</th>\n",
       "      <td>no-recurrence-events</td>\n",
       "      <td>60-69</td>\n",
       "      <td>ge40</td>\n",
       "      <td>15-19</td>\n",
       "      <td>0-2</td>\n",
       "      <td>no</td>\n",
       "      <td>2</td>\n",
       "      <td>right</td>\n",
       "      <td>left_up</td>\n",
       "      <td>no</td>\n",
       "    </tr>\n",
       "    <tr>\n",
       "      <th>4</th>\n",
       "      <td>no-recurrence-events</td>\n",
       "      <td>40-49</td>\n",
       "      <td>premeno</td>\n",
       "      <td>0-4</td>\n",
       "      <td>0-2</td>\n",
       "      <td>no</td>\n",
       "      <td>2</td>\n",
       "      <td>right</td>\n",
       "      <td>right_low</td>\n",
       "      <td>no</td>\n",
       "    </tr>\n",
       "  </tbody>\n",
       "</table>\n",
       "</div>"
      ],
      "text/plain": [
       "                  Class    age menopause tumor-size inv-nodes node-caps  \\\n",
       "0  no-recurrence-events  30-39   premeno      30-34       0-2        no   \n",
       "1  no-recurrence-events  40-49   premeno      20-24       0-2        no   \n",
       "2  no-recurrence-events  40-49   premeno      20-24       0-2        no   \n",
       "3  no-recurrence-events  60-69      ge40      15-19       0-2        no   \n",
       "4  no-recurrence-events  40-49   premeno        0-4       0-2        no   \n",
       "\n",
       "   deg-malig breast breast-quad irradiat  \n",
       "0          3   left    left_low       no  \n",
       "1          2  right    right_up       no  \n",
       "2          2   left    left_low       no  \n",
       "3          2  right     left_up       no  \n",
       "4          2  right   right_low       no  "
      ]
     },
     "execution_count": 3,
     "metadata": {},
     "output_type": "execute_result"
    }
   ],
   "source": [
    "df1.head()"
   ]
  },
  {
   "cell_type": "code",
   "execution_count": 4,
   "id": "c0a012fe",
   "metadata": {},
   "outputs": [],
   "source": [
    "# Function to convert range values to mean values\n",
    "def range_mean(range_value):\n",
    "    # Split the range value into lower and upper bounds\n",
    "    lower, upper = map(int, range_value.split('-'))\n",
    "    # Calculate the mean value\n",
    "    mean_value = (lower + upper) / 2\n",
    "    return mean_value"
   ]
  },
  {
   "cell_type": "code",
   "execution_count": 5,
   "id": "7cab19cb",
   "metadata": {},
   "outputs": [],
   "source": [
    "df1['age'] = df1['age'].apply(range_mean)\n",
    "df1['tumor-size'] = df1['tumor-size'].apply(range_mean)\n",
    "df1['inv-nodes'] = df1['inv-nodes'].apply(range_mean)"
   ]
  },
  {
   "cell_type": "code",
   "execution_count": 6,
   "id": "aeec7d56",
   "metadata": {},
   "outputs": [],
   "source": [
    "list1 = ['Class', 'menopause', 'node-caps', 'deg-malig', 'breast', 'breast-quad', 'irradiat']\n",
    "\n",
    "# Initialize LabelEncoder\n",
    "label_encoder = LabelEncoder()\n",
    "\n",
    "def ft(col):\n",
    "    df1[col] = label_encoder.fit_transform(df1[col])\n",
    "\n",
    "# Transform the categorical variables\n",
    "for i in list1:\n",
    "    ft(i)"
   ]
  },
  {
   "cell_type": "code",
   "execution_count": 7,
   "id": "b2b8b085",
   "metadata": {},
   "outputs": [
    {
     "data": {
      "text/html": [
       "<div>\n",
       "<style scoped>\n",
       "    .dataframe tbody tr th:only-of-type {\n",
       "        vertical-align: middle;\n",
       "    }\n",
       "\n",
       "    .dataframe tbody tr th {\n",
       "        vertical-align: top;\n",
       "    }\n",
       "\n",
       "    .dataframe thead th {\n",
       "        text-align: right;\n",
       "    }\n",
       "</style>\n",
       "<table border=\"1\" class=\"dataframe\">\n",
       "  <thead>\n",
       "    <tr style=\"text-align: right;\">\n",
       "      <th></th>\n",
       "      <th>Class</th>\n",
       "      <th>age</th>\n",
       "      <th>menopause</th>\n",
       "      <th>tumor-size</th>\n",
       "      <th>inv-nodes</th>\n",
       "      <th>node-caps</th>\n",
       "      <th>deg-malig</th>\n",
       "      <th>breast</th>\n",
       "      <th>breast-quad</th>\n",
       "      <th>irradiat</th>\n",
       "    </tr>\n",
       "  </thead>\n",
       "  <tbody>\n",
       "    <tr>\n",
       "      <th>0</th>\n",
       "      <td>0</td>\n",
       "      <td>34.5</td>\n",
       "      <td>2</td>\n",
       "      <td>32.0</td>\n",
       "      <td>1.0</td>\n",
       "      <td>1</td>\n",
       "      <td>2</td>\n",
       "      <td>0</td>\n",
       "      <td>2</td>\n",
       "      <td>0</td>\n",
       "    </tr>\n",
       "    <tr>\n",
       "      <th>1</th>\n",
       "      <td>0</td>\n",
       "      <td>44.5</td>\n",
       "      <td>2</td>\n",
       "      <td>22.0</td>\n",
       "      <td>1.0</td>\n",
       "      <td>1</td>\n",
       "      <td>1</td>\n",
       "      <td>1</td>\n",
       "      <td>5</td>\n",
       "      <td>0</td>\n",
       "    </tr>\n",
       "    <tr>\n",
       "      <th>2</th>\n",
       "      <td>0</td>\n",
       "      <td>44.5</td>\n",
       "      <td>2</td>\n",
       "      <td>22.0</td>\n",
       "      <td>1.0</td>\n",
       "      <td>1</td>\n",
       "      <td>1</td>\n",
       "      <td>0</td>\n",
       "      <td>2</td>\n",
       "      <td>0</td>\n",
       "    </tr>\n",
       "    <tr>\n",
       "      <th>3</th>\n",
       "      <td>0</td>\n",
       "      <td>64.5</td>\n",
       "      <td>0</td>\n",
       "      <td>17.0</td>\n",
       "      <td>1.0</td>\n",
       "      <td>1</td>\n",
       "      <td>1</td>\n",
       "      <td>1</td>\n",
       "      <td>3</td>\n",
       "      <td>0</td>\n",
       "    </tr>\n",
       "    <tr>\n",
       "      <th>4</th>\n",
       "      <td>0</td>\n",
       "      <td>44.5</td>\n",
       "      <td>2</td>\n",
       "      <td>2.0</td>\n",
       "      <td>1.0</td>\n",
       "      <td>1</td>\n",
       "      <td>1</td>\n",
       "      <td>1</td>\n",
       "      <td>4</td>\n",
       "      <td>0</td>\n",
       "    </tr>\n",
       "  </tbody>\n",
       "</table>\n",
       "</div>"
      ],
      "text/plain": [
       "   Class   age  menopause  tumor-size  inv-nodes  node-caps  deg-malig  \\\n",
       "0      0  34.5          2        32.0        1.0          1          2   \n",
       "1      0  44.5          2        22.0        1.0          1          1   \n",
       "2      0  44.5          2        22.0        1.0          1          1   \n",
       "3      0  64.5          0        17.0        1.0          1          1   \n",
       "4      0  44.5          2         2.0        1.0          1          1   \n",
       "\n",
       "   breast  breast-quad  irradiat  \n",
       "0       0            2         0  \n",
       "1       1            5         0  \n",
       "2       0            2         0  \n",
       "3       1            3         0  \n",
       "4       1            4         0  "
      ]
     },
     "execution_count": 7,
     "metadata": {},
     "output_type": "execute_result"
    }
   ],
   "source": [
    "df1.head()"
   ]
  },
  {
   "cell_type": "code",
   "execution_count": 8,
   "id": "8e4ae2a5",
   "metadata": {},
   "outputs": [
    {
     "data": {
      "text/plain": [
       "(286, 10)"
      ]
     },
     "execution_count": 8,
     "metadata": {},
     "output_type": "execute_result"
    }
   ],
   "source": [
    "df1.shape"
   ]
  },
  {
   "cell_type": "code",
   "execution_count": 9,
   "id": "eb579d83",
   "metadata": {},
   "outputs": [
    {
     "data": {
      "text/plain": [
       "Class            int32\n",
       "age            float64\n",
       "menopause        int32\n",
       "tumor-size     float64\n",
       "inv-nodes      float64\n",
       "node-caps        int32\n",
       "deg-malig        int64\n",
       "breast           int32\n",
       "breast-quad      int32\n",
       "irradiat         int32\n",
       "dtype: object"
      ]
     },
     "execution_count": 9,
     "metadata": {},
     "output_type": "execute_result"
    }
   ],
   "source": [
    "df1.dtypes"
   ]
  },
  {
   "cell_type": "code",
   "execution_count": 10,
   "id": "cbc0126f",
   "metadata": {},
   "outputs": [],
   "source": [
    "df1.replace('?', np.nan, inplace=True)"
   ]
  },
  {
   "cell_type": "code",
   "execution_count": 11,
   "id": "fcb264fa",
   "metadata": {},
   "outputs": [
    {
     "data": {
      "text/plain": [
       "Class          0\n",
       "age            0\n",
       "menopause      0\n",
       "tumor-size     0\n",
       "inv-nodes      0\n",
       "node-caps      0\n",
       "deg-malig      0\n",
       "breast         0\n",
       "breast-quad    0\n",
       "irradiat       0\n",
       "dtype: int64"
      ]
     },
     "execution_count": 11,
     "metadata": {},
     "output_type": "execute_result"
    }
   ],
   "source": [
    "df1.isnull().sum()"
   ]
  },
  {
   "cell_type": "code",
   "execution_count": 12,
   "id": "f9d325fb",
   "metadata": {},
   "outputs": [],
   "source": [
    "df1.dropna(inplace=True)"
   ]
  },
  {
   "cell_type": "code",
   "execution_count": 13,
   "id": "f6af1031",
   "metadata": {},
   "outputs": [
    {
     "data": {
      "text/plain": [
       "Class          0\n",
       "age            0\n",
       "menopause      0\n",
       "tumor-size     0\n",
       "inv-nodes      0\n",
       "node-caps      0\n",
       "deg-malig      0\n",
       "breast         0\n",
       "breast-quad    0\n",
       "irradiat       0\n",
       "dtype: int64"
      ]
     },
     "execution_count": 13,
     "metadata": {},
     "output_type": "execute_result"
    }
   ],
   "source": [
    "df1.isnull().sum()"
   ]
  },
  {
   "cell_type": "code",
   "execution_count": 14,
   "id": "fcc8f3a5",
   "metadata": {},
   "outputs": [
    {
     "data": {
      "text/html": [
       "<div>\n",
       "<style scoped>\n",
       "    .dataframe tbody tr th:only-of-type {\n",
       "        vertical-align: middle;\n",
       "    }\n",
       "\n",
       "    .dataframe tbody tr th {\n",
       "        vertical-align: top;\n",
       "    }\n",
       "\n",
       "    .dataframe thead th {\n",
       "        text-align: right;\n",
       "    }\n",
       "</style>\n",
       "<table border=\"1\" class=\"dataframe\">\n",
       "  <thead>\n",
       "    <tr style=\"text-align: right;\">\n",
       "      <th></th>\n",
       "      <th>age</th>\n",
       "      <th>menopause</th>\n",
       "      <th>tumor-size</th>\n",
       "      <th>inv-nodes</th>\n",
       "      <th>node-caps</th>\n",
       "      <th>deg-malig</th>\n",
       "      <th>breast</th>\n",
       "      <th>breast-quad</th>\n",
       "      <th>irradiat</th>\n",
       "    </tr>\n",
       "  </thead>\n",
       "  <tbody>\n",
       "    <tr>\n",
       "      <th>0</th>\n",
       "      <td>34.5</td>\n",
       "      <td>2</td>\n",
       "      <td>32.0</td>\n",
       "      <td>1.0</td>\n",
       "      <td>1</td>\n",
       "      <td>2</td>\n",
       "      <td>0</td>\n",
       "      <td>2</td>\n",
       "      <td>0</td>\n",
       "    </tr>\n",
       "    <tr>\n",
       "      <th>1</th>\n",
       "      <td>44.5</td>\n",
       "      <td>2</td>\n",
       "      <td>22.0</td>\n",
       "      <td>1.0</td>\n",
       "      <td>1</td>\n",
       "      <td>1</td>\n",
       "      <td>1</td>\n",
       "      <td>5</td>\n",
       "      <td>0</td>\n",
       "    </tr>\n",
       "    <tr>\n",
       "      <th>2</th>\n",
       "      <td>44.5</td>\n",
       "      <td>2</td>\n",
       "      <td>22.0</td>\n",
       "      <td>1.0</td>\n",
       "      <td>1</td>\n",
       "      <td>1</td>\n",
       "      <td>0</td>\n",
       "      <td>2</td>\n",
       "      <td>0</td>\n",
       "    </tr>\n",
       "    <tr>\n",
       "      <th>3</th>\n",
       "      <td>64.5</td>\n",
       "      <td>0</td>\n",
       "      <td>17.0</td>\n",
       "      <td>1.0</td>\n",
       "      <td>1</td>\n",
       "      <td>1</td>\n",
       "      <td>1</td>\n",
       "      <td>3</td>\n",
       "      <td>0</td>\n",
       "    </tr>\n",
       "    <tr>\n",
       "      <th>4</th>\n",
       "      <td>44.5</td>\n",
       "      <td>2</td>\n",
       "      <td>2.0</td>\n",
       "      <td>1.0</td>\n",
       "      <td>1</td>\n",
       "      <td>1</td>\n",
       "      <td>1</td>\n",
       "      <td>4</td>\n",
       "      <td>0</td>\n",
       "    </tr>\n",
       "    <tr>\n",
       "      <th>...</th>\n",
       "      <td>...</td>\n",
       "      <td>...</td>\n",
       "      <td>...</td>\n",
       "      <td>...</td>\n",
       "      <td>...</td>\n",
       "      <td>...</td>\n",
       "      <td>...</td>\n",
       "      <td>...</td>\n",
       "      <td>...</td>\n",
       "    </tr>\n",
       "    <tr>\n",
       "      <th>281</th>\n",
       "      <td>34.5</td>\n",
       "      <td>2</td>\n",
       "      <td>32.0</td>\n",
       "      <td>1.0</td>\n",
       "      <td>1</td>\n",
       "      <td>1</td>\n",
       "      <td>0</td>\n",
       "      <td>3</td>\n",
       "      <td>0</td>\n",
       "    </tr>\n",
       "    <tr>\n",
       "      <th>282</th>\n",
       "      <td>34.5</td>\n",
       "      <td>2</td>\n",
       "      <td>22.0</td>\n",
       "      <td>1.0</td>\n",
       "      <td>1</td>\n",
       "      <td>2</td>\n",
       "      <td>0</td>\n",
       "      <td>3</td>\n",
       "      <td>1</td>\n",
       "    </tr>\n",
       "    <tr>\n",
       "      <th>283</th>\n",
       "      <td>64.5</td>\n",
       "      <td>0</td>\n",
       "      <td>22.0</td>\n",
       "      <td>1.0</td>\n",
       "      <td>1</td>\n",
       "      <td>0</td>\n",
       "      <td>1</td>\n",
       "      <td>3</td>\n",
       "      <td>0</td>\n",
       "    </tr>\n",
       "    <tr>\n",
       "      <th>284</th>\n",
       "      <td>44.5</td>\n",
       "      <td>0</td>\n",
       "      <td>32.0</td>\n",
       "      <td>4.0</td>\n",
       "      <td>1</td>\n",
       "      <td>2</td>\n",
       "      <td>0</td>\n",
       "      <td>2</td>\n",
       "      <td>0</td>\n",
       "    </tr>\n",
       "    <tr>\n",
       "      <th>285</th>\n",
       "      <td>54.5</td>\n",
       "      <td>0</td>\n",
       "      <td>32.0</td>\n",
       "      <td>4.0</td>\n",
       "      <td>1</td>\n",
       "      <td>2</td>\n",
       "      <td>0</td>\n",
       "      <td>2</td>\n",
       "      <td>0</td>\n",
       "    </tr>\n",
       "  </tbody>\n",
       "</table>\n",
       "<p>286 rows × 9 columns</p>\n",
       "</div>"
      ],
      "text/plain": [
       "      age  menopause  tumor-size  inv-nodes  node-caps  deg-malig  breast  \\\n",
       "0    34.5          2        32.0        1.0          1          2       0   \n",
       "1    44.5          2        22.0        1.0          1          1       1   \n",
       "2    44.5          2        22.0        1.0          1          1       0   \n",
       "3    64.5          0        17.0        1.0          1          1       1   \n",
       "4    44.5          2         2.0        1.0          1          1       1   \n",
       "..    ...        ...         ...        ...        ...        ...     ...   \n",
       "281  34.5          2        32.0        1.0          1          1       0   \n",
       "282  34.5          2        22.0        1.0          1          2       0   \n",
       "283  64.5          0        22.0        1.0          1          0       1   \n",
       "284  44.5          0        32.0        4.0          1          2       0   \n",
       "285  54.5          0        32.0        4.0          1          2       0   \n",
       "\n",
       "     breast-quad  irradiat  \n",
       "0              2         0  \n",
       "1              5         0  \n",
       "2              2         0  \n",
       "3              3         0  \n",
       "4              4         0  \n",
       "..           ...       ...  \n",
       "281            3         0  \n",
       "282            3         1  \n",
       "283            3         0  \n",
       "284            2         0  \n",
       "285            2         0  \n",
       "\n",
       "[286 rows x 9 columns]"
      ]
     },
     "execution_count": 14,
     "metadata": {},
     "output_type": "execute_result"
    }
   ],
   "source": [
    "X = df1.iloc[:,1:]\n",
    "X"
   ]
  },
  {
   "cell_type": "code",
   "execution_count": 15,
   "id": "10ef9d59",
   "metadata": {},
   "outputs": [
    {
     "data": {
      "text/plain": [
       "0      0\n",
       "1      0\n",
       "2      0\n",
       "3      0\n",
       "4      0\n",
       "      ..\n",
       "281    1\n",
       "282    1\n",
       "283    1\n",
       "284    1\n",
       "285    1\n",
       "Name: Class, Length: 286, dtype: int32"
      ]
     },
     "execution_count": 15,
     "metadata": {},
     "output_type": "execute_result"
    }
   ],
   "source": [
    "Y = df1.iloc[:,0]\n",
    "Y"
   ]
  },
  {
   "cell_type": "markdown",
   "id": "87374fac",
   "metadata": {},
   "source": [
    "### Exercise 1: Implement a Support Vector Classifier"
   ]
  },
  {
   "cell_type": "code",
   "execution_count": 16,
   "id": "197c7f4a",
   "metadata": {},
   "outputs": [],
   "source": [
    "x_train, x_test, y_train, y_test = train_test_split(X, Y, train_size=0.8, test_size=0.2)"
   ]
  },
  {
   "cell_type": "code",
   "execution_count": 17,
   "id": "043c0649",
   "metadata": {},
   "outputs": [
    {
     "data": {
      "text/plain": [
       "SVC(probability=True)"
      ]
     },
     "execution_count": 17,
     "metadata": {},
     "output_type": "execute_result"
    }
   ],
   "source": [
    "# SVC\n",
    "svc = SVC(probability=True)\n",
    "svc.fit(x_train, y_train)"
   ]
  },
  {
   "cell_type": "markdown",
   "id": "c951a5b9",
   "metadata": {},
   "source": [
    "### Exercise 2: Implement Linear, Radial, Polynomial and Gaussian Kernel and compare their performances."
   ]
  },
  {
   "cell_type": "code",
   "execution_count": 18,
   "id": "e9618cb2",
   "metadata": {},
   "outputs": [],
   "source": [
    "# for different kernels\n",
    "kernel_score = {}\n",
    "\n",
    "def svc_kernels(name):\n",
    "    svc_k = SVC(kernel=name)\n",
    "    svc_k.fit(x_train, y_train)\n",
    "    predictions = svc_k.predict(x_test)\n",
    "    score = svc_k.score(x_test, y_test)\n",
    "    kernel_score[name] = score"
   ]
  },
  {
   "cell_type": "code",
   "execution_count": 19,
   "id": "537c888b",
   "metadata": {},
   "outputs": [],
   "source": [
    "svc_kernels('linear')\n",
    "svc_kernels('poly')\n",
    "svc_kernels('rbf')"
   ]
  },
  {
   "cell_type": "code",
   "execution_count": 20,
   "id": "b938dbff",
   "metadata": {},
   "outputs": [
    {
     "data": {
      "text/plain": [
       "{'linear': 0.6206896551724138,\n",
       " 'poly': 0.603448275862069,\n",
       " 'rbf': 0.603448275862069}"
      ]
     },
     "execution_count": 20,
     "metadata": {},
     "output_type": "execute_result"
    }
   ],
   "source": [
    "kernel_score"
   ]
  },
  {
   "cell_type": "code",
   "execution_count": 21,
   "id": "16e78d5b",
   "metadata": {},
   "outputs": [
    {
     "data": {
      "text/plain": [
       "Text(0, 0.5, 'Score')"
      ]
     },
     "execution_count": 21,
     "metadata": {},
     "output_type": "execute_result"
    },
    {
     "data": {
      "image/png": "[encoded data removed]",
      "text/plain": [
       "<Figure size 432x288 with 1 Axes>"
      ]
     },
     "metadata": {
      "needs_background": "light"
     },
     "output_type": "display_data"
    }
   ],
   "source": [
    "plt.bar(kernel_score.keys(), kernel_score.values())\n",
    "plt.title(\"Performance comparison of different kernels\")\n",
    "plt.xlabel(\"Kernel Type\")\n",
    "plt.ylabel(\"Score\")"
   ]
  },
  {
   "cell_type": "markdown",
   "id": "5adfbae3",
   "metadata": {},
   "source": [
    "### Exercise 3: Train the model and predict the response for test dataset."
   ]
  },
  {
   "cell_type": "code",
   "execution_count": 22,
   "id": "af40499b",
   "metadata": {},
   "outputs": [],
   "source": [
    "svc_predictions = svc.predict(x_test)"
   ]
  },
  {
   "cell_type": "markdown",
   "id": "f95432d9",
   "metadata": {},
   "source": [
    "### Exercise 4: Generate Confusion matrix"
   ]
  },
  {
   "cell_type": "code",
   "execution_count": 23,
   "id": "9ad6c013",
   "metadata": {},
   "outputs": [
    {
     "name": "stdout",
     "output_type": "stream",
     "text": [
      "Confusion Matrix:\n",
      "[[35  0]\n",
      " [23  0]]\n"
     ]
    }
   ],
   "source": [
    "cnf = confusion_matrix(y_test, svc_predictions)\n",
    "print(\"Confusion Matrix:\")\n",
    "print(cnf)"
   ]
  },
  {
   "cell_type": "code",
   "execution_count": 24,
   "id": "660f8422",
   "metadata": {},
   "outputs": [
    {
     "data": {
      "text/plain": [
       "<AxesSubplot:>"
      ]
     },
     "execution_count": 24,
     "metadata": {},
     "output_type": "execute_result"
    },
    {
     "data": {
      "image/png": "[encoded data removed]",
      "text/plain": [
       "<Figure size 432x288 with 2 Axes>"
      ]
     },
     "metadata": {
      "needs_background": "light"
     },
     "output_type": "display_data"
    }
   ],
   "source": [
    "sns.heatmap(cnf, annot=True)"
   ]
  },
  {
   "cell_type": "markdown",
   "id": "3055db12",
   "metadata": {},
   "source": [
    "### Exercise 5: Implement KNN-Classifier, Logistic Regression and compare their performance with SVC “Accuracy, F1-Score, Precision and Recall”."
   ]
  },
  {
   "cell_type": "markdown",
   "id": "24a5d5ea",
   "metadata": {},
   "source": [
    "#### KNN Classifier, Logistic Regression"
   ]
  },
  {
   "cell_type": "code",
   "execution_count": 25,
   "id": "ea37af83",
   "metadata": {},
   "outputs": [
    {
     "data": {
      "text/plain": [
       "KNeighborsClassifier()"
      ]
     },
     "execution_count": 25,
     "metadata": {},
     "output_type": "execute_result"
    }
   ],
   "source": [
    "knn = KNeighborsClassifier(n_neighbors=5)\n",
    "knn.fit(x_train, y_train)"
   ]
  },
  {
   "cell_type": "code",
   "execution_count": 26,
   "id": "755c3ecf",
   "metadata": {},
   "outputs": [
    {
     "data": {
      "text/plain": [
       "0.6206896551724138"
      ]
     },
     "execution_count": 26,
     "metadata": {},
     "output_type": "execute_result"
    }
   ],
   "source": [
    "knn_predictions = knn.predict(x_test)\n",
    "knn_score = knn.score(x_test,y_test)\n",
    "knn_score"
   ]
  },
  {
   "cell_type": "code",
   "execution_count": 27,
   "id": "52d90ff5",
   "metadata": {},
   "outputs": [
    {
     "data": {
      "text/plain": [
       "LogisticRegression(solver='newton-cg')"
      ]
     },
     "execution_count": 27,
     "metadata": {},
     "output_type": "execute_result"
    }
   ],
   "source": [
    "# Logistic Regression\n",
    "log_reg = LogisticRegression(solver='newton-cg')\n",
    "log_reg.fit(x_train, y_train)"
   ]
  },
  {
   "cell_type": "code",
   "execution_count": 28,
   "id": "12808f75",
   "metadata": {},
   "outputs": [
    {
     "data": {
      "text/plain": [
       "0.6379310344827587"
      ]
     },
     "execution_count": 28,
     "metadata": {},
     "output_type": "execute_result"
    }
   ],
   "source": [
    "log_reg_predictions = log_reg.predict(x_test)\n",
    "logreg_score = log_reg.score(x_test,y_test)\n",
    "logreg_score"
   ]
  },
  {
   "cell_type": "code",
   "execution_count": 29,
   "id": "12437249",
   "metadata": {},
   "outputs": [],
   "source": [
    "# Calculate metrics\n",
    "def performance(yt, y_pred):\n",
    "    accuracy = accuracy_score(yt, y_pred)\n",
    "    f1 = f1_score(yt, y_pred, average='weighted')\n",
    "    precision = precision_score(yt, y_pred, average='weighted')\n",
    "    recall = recall_score(yt, y_pred, average='weighted')\n",
    "    return accuracy, f1, precision, recall"
   ]
  },
  {
   "cell_type": "code",
   "execution_count": 30,
   "id": "81f7140c",
   "metadata": {},
   "outputs": [],
   "source": [
    "knn_list = []\n",
    "log_list = []\n",
    "svm_list = []"
   ]
  },
  {
   "cell_type": "code",
   "execution_count": 31,
   "id": "62902bf0",
   "metadata": {},
   "outputs": [
    {
     "name": "stderr",
     "output_type": "stream",
     "text": [
      "C:\\Users\\Deena\\anaconda3\\lib\\site-packages\\sklearn\\metrics\\_classification.py:1248: UndefinedMetricWarning: Precision is ill-defined and being set to 0.0 in labels with no predicted samples. Use `zero_division` parameter to control this behavior.\n",
      "  _warn_prf(average, modifier, msg_start, len(result))\n"
     ]
    }
   ],
   "source": [
    "knn_list = performance(y_test, knn_predictions)\n",
    "log_list = performance(y_test, log_reg_predictions)\n",
    "svm_list = performance(y_test, svc_predictions)"
   ]
  },
  {
   "cell_type": "code",
   "execution_count": 32,
   "id": "e9e4354b",
   "metadata": {},
   "outputs": [
    {
     "data": {
      "image/png": "[encoded data removed]",
      "text/plain": [
       "<Figure size 720x504 with 4 Axes>"
      ]
     },
     "metadata": {
      "needs_background": "light"
     },
     "output_type": "display_data"
    }
   ],
   "source": [
    "plt.figure(figsize=(10,7))\n",
    "plt.subplot(2, 2, 1)\n",
    "plt.bar(['knn', 'log_reg', 'svc'],[knn_list[0], log_list[0],svm_list[0]])\n",
    "plt.xlabel('algorithms')\n",
    "plt.ylabel('accuracies')\n",
    "\n",
    "plt.subplot(2, 2, 2)\n",
    "plt.bar(['knn', 'log_reg', 'svc'],[knn_list[1], log_list[1],svm_list[1]])\n",
    "plt.xlabel('algorithms')\n",
    "plt.ylabel('f1 score')\n",
    "\n",
    "plt.subplot(2, 2, 3)\n",
    "plt.bar(['knn', 'log_reg', 'svc'],[knn_list[2], log_list[2],svm_list[2]])\n",
    "plt.xlabel('algorithms')\n",
    "plt.ylabel('precision')\n",
    "\n",
    "plt.subplot(2, 2, 4)\n",
    "plt.bar(['knn', 'log_reg', 'svc'],[knn_list[3], log_list[3],svm_list[3]])\n",
    "plt.xlabel('algorithms')\n",
    "plt.ylabel('recall')\n",
    "plt.show()"
   ]
  },
  {
   "cell_type": "markdown",
   "id": "ab4e8867",
   "metadata": {},
   "source": [
    "### Exercise 6: Perform Grid Search Method for Hyperparameter Tuning for SVC and KNN."
   ]
  },
  {
   "cell_type": "code",
   "execution_count": 33,
   "id": "e094c3bd",
   "metadata": {},
   "outputs": [],
   "source": [
    "svc_pg = {'C': [0.1, 1, 10], 'kernel': ['linear', 'rbf', 'poly', 'sigmoid']}"
   ]
  },
  {
   "cell_type": "code",
   "execution_count": 34,
   "id": "026a5232",
   "metadata": {},
   "outputs": [
    {
     "name": "stdout",
     "output_type": "stream",
     "text": [
      "Best SVC Hyperparameters: SVC(C=0.1, kernel='linear')\n"
     ]
    }
   ],
   "source": [
    "svc_grid_search = GridSearchCV(estimator=SVC(), param_grid=svc_pg, scoring='accuracy', cv=3)\n",
    "svc_grid_search.fit(x_train, y_train)\n",
    "best_svc = svc_grid_search.best_estimator_\n",
    "print(\"Best SVC Hyperparameters:\", best_svc)"
   ]
  },
  {
   "cell_type": "code",
   "execution_count": 35,
   "id": "40c4cbdd",
   "metadata": {},
   "outputs": [],
   "source": [
    "knn_pg = {'n_neighbors': [3, 5, 7]}"
   ]
  },
  {
   "cell_type": "code",
   "execution_count": 36,
   "id": "7a177c78",
   "metadata": {},
   "outputs": [
    {
     "name": "stdout",
     "output_type": "stream",
     "text": [
      "Best KNN Hyperparameters: KNeighborsClassifier(n_neighbors=7)\n"
     ]
    }
   ],
   "source": [
    "knn_grid_search = GridSearchCV(estimator=KNeighborsClassifier(), param_grid=knn_pg, scoring='accuracy', cv=3)\n",
    "knn_grid_search.fit(x_train, y_train)\n",
    "best_knn = knn_grid_search.best_estimator_\n",
    "print(\"Best KNN Hyperparameters:\", best_knn)"
   ]
  },
  {
   "cell_type": "markdown",
   "id": "6f0b5006",
   "metadata": {},
   "source": [
    "### Exercise 7: Generate ROC and Compare AUC for KNN and SVC. "
   ]
  },
  {
   "cell_type": "code",
   "execution_count": 37,
   "id": "9b4e67d9",
   "metadata": {},
   "outputs": [],
   "source": [
    "svc_probs = svc.predict_proba(x_test)\n",
    "knn_probs = knn.predict_proba(x_test)"
   ]
  },
  {
   "cell_type": "code",
   "execution_count": 38,
   "id": "dd825b88",
   "metadata": {},
   "outputs": [],
   "source": [
    "fpr1, tpr1, thresh1 = roc_curve(y_test, svc_probs[:,1], pos_label=1)\n",
    "fpr2, tpr2, thresh2 = roc_curve(y_test, knn_probs[:,1], pos_label=1)"
   ]
  },
  {
   "cell_type": "code",
   "execution_count": 39,
   "id": "28a6fdd5",
   "metadata": {},
   "outputs": [],
   "source": [
    "# roc curve for tpr = fpr \n",
    "random_probs = [0 for i in range(len(y_test))]\n",
    "p_fpr, p_tpr, _ = roc_curve(y_test, random_probs, pos_label=1)"
   ]
  },
  {
   "cell_type": "code",
   "execution_count": 40,
   "id": "dfbb6339",
   "metadata": {},
   "outputs": [
    {
     "name": "stdout",
     "output_type": "stream",
     "text": [
      "AUC Score for SVM:  0.6161490683229813\n",
      "AUC Score for KNN:  0.5652173913043479\n"
     ]
    }
   ],
   "source": [
    "# auc scores\n",
    "svc_auc_score = roc_auc_score(y_test, svc_probs[:,1])\n",
    "knn_auc_score = roc_auc_score(y_test, knn_probs[:,1])\n",
    "\n",
    "print(\"AUC Score for SVM: \",svc_auc_score)\n",
    "print(\"AUC Score for KNN: \",knn_auc_score)"
   ]
  },
  {
   "cell_type": "code",
   "execution_count": 41,
   "id": "5bab0cee",
   "metadata": {},
   "outputs": [
    {
     "data": {
      "image/png": "[encoded data removed]",
      "text/plain": [
       "<Figure size 432x288 with 1 Axes>"
      ]
     },
     "metadata": {
      "needs_background": "light"
     },
     "output_type": "display_data"
    }
   ],
   "source": [
    "# plot roc curves\n",
    "plt.plot(fpr1, tpr1, linestyle='--',color='red', label='SVM')\n",
    "plt.plot(fpr2, tpr2, linestyle='--',color='green', label='KNN')\n",
    "plt.plot(p_fpr, p_tpr, linestyle='--', color='blue')\n",
    "plt.title('ROC curve')\n",
    "plt.xlabel('False Positive Rate')\n",
    "plt.ylabel('True Positive rate')\n",
    "plt.legend(loc='best')\n",
    "plt.savefig('ROC',dpi=300)\n",
    "plt.show()"
   ]
  },
  {
   "cell_type": "code",
   "execution_count": null,
   "id": "8db5fb29",
   "metadata": {},
   "outputs": [],
   "source": []
  }
 ],
 "metadata": {
  "kernelspec": {
   "display_name": "Python 3 (ipykernel)",
   "language": "python",
   "name": "python3"
  },
  "language_info": {
   "codemirror_mode": {
    "name": "ipython",
    "version": 3
   },
   "file_extension": ".py",
   "mimetype": "text/x-python",
   "name": "python",
   "nbconvert_exporter": "python",
   "pygments_lexer": "ipython3",
   "version": "3.9.7"
  }
 },
 "nbformat": 4,
 "nbformat_minor": 5
}
