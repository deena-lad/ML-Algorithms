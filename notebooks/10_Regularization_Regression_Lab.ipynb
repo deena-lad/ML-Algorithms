{
 "cells": [
  {
   "cell_type": "markdown",
   "id": "a698d3ce",
   "metadata": {},
   "source": [
    "# Regularization Lab"
   ]
  },
  {
   "cell_type": "code",
   "execution_count": 1,
   "id": "deb2f846",
   "metadata": {},
   "outputs": [
    {
     "name": "stderr",
     "output_type": "stream",
     "text": [
      "C:\\Users\\Deena\\anaconda3\\lib\\site-packages\\scipy\\__init__.py:146: UserWarning: A NumPy version >=1.16.5 and <1.23.0 is required for this version of SciPy (detected version 1.24.3\n",
      "  warnings.warn(f\"A NumPy version >={np_minversion} and <{np_maxversion}\"\n"
     ]
    }
   ],
   "source": [
    "# import the libraries\n",
    "import numpy as np\n",
    "import math\n",
    "import pandas as pd\n",
    "import matplotlib.pyplot as plt\n",
    "import seaborn as sns\n",
    "from statistics import mean\n",
    "from sklearn import preprocessing\n",
    "from sklearn.metrics import r2_score\n",
    "from sklearn.model_selection import train_test_split\n",
    "from sklearn.linear_model import LinearRegression\n",
    "from sklearn.metrics import mean_squared_error, mean_squared_log_error\n",
    "from mpl_toolkits.mplot3d import Axes3D\n",
    "from sklearn.preprocessing import StandardScaler\n",
    "from sklearn.linear_model import ElasticNet"
   ]
  },
  {
   "cell_type": "code",
   "execution_count": 2,
   "id": "a3d9cb3c",
   "metadata": {},
   "outputs": [],
   "source": [
    "# loading data\n",
    "data = pd.read_csv(r\"C:\\Users\\Deena\\Downloads\\bike+sharing+dataset\\hour.csv\")"
   ]
  },
  {
   "cell_type": "code",
   "execution_count": 3,
   "id": "018927b4",
   "metadata": {},
   "outputs": [
    {
     "data": {
      "text/html": [
       "<div>\n",
       "<style scoped>\n",
       "    .dataframe tbody tr th:only-of-type {\n",
       "        vertical-align: middle;\n",
       "    }\n",
       "\n",
       "    .dataframe tbody tr th {\n",
       "        vertical-align: top;\n",
       "    }\n",
       "\n",
       "    .dataframe thead th {\n",
       "        text-align: right;\n",
       "    }\n",
       "</style>\n",
       "<table border=\"1\" class=\"dataframe\">\n",
       "  <thead>\n",
       "    <tr style=\"text-align: right;\">\n",
       "      <th></th>\n",
       "      <th>instant</th>\n",
       "      <th>dteday</th>\n",
       "      <th>season</th>\n",
       "      <th>yr</th>\n",
       "      <th>mnth</th>\n",
       "      <th>hr</th>\n",
       "      <th>holiday</th>\n",
       "      <th>weekday</th>\n",
       "      <th>workingday</th>\n",
       "      <th>weathersit</th>\n",
       "      <th>temp</th>\n",
       "      <th>atemp</th>\n",
       "      <th>hum</th>\n",
       "      <th>windspeed</th>\n",
       "      <th>casual</th>\n",
       "      <th>registered</th>\n",
       "      <th>cnt</th>\n",
       "    </tr>\n",
       "  </thead>\n",
       "  <tbody>\n",
       "    <tr>\n",
       "      <th>0</th>\n",
       "      <td>1</td>\n",
       "      <td>2011-01-01</td>\n",
       "      <td>1</td>\n",
       "      <td>0</td>\n",
       "      <td>1</td>\n",
       "      <td>0</td>\n",
       "      <td>0</td>\n",
       "      <td>6</td>\n",
       "      <td>0</td>\n",
       "      <td>1</td>\n",
       "      <td>0.24</td>\n",
       "      <td>0.2879</td>\n",
       "      <td>0.81</td>\n",
       "      <td>0.0</td>\n",
       "      <td>3</td>\n",
       "      <td>13</td>\n",
       "      <td>16</td>\n",
       "    </tr>\n",
       "    <tr>\n",
       "      <th>1</th>\n",
       "      <td>2</td>\n",
       "      <td>2011-01-01</td>\n",
       "      <td>1</td>\n",
       "      <td>0</td>\n",
       "      <td>1</td>\n",
       "      <td>1</td>\n",
       "      <td>0</td>\n",
       "      <td>6</td>\n",
       "      <td>0</td>\n",
       "      <td>1</td>\n",
       "      <td>0.22</td>\n",
       "      <td>0.2727</td>\n",
       "      <td>0.80</td>\n",
       "      <td>0.0</td>\n",
       "      <td>8</td>\n",
       "      <td>32</td>\n",
       "      <td>40</td>\n",
       "    </tr>\n",
       "    <tr>\n",
       "      <th>2</th>\n",
       "      <td>3</td>\n",
       "      <td>2011-01-01</td>\n",
       "      <td>1</td>\n",
       "      <td>0</td>\n",
       "      <td>1</td>\n",
       "      <td>2</td>\n",
       "      <td>0</td>\n",
       "      <td>6</td>\n",
       "      <td>0</td>\n",
       "      <td>1</td>\n",
       "      <td>0.22</td>\n",
       "      <td>0.2727</td>\n",
       "      <td>0.80</td>\n",
       "      <td>0.0</td>\n",
       "      <td>5</td>\n",
       "      <td>27</td>\n",
       "      <td>32</td>\n",
       "    </tr>\n",
       "    <tr>\n",
       "      <th>3</th>\n",
       "      <td>4</td>\n",
       "      <td>2011-01-01</td>\n",
       "      <td>1</td>\n",
       "      <td>0</td>\n",
       "      <td>1</td>\n",
       "      <td>3</td>\n",
       "      <td>0</td>\n",
       "      <td>6</td>\n",
       "      <td>0</td>\n",
       "      <td>1</td>\n",
       "      <td>0.24</td>\n",
       "      <td>0.2879</td>\n",
       "      <td>0.75</td>\n",
       "      <td>0.0</td>\n",
       "      <td>3</td>\n",
       "      <td>10</td>\n",
       "      <td>13</td>\n",
       "    </tr>\n",
       "    <tr>\n",
       "      <th>4</th>\n",
       "      <td>5</td>\n",
       "      <td>2011-01-01</td>\n",
       "      <td>1</td>\n",
       "      <td>0</td>\n",
       "      <td>1</td>\n",
       "      <td>4</td>\n",
       "      <td>0</td>\n",
       "      <td>6</td>\n",
       "      <td>0</td>\n",
       "      <td>1</td>\n",
       "      <td>0.24</td>\n",
       "      <td>0.2879</td>\n",
       "      <td>0.75</td>\n",
       "      <td>0.0</td>\n",
       "      <td>0</td>\n",
       "      <td>1</td>\n",
       "      <td>1</td>\n",
       "    </tr>\n",
       "  </tbody>\n",
       "</table>\n",
       "</div>"
      ],
      "text/plain": [
       "   instant      dteday  season  yr  mnth  hr  holiday  weekday  workingday  \\\n",
       "0        1  2011-01-01       1   0     1   0        0        6           0   \n",
       "1        2  2011-01-01       1   0     1   1        0        6           0   \n",
       "2        3  2011-01-01       1   0     1   2        0        6           0   \n",
       "3        4  2011-01-01       1   0     1   3        0        6           0   \n",
       "4        5  2011-01-01       1   0     1   4        0        6           0   \n",
       "\n",
       "   weathersit  temp   atemp   hum  windspeed  casual  registered  cnt  \n",
       "0           1  0.24  0.2879  0.81        0.0       3          13   16  \n",
       "1           1  0.22  0.2727  0.80        0.0       8          32   40  \n",
       "2           1  0.22  0.2727  0.80        0.0       5          27   32  \n",
       "3           1  0.24  0.2879  0.75        0.0       3          10   13  \n",
       "4           1  0.24  0.2879  0.75        0.0       0           1    1  "
      ]
     },
     "execution_count": 3,
     "metadata": {},
     "output_type": "execute_result"
    }
   ],
   "source": [
    "# reading data\n",
    "data.head()"
   ]
  },
  {
   "cell_type": "code",
   "execution_count": 4,
   "id": "00460122",
   "metadata": {},
   "outputs": [
    {
     "data": {
      "text/plain": [
       "instant         int64\n",
       "dteday         object\n",
       "season          int64\n",
       "yr              int64\n",
       "mnth            int64\n",
       "hr              int64\n",
       "holiday         int64\n",
       "weekday         int64\n",
       "workingday      int64\n",
       "weathersit      int64\n",
       "temp          float64\n",
       "atemp         float64\n",
       "hum           float64\n",
       "windspeed     float64\n",
       "casual          int64\n",
       "registered      int64\n",
       "cnt             int64\n",
       "dtype: object"
      ]
     },
     "execution_count": 4,
     "metadata": {},
     "output_type": "execute_result"
    }
   ],
   "source": [
    "data.dtypes"
   ]
  },
  {
   "cell_type": "code",
   "execution_count": 5,
   "id": "b0c1479a",
   "metadata": {},
   "outputs": [
    {
     "data": {
      "text/plain": [
       "instant       0\n",
       "dteday        0\n",
       "season        0\n",
       "yr            0\n",
       "mnth          0\n",
       "hr            0\n",
       "holiday       0\n",
       "weekday       0\n",
       "workingday    0\n",
       "weathersit    0\n",
       "temp          0\n",
       "atemp         0\n",
       "hum           0\n",
       "windspeed     0\n",
       "casual        0\n",
       "registered    0\n",
       "cnt           0\n",
       "dtype: int64"
      ]
     },
     "execution_count": 5,
     "metadata": {},
     "output_type": "execute_result"
    }
   ],
   "source": [
    "data.isnull().sum()"
   ]
  },
  {
   "cell_type": "code",
   "execution_count": 6,
   "id": "6a34126b",
   "metadata": {},
   "outputs": [
    {
     "data": {
      "text/plain": [
       "Index(['instant', 'dteday', 'season', 'yr', 'mnth', 'hr', 'holiday', 'weekday',\n",
       "       'workingday', 'weathersit', 'temp', 'atemp', 'hum', 'windspeed',\n",
       "       'casual', 'registered', 'cnt'],\n",
       "      dtype='object')"
      ]
     },
     "execution_count": 6,
     "metadata": {},
     "output_type": "execute_result"
    }
   ],
   "source": [
    "data.columns"
   ]
  },
  {
   "cell_type": "code",
   "execution_count": 7,
   "id": "9f2a2921",
   "metadata": {},
   "outputs": [],
   "source": [
    "# copy the data into another dataframe\n",
    "df = data.copy()"
   ]
  },
  {
   "cell_type": "code",
   "execution_count": 8,
   "id": "ef01b550",
   "metadata": {},
   "outputs": [],
   "source": [
    "# dropping the column dteday\n",
    "df.drop(['dteday'], axis=1, inplace=True)"
   ]
  },
  {
   "cell_type": "code",
   "execution_count": 9,
   "id": "88a06a5c",
   "metadata": {},
   "outputs": [
    {
     "data": {
      "text/plain": [
       "hum          -0.322911\n",
       "weathersit   -0.142426\n",
       "holiday      -0.030927\n",
       "weekday       0.026900\n",
       "workingday    0.030284\n",
       "windspeed     0.093234\n",
       "mnth          0.120638\n",
       "season        0.178056\n",
       "yr            0.250495\n",
       "instant       0.278379\n",
       "hr            0.394071\n",
       "atemp         0.400929\n",
       "temp          0.404772\n",
       "casual        0.694564\n",
       "registered    0.972151\n",
       "cnt           1.000000\n",
       "Name: cnt, dtype: float64"
      ]
     },
     "execution_count": 9,
     "metadata": {},
     "output_type": "execute_result"
    }
   ],
   "source": [
    "# finding and arranging correlation coefficient values\n",
    "df.corr()['cnt'].sort_values()"
   ]
  },
  {
   "cell_type": "code",
   "execution_count": 10,
   "id": "5f85f1eb",
   "metadata": {},
   "outputs": [
    {
     "data": {
      "text/html": [
       "<div>\n",
       "<style scoped>\n",
       "    .dataframe tbody tr th:only-of-type {\n",
       "        vertical-align: middle;\n",
       "    }\n",
       "\n",
       "    .dataframe tbody tr th {\n",
       "        vertical-align: top;\n",
       "    }\n",
       "\n",
       "    .dataframe thead th {\n",
       "        text-align: right;\n",
       "    }\n",
       "</style>\n",
       "<table border=\"1\" class=\"dataframe\">\n",
       "  <thead>\n",
       "    <tr style=\"text-align: right;\">\n",
       "      <th></th>\n",
       "      <th>instant</th>\n",
       "      <th>season</th>\n",
       "      <th>yr</th>\n",
       "      <th>mnth</th>\n",
       "      <th>hr</th>\n",
       "      <th>holiday</th>\n",
       "      <th>weekday</th>\n",
       "      <th>workingday</th>\n",
       "      <th>weathersit</th>\n",
       "      <th>temp</th>\n",
       "      <th>atemp</th>\n",
       "      <th>hum</th>\n",
       "      <th>windspeed</th>\n",
       "      <th>casual</th>\n",
       "      <th>registered</th>\n",
       "      <th>cnt</th>\n",
       "    </tr>\n",
       "  </thead>\n",
       "  <tbody>\n",
       "    <tr>\n",
       "      <th>0</th>\n",
       "      <td>1</td>\n",
       "      <td>1</td>\n",
       "      <td>0</td>\n",
       "      <td>1</td>\n",
       "      <td>0</td>\n",
       "      <td>0</td>\n",
       "      <td>6</td>\n",
       "      <td>0</td>\n",
       "      <td>1</td>\n",
       "      <td>0.24</td>\n",
       "      <td>0.2879</td>\n",
       "      <td>0.81</td>\n",
       "      <td>0.0000</td>\n",
       "      <td>3</td>\n",
       "      <td>13</td>\n",
       "      <td>16</td>\n",
       "    </tr>\n",
       "    <tr>\n",
       "      <th>1</th>\n",
       "      <td>2</td>\n",
       "      <td>1</td>\n",
       "      <td>0</td>\n",
       "      <td>1</td>\n",
       "      <td>1</td>\n",
       "      <td>0</td>\n",
       "      <td>6</td>\n",
       "      <td>0</td>\n",
       "      <td>1</td>\n",
       "      <td>0.22</td>\n",
       "      <td>0.2727</td>\n",
       "      <td>0.80</td>\n",
       "      <td>0.0000</td>\n",
       "      <td>8</td>\n",
       "      <td>32</td>\n",
       "      <td>40</td>\n",
       "    </tr>\n",
       "    <tr>\n",
       "      <th>2</th>\n",
       "      <td>3</td>\n",
       "      <td>1</td>\n",
       "      <td>0</td>\n",
       "      <td>1</td>\n",
       "      <td>2</td>\n",
       "      <td>0</td>\n",
       "      <td>6</td>\n",
       "      <td>0</td>\n",
       "      <td>1</td>\n",
       "      <td>0.22</td>\n",
       "      <td>0.2727</td>\n",
       "      <td>0.80</td>\n",
       "      <td>0.0000</td>\n",
       "      <td>5</td>\n",
       "      <td>27</td>\n",
       "      <td>32</td>\n",
       "    </tr>\n",
       "    <tr>\n",
       "      <th>3</th>\n",
       "      <td>4</td>\n",
       "      <td>1</td>\n",
       "      <td>0</td>\n",
       "      <td>1</td>\n",
       "      <td>3</td>\n",
       "      <td>0</td>\n",
       "      <td>6</td>\n",
       "      <td>0</td>\n",
       "      <td>1</td>\n",
       "      <td>0.24</td>\n",
       "      <td>0.2879</td>\n",
       "      <td>0.75</td>\n",
       "      <td>0.0000</td>\n",
       "      <td>3</td>\n",
       "      <td>10</td>\n",
       "      <td>13</td>\n",
       "    </tr>\n",
       "    <tr>\n",
       "      <th>4</th>\n",
       "      <td>5</td>\n",
       "      <td>1</td>\n",
       "      <td>0</td>\n",
       "      <td>1</td>\n",
       "      <td>4</td>\n",
       "      <td>0</td>\n",
       "      <td>6</td>\n",
       "      <td>0</td>\n",
       "      <td>1</td>\n",
       "      <td>0.24</td>\n",
       "      <td>0.2879</td>\n",
       "      <td>0.75</td>\n",
       "      <td>0.0000</td>\n",
       "      <td>0</td>\n",
       "      <td>1</td>\n",
       "      <td>1</td>\n",
       "    </tr>\n",
       "    <tr>\n",
       "      <th>...</th>\n",
       "      <td>...</td>\n",
       "      <td>...</td>\n",
       "      <td>...</td>\n",
       "      <td>...</td>\n",
       "      <td>...</td>\n",
       "      <td>...</td>\n",
       "      <td>...</td>\n",
       "      <td>...</td>\n",
       "      <td>...</td>\n",
       "      <td>...</td>\n",
       "      <td>...</td>\n",
       "      <td>...</td>\n",
       "      <td>...</td>\n",
       "      <td>...</td>\n",
       "      <td>...</td>\n",
       "      <td>...</td>\n",
       "    </tr>\n",
       "    <tr>\n",
       "      <th>17374</th>\n",
       "      <td>17375</td>\n",
       "      <td>1</td>\n",
       "      <td>1</td>\n",
       "      <td>12</td>\n",
       "      <td>19</td>\n",
       "      <td>0</td>\n",
       "      <td>1</td>\n",
       "      <td>1</td>\n",
       "      <td>2</td>\n",
       "      <td>0.26</td>\n",
       "      <td>0.2576</td>\n",
       "      <td>0.60</td>\n",
       "      <td>0.1642</td>\n",
       "      <td>11</td>\n",
       "      <td>108</td>\n",
       "      <td>119</td>\n",
       "    </tr>\n",
       "    <tr>\n",
       "      <th>17375</th>\n",
       "      <td>17376</td>\n",
       "      <td>1</td>\n",
       "      <td>1</td>\n",
       "      <td>12</td>\n",
       "      <td>20</td>\n",
       "      <td>0</td>\n",
       "      <td>1</td>\n",
       "      <td>1</td>\n",
       "      <td>2</td>\n",
       "      <td>0.26</td>\n",
       "      <td>0.2576</td>\n",
       "      <td>0.60</td>\n",
       "      <td>0.1642</td>\n",
       "      <td>8</td>\n",
       "      <td>81</td>\n",
       "      <td>89</td>\n",
       "    </tr>\n",
       "    <tr>\n",
       "      <th>17376</th>\n",
       "      <td>17377</td>\n",
       "      <td>1</td>\n",
       "      <td>1</td>\n",
       "      <td>12</td>\n",
       "      <td>21</td>\n",
       "      <td>0</td>\n",
       "      <td>1</td>\n",
       "      <td>1</td>\n",
       "      <td>1</td>\n",
       "      <td>0.26</td>\n",
       "      <td>0.2576</td>\n",
       "      <td>0.60</td>\n",
       "      <td>0.1642</td>\n",
       "      <td>7</td>\n",
       "      <td>83</td>\n",
       "      <td>90</td>\n",
       "    </tr>\n",
       "    <tr>\n",
       "      <th>17377</th>\n",
       "      <td>17378</td>\n",
       "      <td>1</td>\n",
       "      <td>1</td>\n",
       "      <td>12</td>\n",
       "      <td>22</td>\n",
       "      <td>0</td>\n",
       "      <td>1</td>\n",
       "      <td>1</td>\n",
       "      <td>1</td>\n",
       "      <td>0.26</td>\n",
       "      <td>0.2727</td>\n",
       "      <td>0.56</td>\n",
       "      <td>0.1343</td>\n",
       "      <td>13</td>\n",
       "      <td>48</td>\n",
       "      <td>61</td>\n",
       "    </tr>\n",
       "    <tr>\n",
       "      <th>17378</th>\n",
       "      <td>17379</td>\n",
       "      <td>1</td>\n",
       "      <td>1</td>\n",
       "      <td>12</td>\n",
       "      <td>23</td>\n",
       "      <td>0</td>\n",
       "      <td>1</td>\n",
       "      <td>1</td>\n",
       "      <td>1</td>\n",
       "      <td>0.26</td>\n",
       "      <td>0.2727</td>\n",
       "      <td>0.65</td>\n",
       "      <td>0.1343</td>\n",
       "      <td>12</td>\n",
       "      <td>37</td>\n",
       "      <td>49</td>\n",
       "    </tr>\n",
       "  </tbody>\n",
       "</table>\n",
       "<p>17379 rows × 16 columns</p>\n",
       "</div>"
      ],
      "text/plain": [
       "       instant  season  yr  mnth  hr  holiday  weekday  workingday  \\\n",
       "0            1       1   0     1   0        0        6           0   \n",
       "1            2       1   0     1   1        0        6           0   \n",
       "2            3       1   0     1   2        0        6           0   \n",
       "3            4       1   0     1   3        0        6           0   \n",
       "4            5       1   0     1   4        0        6           0   \n",
       "...        ...     ...  ..   ...  ..      ...      ...         ...   \n",
       "17374    17375       1   1    12  19        0        1           1   \n",
       "17375    17376       1   1    12  20        0        1           1   \n",
       "17376    17377       1   1    12  21        0        1           1   \n",
       "17377    17378       1   1    12  22        0        1           1   \n",
       "17378    17379       1   1    12  23        0        1           1   \n",
       "\n",
       "       weathersit  temp   atemp   hum  windspeed  casual  registered  cnt  \n",
       "0               1  0.24  0.2879  0.81     0.0000       3          13   16  \n",
       "1               1  0.22  0.2727  0.80     0.0000       8          32   40  \n",
       "2               1  0.22  0.2727  0.80     0.0000       5          27   32  \n",
       "3               1  0.24  0.2879  0.75     0.0000       3          10   13  \n",
       "4               1  0.24  0.2879  0.75     0.0000       0           1    1  \n",
       "...           ...   ...     ...   ...        ...     ...         ...  ...  \n",
       "17374           2  0.26  0.2576  0.60     0.1642      11         108  119  \n",
       "17375           2  0.26  0.2576  0.60     0.1642       8          81   89  \n",
       "17376           1  0.26  0.2576  0.60     0.1642       7          83   90  \n",
       "17377           1  0.26  0.2727  0.56     0.1343      13          48   61  \n",
       "17378           1  0.26  0.2727  0.65     0.1343      12          37   49  \n",
       "\n",
       "[17379 rows x 16 columns]"
      ]
     },
     "execution_count": 10,
     "metadata": {},
     "output_type": "execute_result"
    }
   ],
   "source": [
    "#data1 = df[['hum', 'weathersit', 'hr','atemp', 'temp', 'casual', 'registered', 'cnt']]\n",
    "data1 = df.copy()\n",
    "data1"
   ]
  },
  {
   "cell_type": "markdown",
   "id": "e7a4d1f1",
   "metadata": {},
   "source": [
    "#copy the data\n",
    "df_mm = data1.copy()\n",
    "  \n",
    "#apply normalization techniques\n",
    "for column in df_mm.columns:\n",
    "    df_mm[column] = (df_mm[column] - df_mm[column].min()) / (df_mm[column].max() - df_mm[column].min())    \n",
    "\n",
    "print(df_mm)"
   ]
  },
  {
   "cell_type": "code",
   "execution_count": 11,
   "id": "5bc61cf4",
   "metadata": {},
   "outputs": [
    {
     "data": {
      "text/plain": [
       "array([[1.0000e+00, 1.0000e+00, 0.0000e+00, ..., 0.0000e+00, 3.0000e+00,\n",
       "        1.3000e+01],\n",
       "       [2.0000e+00, 1.0000e+00, 0.0000e+00, ..., 0.0000e+00, 8.0000e+00,\n",
       "        3.2000e+01],\n",
       "       [3.0000e+00, 1.0000e+00, 0.0000e+00, ..., 0.0000e+00, 5.0000e+00,\n",
       "        2.7000e+01],\n",
       "       ...,\n",
       "       [1.7377e+04, 1.0000e+00, 1.0000e+00, ..., 1.6420e-01, 7.0000e+00,\n",
       "        8.3000e+01],\n",
       "       [1.7378e+04, 1.0000e+00, 1.0000e+00, ..., 1.3430e-01, 1.3000e+01,\n",
       "        4.8000e+01],\n",
       "       [1.7379e+04, 1.0000e+00, 1.0000e+00, ..., 1.3430e-01, 1.2000e+01,\n",
       "        3.7000e+01]])"
      ]
     },
     "execution_count": 11,
     "metadata": {},
     "output_type": "execute_result"
    }
   ],
   "source": [
    "X = data1.iloc[:,:-1].values\n",
    "X "
   ]
  },
  {
   "cell_type": "code",
   "execution_count": 12,
   "id": "50cce2d1",
   "metadata": {},
   "outputs": [],
   "source": [
    "# Add a column of ones for the intercept term\n",
    "#X = np.insert(X, 0, 1, axis=1)\n",
    "#X"
   ]
  },
  {
   "cell_type": "code",
   "execution_count": 13,
   "id": "a16d0307",
   "metadata": {},
   "outputs": [
    {
     "data": {
      "text/plain": [
       "array([16, 40, 32, ..., 90, 61, 49], dtype=int64)"
      ]
     },
     "execution_count": 13,
     "metadata": {},
     "output_type": "execute_result"
    }
   ],
   "source": [
    "#y = preprocessing.scale(df['cnt'])\n",
    "Y = data1.iloc[:,-1].values\n",
    "Y"
   ]
  },
  {
   "cell_type": "code",
   "execution_count": 14,
   "id": "5b092f21",
   "metadata": {},
   "outputs": [
    {
     "name": "stdout",
     "output_type": "stream",
     "text": [
      "[[0.69314718 0.69314718 0.         ... 0.         1.38629436 2.63905733]\n",
      " [1.09861229 0.69314718 0.         ... 0.         2.19722458 3.49650756]\n",
      " [1.38629436 0.69314718 0.         ... 0.         1.79175947 3.33220451]\n",
      " ...\n",
      " [9.76296032 0.69314718 0.69314718 ... 0.15203416 2.07944154 4.4308168 ]\n",
      " [9.76301786 0.69314718 0.69314718 ... 0.12601572 2.63905733 3.8918203 ]\n",
      " [9.7630754  0.69314718 0.69314718 ... 0.12601572 2.56494936 3.63758616]]\n",
      "[2.83321334 3.71357207 3.49650756 ... 4.51085951 4.12713439 3.91202301]\n"
     ]
    }
   ],
   "source": [
    "# Normalize the target variable (y) and features (X) by taking the logarithm\n",
    "Y = np.log1p(Y)\n",
    "X = np.log1p(X)\n",
    "print(X)\n",
    "print(Y)"
   ]
  },
  {
   "cell_type": "code",
   "execution_count": 15,
   "id": "6d3dd962",
   "metadata": {},
   "outputs": [
    {
     "name": "stdout",
     "output_type": "stream",
     "text": [
      "Shape of X: (17379, 15)\n",
      "Shape of Y: (17379,)\n"
     ]
    }
   ],
   "source": [
    "X_train, X_test, Y_train, Y_test = train_test_split(X, Y, test_size = 0.3,random_state=42)\n",
    "print(\"Shape of X:\", X.shape)\n",
    "print(\"Shape of Y:\", Y.shape)"
   ]
  },
  {
   "cell_type": "markdown",
   "id": "74cb9168",
   "metadata": {},
   "source": [
    "## L2 Regularization"
   ]
  },
  {
   "cell_type": "code",
   "execution_count": 16,
   "id": "23799a35",
   "metadata": {},
   "outputs": [
    {
     "name": "stdout",
     "output_type": "stream",
     "text": [
      "N: 12165.0\n",
      "t1:  (15,)\n",
      "Coefficients:\n",
      " [ 0.05756769  0.00487554 -0.00686029 -0.01603646  0.13442191 -0.00315877\n",
      "  0.02622546  0.03442765  0.01029921  0.00411879  0.00410473 -0.00122843\n",
      "  0.0077133   0.29467273  0.66879953]\n",
      "RMSE:  0.18758850428562315\n",
      "RMSLE:  0.6444134599332375\n"
     ]
    }
   ],
   "source": [
    "# Lists to store RMSE and RMSLE values during training\n",
    "rmse_values = []\n",
    "rmsle_values = []\n",
    "\n",
    "# gradient descent using matrix dot product\n",
    "A = 0.001\n",
    "epochs = 1000\n",
    "\n",
    "# defining lambda for lasso L1 regularization\n",
    "lambda_l2 = 0.1\n",
    "\n",
    "n = float(len(Y_train))\n",
    "print(\"N:\",n)\n",
    "\n",
    "# t - theta - making a matrix of the dimension [no of columns of X, 1]\n",
    "t1 = np.zeros(X_train.shape[1])\n",
    "#t1 = np.random.rand(X_train.shape[1])\n",
    "print(\"t1: \",t1.shape)\n",
    "\n",
    "for i in range(epochs):\n",
    "    # taking a dot product of the matrices X and t1 and add t0\n",
    "    Y_pred = np.dot(X_train, t1) #+ t0         \n",
    "    #print(\"Y_pred: \",Y_pred.shape)\n",
    "    \n",
    "    err = Y_pred - Y_train\n",
    "    # partial derivative wrt t1, here we would add pd of the l2 function\n",
    "    D_t1 = (2/n) * (np.dot(err, X_train) + (2 * lambda_l2 * t1))      \n",
    "    #print(\"D_t1: \",D_t1.shape)\n",
    "    \n",
    "    # updatation of t\n",
    "    t1 = t1 - A * D_t1                          \n",
    "   \n",
    "    # Calculate RMSE and RMSLE and store in lists\n",
    "    mse = np.square(np.subtract(Y_test, (np.dot(X_test, t1)))).mean() \n",
    "    rmse = math.sqrt(mse)\n",
    "    rmse_values.append(rmse)\n",
    "    #rmse_values.append(np.sqrt(mean_squared_error(Y_test, np.dot(X_test, t1) ))) \n",
    "    msle = np.square((np.log(Y_test + 1) - np.log((np.dot(X_test, t1) + 1)))).mean()\n",
    "    rmsle = math.sqrt(msle)\n",
    "    rmsle_values.append(rmsle)\n",
    "    #rmsle_values.append(np.sqrt(mean_squared_log_error(Y_test, np.dot(X_test, t1)))) \n",
    "\n",
    "    \n",
    "# Print the final coefficients\n",
    "print(\"Coefficients:\\n\", t1)\n",
    "print(\"RMSE: \", rmse_values[-1])\n",
    "print(\"RMSLE: \",rmsle_values[1])"
   ]
  },
  {
   "cell_type": "code",
   "execution_count": 17,
   "id": "1020a071",
   "metadata": {},
   "outputs": [
    {
     "name": "stdout",
     "output_type": "stream",
     "text": [
      "R2 score using Ridge Regularization from the library:  0.9965774138486625\n"
     ]
    }
   ],
   "source": [
    "from sklearn.linear_model import Ridge\n",
    "\n",
    "RR= Ridge(alpha=0.1) # Regularization parameter\n",
    "\n",
    "#Fit the instance on the data and then predict the expected value.\n",
    "RR= RR.fit(X_train, Y_train)\n",
    "y_pred1= RR.predict(X_test)\n",
    "print(\"R2 score using Ridge Regularization from the library: \",RR.score(X_test, Y_test))"
   ]
  },
  {
   "cell_type": "code",
   "execution_count": 18,
   "id": "25957e68",
   "metadata": {},
   "outputs": [
    {
     "name": "stdout",
     "output_type": "stream",
     "text": [
      "R2 Score when gradient descent along with Ridge Regularization is used:  0.9825015804515373\n",
      "R2 score with only regression using library:  0.996577420726807\n"
     ]
    }
   ],
   "source": [
    "# r2 score for gradient descent\n",
    "y_pred2 = np.dot(X_test, t1)\n",
    "print(\"R2 Score when gradient descent along with Ridge Regularization is used: \",r2_score(Y_test, y_pred2))\n",
    "\n",
    "# r2 score using library\n",
    "model = LinearRegression()\n",
    "model.fit(X_train, Y_train)\n",
    "print(\"R2 score with only regression using library: \",model.score(X_test, Y_test))"
   ]
  },
  {
   "cell_type": "code",
   "execution_count": 19,
   "id": "d802d03c",
   "metadata": {},
   "outputs": [
    {
     "name": "stdout",
     "output_type": "stream",
     "text": [
      "Difference:\n",
      "1. Ridge using library and from scratch using gradient descent:  0.014075833397125148\n",
      "2. Applying only linear regression using library and Ridge using library:  6.878144498401184e-09\n",
      "3. Applying only linear regression and from scratch using gradient descent:  0.014075840275269647\n"
     ]
    }
   ],
   "source": [
    "# difference \n",
    "\n",
    "# 1.RR - ridge done using library, 2.model - LR using library, 3.r2 - lr with gd and regularization\n",
    "\n",
    "print(\"Difference:\")\n",
    "print(\"1. Ridge using library and from scratch using gradient descent: \", RR.score(X_test, Y_test)-r2_score(Y_test, y_pred2))\n",
    "print(\"2. Applying only linear regression using library and Ridge using library: \", model.score(X_test, Y_test)-RR.score(X_test, Y_test))\n",
    "print(\"3. Applying only linear regression and from scratch using gradient descent: \", model.score(X_test, Y_test)-r2_score(Y_test, y_pred2))"
   ]
  },
  {
   "cell_type": "markdown",
   "id": "2c8e1d24",
   "metadata": {},
   "source": [
    "## L1 regularization"
   ]
  },
  {
   "cell_type": "code",
   "execution_count": 20,
   "id": "cfe0936d",
   "metadata": {},
   "outputs": [],
   "source": [
    "from sklearn.linear_model import Lasso\n",
    "\n",
    "LR= Lasso(alpha=1.0) # Regularization parameter\n",
    "LR= LR.fit(X_train, Y_train)\n",
    "y_pred3 = LR.predict(X_test)"
   ]
  },
  {
   "cell_type": "code",
   "execution_count": 21,
   "id": "35e5cdcc",
   "metadata": {},
   "outputs": [
    {
     "name": "stdout",
     "output_type": "stream",
     "text": [
      "Difference between model applied wihtout and with L1 regularization:\n",
      "  0.2661984978882438\n"
     ]
    }
   ],
   "source": [
    "# model - applying linear regression without regularization\n",
    "# LR - lasso reguarization\n",
    "print(\"Difference between model applied wihtout and with L1 regularization:\\n \", model.score(X_test, Y_test)-LR.score(X_test, Y_test))"
   ]
  },
  {
   "cell_type": "markdown",
   "id": "2d46eb4a",
   "metadata": {},
   "source": [
    "## Elastic Net Regularization"
   ]
  },
  {
   "cell_type": "code",
   "execution_count": 22,
   "id": "d5b67a02",
   "metadata": {},
   "outputs": [],
   "source": [
    "EN = ElasticNet(random_state=0)\n",
    "EN = EN.fit(X_train, Y_train)\n",
    "y_pred3 = EN.predict(X_test)"
   ]
  },
  {
   "cell_type": "code",
   "execution_count": 23,
   "id": "dcf7e5f2",
   "metadata": {},
   "outputs": [
    {
     "name": "stdout",
     "output_type": "stream",
     "text": [
      "Difference between model applied wihtout and with Elastic Net regularization:\n",
      "  0.13863047237238424\n"
     ]
    }
   ],
   "source": [
    "# model - applying linear regression without regularization\n",
    "# EN - Elastic Net regularization\n",
    "print(\"Difference between model applied wihtout and with Elastic Net regularization:\\n \", model.score(X_test, Y_test)-EN.score(X_test, Y_test))"
   ]
  },
  {
   "cell_type": "markdown",
   "id": "d4564737",
   "metadata": {},
   "source": [
    "### Visualizing the difference"
   ]
  },
  {
   "cell_type": "code",
   "execution_count": 38,
   "id": "68c893c0",
   "metadata": {},
   "outputs": [
    {
     "data": {
      "image/png": "[encoded data removed]",
      "text/plain": [
       "<Figure size 864x720 with 3 Axes>"
      ]
     },
     "metadata": {
      "needs_background": "light"
     },
     "output_type": "display_data"
    }
   ],
   "source": [
    "# for L2 regularization\n",
    "x1 = ['L2(library)', 'Only LR', 'Using grad. descent']\n",
    "y1 = [RR.score(X_test, Y_test), model.score(X_test, Y_test), r2_score(Y_test, y_pred2)]\n",
    "x2 = ['without L1', 'with L1']\n",
    "y2 = [model.score(X_test, Y_test), LR.score(X_test, Y_test)]\n",
    "x3 = ['without Elastic Net', 'with Elastic Net']\n",
    "y3 = [model.score(X_test, Y_test), EN.score(X_test, Y_test)]\n",
    "\n",
    "plt.figure(figsize=(12,10))\n",
    "plt.subplot(221)\n",
    "plt.plot(x1, y1)\n",
    "plt.xlabel(\"Methods used\")\n",
    "plt.ylabel(\"Scores\")\n",
    "plt.title(\"Comparison of different methods in L2\")\n",
    "\n",
    "plt.subplot(222)\n",
    "plt.plot(x2, y2)\n",
    "plt.xlabel(\"Methods used\")\n",
    "plt.ylabel(\"Scores\")\n",
    "plt.title(\"Comparison of different methods in L1\")\n",
    "\n",
    "plt.subplot(223)\n",
    "plt.plot(x3, y3)\n",
    "plt.xlabel(\"Methods used\")\n",
    "plt.ylabel(\"Scores\")\n",
    "plt.title(\"Comparison of different methods in Elastic Net\")\n",
    "\n",
    "plt.show()"
   ]
  },
  {
   "cell_type": "code",
   "execution_count": null,
   "id": "a17fd59a",
   "metadata": {},
   "outputs": [],
   "source": []
  }
 ],
 "metadata": {
  "kernelspec": {
   "display_name": "Python 3 (ipykernel)",
   "language": "python",
   "name": "python3"
  },
  "language_info": {
   "codemirror_mode": {
    "name": "ipython",
    "version": 3
   },
   "file_extension": ".py",
   "mimetype": "text/x-python",
   "name": "python",
   "nbconvert_exporter": "python",
   "pygments_lexer": "ipython3",
   "version": "3.9.7"
  }
 },
 "nbformat": 4,
 "nbformat_minor": 5
}
