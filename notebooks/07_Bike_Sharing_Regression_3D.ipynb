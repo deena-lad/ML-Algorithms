{
 "cells": [
  {
   "cell_type": "markdown",
   "id": "a698d3ce",
   "metadata": {},
   "source": [
    "# PRML Assigment 7\n",
    "## Bike sharing"
   ]
  },
  {
   "cell_type": "code",
   "execution_count": 1,
   "id": "deb2f846",
   "metadata": {},
   "outputs": [],
   "source": [
    "# import the libraries\n",
    "import numpy as np\n",
    "import math\n",
    "import pandas as pd\n",
    "import matplotlib.pyplot as plt\n",
    "import seaborn as sns\n",
    "from statistics import mean\n",
    "from sklearn import preprocessing\n",
    "from sklearn.metrics import r2_score\n",
    "from sklearn.model_selection import train_test_split\n",
    "from sklearn.linear_model import LinearRegression\n",
    "from sklearn.metrics import mean_squared_error, mean_squared_log_error\n",
    "from mpl_toolkits.mplot3d import Axes3D\n",
    "from sklearn.preprocessing import StandardScaler"
   ]
  },
  {
   "cell_type": "code",
   "execution_count": 2,
   "id": "a3d9cb3c",
   "metadata": {},
   "outputs": [],
   "source": [
    "# loading data\n",
    "data = pd.read_csv(r\"C:\\Users\\Deena\\Downloads\\bike+sharing+dataset\\hour.csv\")"
   ]
  },
  {
   "cell_type": "code",
   "execution_count": 3,
   "id": "018927b4",
   "metadata": {},
   "outputs": [
    {
     "data": {
      "text/html": [
       "<div>\n",
       "<style scoped>\n",
       "    .dataframe tbody tr th:only-of-type {\n",
       "        vertical-align: middle;\n",
       "    }\n",
       "\n",
       "    .dataframe tbody tr th {\n",
       "        vertical-align: top;\n",
       "    }\n",
       "\n",
       "    .dataframe thead th {\n",
       "        text-align: right;\n",
       "    }\n",
       "</style>\n",
       "<table border=\"1\" class=\"dataframe\">\n",
       "  <thead>\n",
       "    <tr style=\"text-align: right;\">\n",
       "      <th></th>\n",
       "      <th>instant</th>\n",
       "      <th>dteday</th>\n",
       "      <th>season</th>\n",
       "      <th>yr</th>\n",
       "      <th>mnth</th>\n",
       "      <th>hr</th>\n",
       "      <th>holiday</th>\n",
       "      <th>weekday</th>\n",
       "      <th>workingday</th>\n",
       "      <th>weathersit</th>\n",
       "      <th>temp</th>\n",
       "      <th>atemp</th>\n",
       "      <th>hum</th>\n",
       "      <th>windspeed</th>\n",
       "      <th>casual</th>\n",
       "      <th>registered</th>\n",
       "      <th>cnt</th>\n",
       "    </tr>\n",
       "  </thead>\n",
       "  <tbody>\n",
       "    <tr>\n",
       "      <th>0</th>\n",
       "      <td>1</td>\n",
       "      <td>2011-01-01</td>\n",
       "      <td>1</td>\n",
       "      <td>0</td>\n",
       "      <td>1</td>\n",
       "      <td>0</td>\n",
       "      <td>0</td>\n",
       "      <td>6</td>\n",
       "      <td>0</td>\n",
       "      <td>1</td>\n",
       "      <td>0.24</td>\n",
       "      <td>0.2879</td>\n",
       "      <td>0.81</td>\n",
       "      <td>0.0</td>\n",
       "      <td>3</td>\n",
       "      <td>13</td>\n",
       "      <td>16</td>\n",
       "    </tr>\n",
       "    <tr>\n",
       "      <th>1</th>\n",
       "      <td>2</td>\n",
       "      <td>2011-01-01</td>\n",
       "      <td>1</td>\n",
       "      <td>0</td>\n",
       "      <td>1</td>\n",
       "      <td>1</td>\n",
       "      <td>0</td>\n",
       "      <td>6</td>\n",
       "      <td>0</td>\n",
       "      <td>1</td>\n",
       "      <td>0.22</td>\n",
       "      <td>0.2727</td>\n",
       "      <td>0.80</td>\n",
       "      <td>0.0</td>\n",
       "      <td>8</td>\n",
       "      <td>32</td>\n",
       "      <td>40</td>\n",
       "    </tr>\n",
       "    <tr>\n",
       "      <th>2</th>\n",
       "      <td>3</td>\n",
       "      <td>2011-01-01</td>\n",
       "      <td>1</td>\n",
       "      <td>0</td>\n",
       "      <td>1</td>\n",
       "      <td>2</td>\n",
       "      <td>0</td>\n",
       "      <td>6</td>\n",
       "      <td>0</td>\n",
       "      <td>1</td>\n",
       "      <td>0.22</td>\n",
       "      <td>0.2727</td>\n",
       "      <td>0.80</td>\n",
       "      <td>0.0</td>\n",
       "      <td>5</td>\n",
       "      <td>27</td>\n",
       "      <td>32</td>\n",
       "    </tr>\n",
       "    <tr>\n",
       "      <th>3</th>\n",
       "      <td>4</td>\n",
       "      <td>2011-01-01</td>\n",
       "      <td>1</td>\n",
       "      <td>0</td>\n",
       "      <td>1</td>\n",
       "      <td>3</td>\n",
       "      <td>0</td>\n",
       "      <td>6</td>\n",
       "      <td>0</td>\n",
       "      <td>1</td>\n",
       "      <td>0.24</td>\n",
       "      <td>0.2879</td>\n",
       "      <td>0.75</td>\n",
       "      <td>0.0</td>\n",
       "      <td>3</td>\n",
       "      <td>10</td>\n",
       "      <td>13</td>\n",
       "    </tr>\n",
       "    <tr>\n",
       "      <th>4</th>\n",
       "      <td>5</td>\n",
       "      <td>2011-01-01</td>\n",
       "      <td>1</td>\n",
       "      <td>0</td>\n",
       "      <td>1</td>\n",
       "      <td>4</td>\n",
       "      <td>0</td>\n",
       "      <td>6</td>\n",
       "      <td>0</td>\n",
       "      <td>1</td>\n",
       "      <td>0.24</td>\n",
       "      <td>0.2879</td>\n",
       "      <td>0.75</td>\n",
       "      <td>0.0</td>\n",
       "      <td>0</td>\n",
       "      <td>1</td>\n",
       "      <td>1</td>\n",
       "    </tr>\n",
       "  </tbody>\n",
       "</table>\n",
       "</div>"
      ],
      "text/plain": [
       "   instant      dteday  season  yr  mnth  hr  holiday  weekday  workingday  \\\n",
       "0        1  2011-01-01       1   0     1   0        0        6           0   \n",
       "1        2  2011-01-01       1   0     1   1        0        6           0   \n",
       "2        3  2011-01-01       1   0     1   2        0        6           0   \n",
       "3        4  2011-01-01       1   0     1   3        0        6           0   \n",
       "4        5  2011-01-01       1   0     1   4        0        6           0   \n",
       "\n",
       "   weathersit  temp   atemp   hum  windspeed  casual  registered  cnt  \n",
       "0           1  0.24  0.2879  0.81        0.0       3          13   16  \n",
       "1           1  0.22  0.2727  0.80        0.0       8          32   40  \n",
       "2           1  0.22  0.2727  0.80        0.0       5          27   32  \n",
       "3           1  0.24  0.2879  0.75        0.0       3          10   13  \n",
       "4           1  0.24  0.2879  0.75        0.0       0           1    1  "
      ]
     },
     "execution_count": 3,
     "metadata": {},
     "output_type": "execute_result"
    }
   ],
   "source": [
    "# reading data\n",
    "data.head()"
   ]
  },
  {
   "cell_type": "code",
   "execution_count": 4,
   "id": "00460122",
   "metadata": {},
   "outputs": [
    {
     "data": {
      "text/plain": [
       "instant         int64\n",
       "dteday         object\n",
       "season          int64\n",
       "yr              int64\n",
       "mnth            int64\n",
       "hr              int64\n",
       "holiday         int64\n",
       "weekday         int64\n",
       "workingday      int64\n",
       "weathersit      int64\n",
       "temp          float64\n",
       "atemp         float64\n",
       "hum           float64\n",
       "windspeed     float64\n",
       "casual          int64\n",
       "registered      int64\n",
       "cnt             int64\n",
       "dtype: object"
      ]
     },
     "execution_count": 4,
     "metadata": {},
     "output_type": "execute_result"
    }
   ],
   "source": [
    "data.dtypes"
   ]
  },
  {
   "cell_type": "code",
   "execution_count": 5,
   "id": "b0c1479a",
   "metadata": {},
   "outputs": [
    {
     "data": {
      "text/plain": [
       "instant       0\n",
       "dteday        0\n",
       "season        0\n",
       "yr            0\n",
       "mnth          0\n",
       "hr            0\n",
       "holiday       0\n",
       "weekday       0\n",
       "workingday    0\n",
       "weathersit    0\n",
       "temp          0\n",
       "atemp         0\n",
       "hum           0\n",
       "windspeed     0\n",
       "casual        0\n",
       "registered    0\n",
       "cnt           0\n",
       "dtype: int64"
      ]
     },
     "execution_count": 5,
     "metadata": {},
     "output_type": "execute_result"
    }
   ],
   "source": [
    "data.isnull().sum()"
   ]
  },
  {
   "cell_type": "code",
   "execution_count": 6,
   "id": "6a34126b",
   "metadata": {},
   "outputs": [
    {
     "data": {
      "text/plain": [
       "Index(['instant', 'dteday', 'season', 'yr', 'mnth', 'hr', 'holiday', 'weekday',\n",
       "       'workingday', 'weathersit', 'temp', 'atemp', 'hum', 'windspeed',\n",
       "       'casual', 'registered', 'cnt'],\n",
       "      dtype='object')"
      ]
     },
     "execution_count": 6,
     "metadata": {},
     "output_type": "execute_result"
    }
   ],
   "source": [
    "data.columns"
   ]
  },
  {
   "cell_type": "code",
   "execution_count": 7,
   "id": "e8535c17",
   "metadata": {},
   "outputs": [
    {
     "data": {
      "text/plain": [
       "<AxesSubplot:>"
      ]
     },
     "execution_count": 7,
     "metadata": {},
     "output_type": "execute_result"
    },
    {
     "data": {
      "image/png": "[encoded data removed]",
      "text/plain": [
       "<Figure size 1080x504 with 2 Axes>"
      ]
     },
     "metadata": {
      "needs_background": "light"
     },
     "output_type": "display_data"
    }
   ],
   "source": [
    "plt.figure(figsize=(15,7))\n",
    "sns.heatmap(data.corr(), annot=True)"
   ]
  },
  {
   "cell_type": "markdown",
   "id": "31fd68fb",
   "metadata": {},
   "source": [
    "## Exercise 1 - Is there a correlation between temp/atemp and the total count of rental bikes?\n",
    "### Yes, from the below calculations, there is a positive correlation of 0.4047722757786519 between 'temp' and 'cnt' and 0.40092930412661515 between 'atemp' and 'cnt'."
   ]
  },
  {
   "cell_type": "code",
   "execution_count": 8,
   "id": "d5b567f7",
   "metadata": {},
   "outputs": [],
   "source": [
    "df1 = data[['temp', 'atemp', 'cnt']].copy()"
   ]
  },
  {
   "cell_type": "code",
   "execution_count": 9,
   "id": "2dfa22a3",
   "metadata": {},
   "outputs": [
    {
     "data": {
      "text/plain": [
       "temp     float64\n",
       "atemp    float64\n",
       "cnt        int64\n",
       "dtype: object"
      ]
     },
     "execution_count": 9,
     "metadata": {},
     "output_type": "execute_result"
    }
   ],
   "source": [
    "df1.dtypes"
   ]
  },
  {
   "cell_type": "code",
   "execution_count": 10,
   "id": "afccdb58",
   "metadata": {},
   "outputs": [
    {
     "data": {
      "text/plain": [
       "17379.0"
      ]
     },
     "execution_count": 10,
     "metadata": {},
     "output_type": "execute_result"
    }
   ],
   "source": [
    "N = float(len(df1))\n",
    "N"
   ]
  },
  {
   "cell_type": "code",
   "execution_count": 11,
   "id": "05d8e572",
   "metadata": {},
   "outputs": [],
   "source": [
    "# for correlation between two data"
   ]
  },
  {
   "cell_type": "code",
   "execution_count": 12,
   "id": "62c62237",
   "metadata": {},
   "outputs": [
    {
     "data": {
      "text/plain": [
       "0        0.24\n",
       "1        0.22\n",
       "2        0.22\n",
       "3        0.24\n",
       "4        0.24\n",
       "         ... \n",
       "17374    0.26\n",
       "17375    0.26\n",
       "17376    0.26\n",
       "17377    0.26\n",
       "17378    0.26\n",
       "Name: temp, Length: 17379, dtype: float64"
      ]
     },
     "execution_count": 12,
     "metadata": {},
     "output_type": "execute_result"
    }
   ],
   "source": [
    "X1 = df1['temp']\n",
    "X1"
   ]
  },
  {
   "cell_type": "code",
   "execution_count": 13,
   "id": "eda73e44",
   "metadata": {},
   "outputs": [
    {
     "data": {
      "text/plain": [
       "0         16\n",
       "1         40\n",
       "2         32\n",
       "3         13\n",
       "4          1\n",
       "        ... \n",
       "17374    119\n",
       "17375     89\n",
       "17376     90\n",
       "17377     61\n",
       "17378     49\n",
       "Name: cnt, Length: 17379, dtype: int64"
      ]
     },
     "execution_count": 13,
     "metadata": {},
     "output_type": "execute_result"
    }
   ],
   "source": [
    "Y = df1['cnt']\n",
    "Y"
   ]
  },
  {
   "cell_type": "code",
   "execution_count": 14,
   "id": "ed4cc493",
   "metadata": {},
   "outputs": [
    {
     "data": {
      "text/plain": [
       "[14.137599681697658]"
      ]
     },
     "execution_count": 14,
     "metadata": {},
     "output_type": "execute_result"
    }
   ],
   "source": [
    "cov1 = [sum((X1 - X1.mean()) * (Y - Y.mean())) * (1 / (N - 1))]\n",
    "cov1"
   ]
  },
  {
   "cell_type": "code",
   "execution_count": 15,
   "id": "8b795e3d",
   "metadata": {},
   "outputs": [
    {
     "data": {
      "text/plain": [
       "0.19255612124972407"
      ]
     },
     "execution_count": 15,
     "metadata": {},
     "output_type": "execute_result"
    }
   ],
   "source": [
    "S1 = df1['temp'].std()\n",
    "S1"
   ]
  },
  {
   "cell_type": "code",
   "execution_count": 16,
   "id": "4c7fca78",
   "metadata": {},
   "outputs": [
    {
     "data": {
      "text/plain": [
       "181.38759909186527"
      ]
     },
     "execution_count": 16,
     "metadata": {},
     "output_type": "execute_result"
    }
   ],
   "source": [
    "S = df1['cnt'].std()\n",
    "S"
   ]
  },
  {
   "cell_type": "code",
   "execution_count": 17,
   "id": "65776a32",
   "metadata": {},
   "outputs": [
    {
     "data": {
      "text/plain": [
       "0.4047722757786519"
      ]
     },
     "execution_count": 17,
     "metadata": {},
     "output_type": "execute_result"
    }
   ],
   "source": [
    "corr1 = (cov1[0] / (S1 * S))\n",
    "corr1"
   ]
  },
  {
   "cell_type": "code",
   "execution_count": 18,
   "id": "40e170bf",
   "metadata": {},
   "outputs": [],
   "source": [
    "# making a function for it\n",
    "def corr(x, y):\n",
    "    # first define X and Y\n",
    "    X = df1[x]\n",
    "    Y = df1[y]\n",
    "   \n",
    "    # find covariance\n",
    "    cov = [sum((X - X.mean()) * (Y - Y.mean())) * (1 / (N - 1))]\n",
    "    \n",
    "    # find standard deviation\n",
    "    sdX = df1[x].std()\n",
    "    sdY = df1[y].std()\n",
    "    \n",
    "    # find correlation \n",
    "    corr = (cov[0] / (sdX * sdY))\n",
    "    return corr"
   ]
  },
  {
   "cell_type": "code",
   "execution_count": 19,
   "id": "9331f8f2",
   "metadata": {},
   "outputs": [
    {
     "data": {
      "text/plain": [
       "0.4047722757786519"
      ]
     },
     "execution_count": 19,
     "metadata": {},
     "output_type": "execute_result"
    }
   ],
   "source": [
    "# 1.1 - correlation between temp and cnt\n",
    "corr1 = corr('temp','cnt')\n",
    "corr1"
   ]
  },
  {
   "cell_type": "code",
   "execution_count": 20,
   "id": "cb477e0f",
   "metadata": {},
   "outputs": [
    {
     "data": {
      "text/plain": [
       "0.40092930412661515"
      ]
     },
     "execution_count": 20,
     "metadata": {},
     "output_type": "execute_result"
    }
   ],
   "source": [
    "# 1.2 - correlation between atemp and cnt\n",
    "corr2 = corr('atemp', 'cnt')\n",
    "corr2"
   ]
  },
  {
   "cell_type": "code",
   "execution_count": 21,
   "id": "799806d2",
   "metadata": {},
   "outputs": [
    {
     "data": {
      "text/html": [
       "<div>\n",
       "<style scoped>\n",
       "    .dataframe tbody tr th:only-of-type {\n",
       "        vertical-align: middle;\n",
       "    }\n",
       "\n",
       "    .dataframe tbody tr th {\n",
       "        vertical-align: top;\n",
       "    }\n",
       "\n",
       "    .dataframe thead th {\n",
       "        text-align: right;\n",
       "    }\n",
       "</style>\n",
       "<table border=\"1\" class=\"dataframe\">\n",
       "  <thead>\n",
       "    <tr style=\"text-align: right;\">\n",
       "      <th></th>\n",
       "      <th>temp</th>\n",
       "      <th>atemp</th>\n",
       "      <th>cnt</th>\n",
       "    </tr>\n",
       "  </thead>\n",
       "  <tbody>\n",
       "    <tr>\n",
       "      <th>temp</th>\n",
       "      <td>1.000000</td>\n",
       "      <td>0.987672</td>\n",
       "      <td>0.404772</td>\n",
       "    </tr>\n",
       "    <tr>\n",
       "      <th>atemp</th>\n",
       "      <td>0.987672</td>\n",
       "      <td>1.000000</td>\n",
       "      <td>0.400929</td>\n",
       "    </tr>\n",
       "    <tr>\n",
       "      <th>cnt</th>\n",
       "      <td>0.404772</td>\n",
       "      <td>0.400929</td>\n",
       "      <td>1.000000</td>\n",
       "    </tr>\n",
       "  </tbody>\n",
       "</table>\n",
       "</div>"
      ],
      "text/plain": [
       "           temp     atemp       cnt\n",
       "temp   1.000000  0.987672  0.404772\n",
       "atemp  0.987672  1.000000  0.400929\n",
       "cnt    0.404772  0.400929  1.000000"
      ]
     },
     "execution_count": 21,
     "metadata": {},
     "output_type": "execute_result"
    }
   ],
   "source": [
    "# verifying the results\n",
    "df1.corr()"
   ]
  },
  {
   "cell_type": "code",
   "execution_count": 22,
   "id": "d2ae5bdb",
   "metadata": {},
   "outputs": [
    {
     "data": {
      "text/plain": [
       "<AxesSubplot:>"
      ]
     },
     "execution_count": 22,
     "metadata": {},
     "output_type": "execute_result"
    },
    {
     "data": {
      "image/png": "[encoded data removed]",
      "text/plain": [
       "<Figure size 432x288 with 2 Axes>"
      ]
     },
     "metadata": {
      "needs_background": "light"
     },
     "output_type": "display_data"
    }
   ],
   "source": [
    "df1.corr()\n",
    "sns.heatmap(df1.corr(), annot = True)"
   ]
  },
  {
   "cell_type": "markdown",
   "id": "48cde4f0",
   "metadata": {},
   "source": [
    "## Exercise 2 - Can the number of bike rentals be predicted by whether or not it is a holiday and the weather is good?\n",
    "###  For 'holiday and number of bike rentals' as features, the correlation coefficient is -0.031. In addition to that, the correlation coefficient between 'weather and number of bike rentals' is -0.14.  As observed, both the values are quite close to 0. From this, it can be derived that the number of bike rentals predicted using these two features cannot be termed as good.\n",
    "## Exercise 3 - Can the number of total bike rentals be predicted by holiday and weather?\n",
    "### Yes, the number of total bike rentals can be predicted using holiday and weather as independent variable. \n",
    "## Exercise 4 - Are weather and holiday good predictors?\n",
    "### As per the histogram of Y and predicted Y plotted below, it is observed that the accuracy of the predicted is very low as the range of the predicted values(Y_pred) is limited compared to the original values(Y). Hence, it can be concluded that weather and holiday are not good predictors."
   ]
  },
  {
   "cell_type": "code",
   "execution_count": 23,
   "id": "9f8d3c74",
   "metadata": {},
   "outputs": [],
   "source": [
    "df2 = data[['holiday', 'weathersit', 'cnt']].copy()   # 1 - best among them\n",
    "df3 = df2[df2['holiday'] == 1]"
   ]
  },
  {
   "cell_type": "code",
   "execution_count": 24,
   "id": "2da84af5",
   "metadata": {},
   "outputs": [
    {
     "data": {
      "text/plain": [
       "array([1, 2, 3, 4], dtype=int64)"
      ]
     },
     "execution_count": 24,
     "metadata": {},
     "output_type": "execute_result"
    }
   ],
   "source": [
    "df2['weathersit'].unique()"
   ]
  },
  {
   "cell_type": "code",
   "execution_count": 25,
   "id": "be29e98e",
   "metadata": {},
   "outputs": [
    {
     "data": {
      "text/plain": [
       "0    16879\n",
       "1      500\n",
       "Name: holiday, dtype: int64"
      ]
     },
     "execution_count": 25,
     "metadata": {},
     "output_type": "execute_result"
    }
   ],
   "source": [
    "df2['holiday'].value_counts()   # 0 - non holiday"
   ]
  },
  {
   "cell_type": "code",
   "execution_count": 26,
   "id": "182b92c1",
   "metadata": {},
   "outputs": [
    {
     "data": {
      "text/html": [
       "<div>\n",
       "<style scoped>\n",
       "    .dataframe tbody tr th:only-of-type {\n",
       "        vertical-align: middle;\n",
       "    }\n",
       "\n",
       "    .dataframe tbody tr th {\n",
       "        vertical-align: top;\n",
       "    }\n",
       "\n",
       "    .dataframe thead th {\n",
       "        text-align: right;\n",
       "    }\n",
       "</style>\n",
       "<table border=\"1\" class=\"dataframe\">\n",
       "  <thead>\n",
       "    <tr style=\"text-align: right;\">\n",
       "      <th></th>\n",
       "      <th>holiday</th>\n",
       "      <th>weathersit</th>\n",
       "      <th>cnt</th>\n",
       "    </tr>\n",
       "  </thead>\n",
       "  <tbody>\n",
       "    <tr>\n",
       "      <th>0</th>\n",
       "      <td>0</td>\n",
       "      <td>1</td>\n",
       "      <td>16</td>\n",
       "    </tr>\n",
       "    <tr>\n",
       "      <th>1</th>\n",
       "      <td>0</td>\n",
       "      <td>1</td>\n",
       "      <td>40</td>\n",
       "    </tr>\n",
       "    <tr>\n",
       "      <th>2</th>\n",
       "      <td>0</td>\n",
       "      <td>1</td>\n",
       "      <td>32</td>\n",
       "    </tr>\n",
       "    <tr>\n",
       "      <th>3</th>\n",
       "      <td>0</td>\n",
       "      <td>1</td>\n",
       "      <td>13</td>\n",
       "    </tr>\n",
       "    <tr>\n",
       "      <th>4</th>\n",
       "      <td>0</td>\n",
       "      <td>1</td>\n",
       "      <td>1</td>\n",
       "    </tr>\n",
       "  </tbody>\n",
       "</table>\n",
       "</div>"
      ],
      "text/plain": [
       "   holiday  weathersit  cnt\n",
       "0        0           1   16\n",
       "1        0           1   40\n",
       "2        0           1   32\n",
       "3        0           1   13\n",
       "4        0           1    1"
      ]
     },
     "execution_count": 26,
     "metadata": {},
     "output_type": "execute_result"
    }
   ],
   "source": [
    "df2.head()"
   ]
  },
  {
   "cell_type": "code",
   "execution_count": 27,
   "id": "9ba67e1a",
   "metadata": {},
   "outputs": [
    {
     "data": {
      "text/plain": [
       "<AxesSubplot:>"
      ]
     },
     "execution_count": 27,
     "metadata": {},
     "output_type": "execute_result"
    },
    {
     "data": {
      "image/png": "[encoded data removed]",
      "text/plain": [
       "<Figure size 432x288 with 2 Axes>"
      ]
     },
     "metadata": {
      "needs_background": "light"
     },
     "output_type": "display_data"
    }
   ],
   "source": [
    "df2.corr()\n",
    "sns.heatmap(df2.corr(), annot = True)"
   ]
  },
  {
   "cell_type": "code",
   "execution_count": 28,
   "id": "1e464f03",
   "metadata": {},
   "outputs": [],
   "source": [
    "# X1 - holiday\n",
    "h1 = df2.iloc[:,0]\n",
    "h2 = df3.iloc[:,0]"
   ]
  },
  {
   "cell_type": "code",
   "execution_count": 29,
   "id": "fd370077",
   "metadata": {},
   "outputs": [],
   "source": [
    "# X2 - weather\n",
    "w1 = df2.iloc[:,1]\n",
    "w2 = df3.iloc[:,1]"
   ]
  },
  {
   "cell_type": "code",
   "execution_count": 30,
   "id": "ec3d68a5",
   "metadata": {},
   "outputs": [],
   "source": [
    "# c - count of bikes\n",
    "c1 = df2.iloc[:,2]\n",
    "c2 = df3.iloc[:,2]"
   ]
  },
  {
   "cell_type": "code",
   "execution_count": 31,
   "id": "fed6ba83",
   "metadata": {},
   "outputs": [],
   "source": [
    "# GRADIENT DESCENT \n",
    "\n",
    "def gd(X1, X2, Y):\n",
    "    t0 = 0   # t0 - theta 0\n",
    "    t1 = 0   # t1 - theta 1\n",
    "    t2 = 0   # t2 - theta 2\n",
    "\n",
    "    A = 0.002      # the learning Rate alpha\n",
    "    epochs = 1000  # the number of iterations to perform gradient descent\n",
    "\n",
    "    n = float(len(X1)) # number of elements in X\n",
    "    print(n)\n",
    "\n",
    "    # Performing Gradient Descent\n",
    "    for i in range(epochs):\n",
    "        Y_pred = t2 * X2 + t1 * X1 + t0            # current predicted value of Y\n",
    "        D_t2 = (-2/n) * sum(X2 * (Y - Y_pred))     # pd wrt t2\n",
    "        D_t1 = (-2/n) * sum(X1 * (Y - Y_pred))     # pd wrt t1\n",
    "        D_t0 = (-2/n) * sum(Y - Y_pred)            # pd wrt t0\n",
    "        t2 = t2 - A * D_t2                         # update t2\n",
    "        t1 = t1 - A * D_t1                         # update t1\n",
    "        t0 = t0 - A * D_t0                         # update t0\n",
    "    print (t0, t1, t2)\n",
    "    return t0,t1,t2"
   ]
  },
  {
   "cell_type": "code",
   "execution_count": 32,
   "id": "9aacd34b",
   "metadata": {},
   "outputs": [
    {
     "name": "stdout",
     "output_type": "stream",
     "text": [
      "17379.0\n",
      "126.56287101529387 0.16196397933375936 33.70870748450864\n",
      "500.0\n",
      "64.05841441646255 64.05841441646255 17.528422430920596\n"
     ]
    }
   ],
   "source": [
    "m0, m1, m2 = gd(h1, w1, c1)\n",
    "n0, n1, n2 = gd(h2, w2, c2)"
   ]
  },
  {
   "cell_type": "code",
   "execution_count": 33,
   "id": "15d80a12",
   "metadata": {},
   "outputs": [
    {
     "name": "stdout",
     "output_type": "stream",
     "text": [
      "RMSE when all holiday values are considered:\n",
      " 186.2749543803218\n",
      "RMSE when only value 1 from holiday column is considered:\n",
      " 157.8410145369674\n"
     ]
    }
   ],
   "source": [
    "# plotting the original Y against Y_pred to understand the differnce \n",
    "# when all the holiday values are considered\n",
    "y1 = (m2 * w1) + (m1 * h1) + m0\n",
    "rmse1 = mean_squared_error(c1, y1, squared=False)\n",
    "print(\"RMSE when all holiday values are considered:\\n\", rmse1)\n",
    "# when only holiday value 1 is considered\n",
    "y2 = (n2 * w2) + (n1 * h2) + n0\n",
    "rmse2 = mean_squared_error(c2, y2, squared=False)\n",
    "print(\"RMSE when only value 1 from holiday column is considered:\\n\", rmse2)"
   ]
  },
  {
   "cell_type": "code",
   "execution_count": 34,
   "id": "9c9d8bc0",
   "metadata": {},
   "outputs": [
    {
     "name": "stdout",
     "output_type": "stream",
     "text": [
      "coefficient of holiday:  -39.986020650748465\n",
      "coefficient of weathersit:  -41.42277657605112\n"
     ]
    }
   ],
   "source": [
    "X = df2[['holiday', 'weathersit']]\n",
    "y = df2['cnt']\n",
    "X_train, X_test, y_train, y_test = train_test_split(X, y, test_size=0.2,random_state=42)\n",
    "model = LinearRegression()\n",
    "model.fit(X_train, y_train)\n",
    "coef_holiday = model.coef_[0]\n",
    "coef_weathersit = model.coef_[1]\n",
    "print(\"coefficient of holiday: \" ,coef_holiday)\n",
    "print(\"coefficient of weathersit: \" ,coef_weathersit)"
   ]
  },
  {
   "cell_type": "code",
   "execution_count": 35,
   "id": "cfff6a0c",
   "metadata": {},
   "outputs": [
    {
     "name": "stdout",
     "output_type": "stream",
     "text": [
      "261.39770095332847 160.2715784998025\n"
     ]
    },
    {
     "data": {
      "image/png": "[encoded data removed]",
      "text/plain": [
       "<Figure size 432x288 with 1 Axes>"
      ]
     },
     "metadata": {
      "needs_background": "light"
     },
     "output_type": "display_data"
    }
   ],
   "source": [
    "plt.hist(c1, color='red')\n",
    "plt.hist(y1, color='blue')\n",
    "print(max(y1), min(y1))"
   ]
  },
  {
   "cell_type": "markdown",
   "id": "edda94d0",
   "metadata": {},
   "source": [
    "## Exercise - 5 Implement multilinear regression and plot the curve for RMSE and RMSLE. Which curve gives you better information?"
   ]
  },
  {
   "cell_type": "code",
   "execution_count": 36,
   "id": "9f2a2921",
   "metadata": {},
   "outputs": [],
   "source": [
    "# copy the data into another dataframe\n",
    "df = data.copy()"
   ]
  },
  {
   "cell_type": "code",
   "execution_count": 37,
   "id": "ef01b550",
   "metadata": {},
   "outputs": [],
   "source": [
    "# dropping the column dteday\n",
    "df.drop(['dteday'], axis=1, inplace=True)"
   ]
  },
  {
   "cell_type": "code",
   "execution_count": 38,
   "id": "88a06a5c",
   "metadata": {},
   "outputs": [
    {
     "data": {
      "text/plain": [
       "hum          -0.322911\n",
       "weathersit   -0.142426\n",
       "holiday      -0.030927\n",
       "weekday       0.026900\n",
       "workingday    0.030284\n",
       "windspeed     0.093234\n",
       "mnth          0.120638\n",
       "season        0.178056\n",
       "yr            0.250495\n",
       "instant       0.278379\n",
       "hr            0.394071\n",
       "atemp         0.400929\n",
       "temp          0.404772\n",
       "casual        0.694564\n",
       "registered    0.972151\n",
       "cnt           1.000000\n",
       "Name: cnt, dtype: float64"
      ]
     },
     "execution_count": 38,
     "metadata": {},
     "output_type": "execute_result"
    }
   ],
   "source": [
    "# finding and arranging correlation coefficient values\n",
    "df.corr()['cnt'].sort_values()"
   ]
  },
  {
   "cell_type": "code",
   "execution_count": 39,
   "id": "5f85f1eb",
   "metadata": {},
   "outputs": [
    {
     "data": {
      "text/html": [
       "<div>\n",
       "<style scoped>\n",
       "    .dataframe tbody tr th:only-of-type {\n",
       "        vertical-align: middle;\n",
       "    }\n",
       "\n",
       "    .dataframe tbody tr th {\n",
       "        vertical-align: top;\n",
       "    }\n",
       "\n",
       "    .dataframe thead th {\n",
       "        text-align: right;\n",
       "    }\n",
       "</style>\n",
       "<table border=\"1\" class=\"dataframe\">\n",
       "  <thead>\n",
       "    <tr style=\"text-align: right;\">\n",
       "      <th></th>\n",
       "      <th>hum</th>\n",
       "      <th>weathersit</th>\n",
       "      <th>hr</th>\n",
       "      <th>atemp</th>\n",
       "      <th>temp</th>\n",
       "      <th>casual</th>\n",
       "      <th>registered</th>\n",
       "      <th>cnt</th>\n",
       "    </tr>\n",
       "  </thead>\n",
       "  <tbody>\n",
       "    <tr>\n",
       "      <th>0</th>\n",
       "      <td>0.81</td>\n",
       "      <td>1</td>\n",
       "      <td>0</td>\n",
       "      <td>0.2879</td>\n",
       "      <td>0.24</td>\n",
       "      <td>3</td>\n",
       "      <td>13</td>\n",
       "      <td>16</td>\n",
       "    </tr>\n",
       "    <tr>\n",
       "      <th>1</th>\n",
       "      <td>0.80</td>\n",
       "      <td>1</td>\n",
       "      <td>1</td>\n",
       "      <td>0.2727</td>\n",
       "      <td>0.22</td>\n",
       "      <td>8</td>\n",
       "      <td>32</td>\n",
       "      <td>40</td>\n",
       "    </tr>\n",
       "    <tr>\n",
       "      <th>2</th>\n",
       "      <td>0.80</td>\n",
       "      <td>1</td>\n",
       "      <td>2</td>\n",
       "      <td>0.2727</td>\n",
       "      <td>0.22</td>\n",
       "      <td>5</td>\n",
       "      <td>27</td>\n",
       "      <td>32</td>\n",
       "    </tr>\n",
       "    <tr>\n",
       "      <th>3</th>\n",
       "      <td>0.75</td>\n",
       "      <td>1</td>\n",
       "      <td>3</td>\n",
       "      <td>0.2879</td>\n",
       "      <td>0.24</td>\n",
       "      <td>3</td>\n",
       "      <td>10</td>\n",
       "      <td>13</td>\n",
       "    </tr>\n",
       "    <tr>\n",
       "      <th>4</th>\n",
       "      <td>0.75</td>\n",
       "      <td>1</td>\n",
       "      <td>4</td>\n",
       "      <td>0.2879</td>\n",
       "      <td>0.24</td>\n",
       "      <td>0</td>\n",
       "      <td>1</td>\n",
       "      <td>1</td>\n",
       "    </tr>\n",
       "    <tr>\n",
       "      <th>...</th>\n",
       "      <td>...</td>\n",
       "      <td>...</td>\n",
       "      <td>...</td>\n",
       "      <td>...</td>\n",
       "      <td>...</td>\n",
       "      <td>...</td>\n",
       "      <td>...</td>\n",
       "      <td>...</td>\n",
       "    </tr>\n",
       "    <tr>\n",
       "      <th>17374</th>\n",
       "      <td>0.60</td>\n",
       "      <td>2</td>\n",
       "      <td>19</td>\n",
       "      <td>0.2576</td>\n",
       "      <td>0.26</td>\n",
       "      <td>11</td>\n",
       "      <td>108</td>\n",
       "      <td>119</td>\n",
       "    </tr>\n",
       "    <tr>\n",
       "      <th>17375</th>\n",
       "      <td>0.60</td>\n",
       "      <td>2</td>\n",
       "      <td>20</td>\n",
       "      <td>0.2576</td>\n",
       "      <td>0.26</td>\n",
       "      <td>8</td>\n",
       "      <td>81</td>\n",
       "      <td>89</td>\n",
       "    </tr>\n",
       "    <tr>\n",
       "      <th>17376</th>\n",
       "      <td>0.60</td>\n",
       "      <td>1</td>\n",
       "      <td>21</td>\n",
       "      <td>0.2576</td>\n",
       "      <td>0.26</td>\n",
       "      <td>7</td>\n",
       "      <td>83</td>\n",
       "      <td>90</td>\n",
       "    </tr>\n",
       "    <tr>\n",
       "      <th>17377</th>\n",
       "      <td>0.56</td>\n",
       "      <td>1</td>\n",
       "      <td>22</td>\n",
       "      <td>0.2727</td>\n",
       "      <td>0.26</td>\n",
       "      <td>13</td>\n",
       "      <td>48</td>\n",
       "      <td>61</td>\n",
       "    </tr>\n",
       "    <tr>\n",
       "      <th>17378</th>\n",
       "      <td>0.65</td>\n",
       "      <td>1</td>\n",
       "      <td>23</td>\n",
       "      <td>0.2727</td>\n",
       "      <td>0.26</td>\n",
       "      <td>12</td>\n",
       "      <td>37</td>\n",
       "      <td>49</td>\n",
       "    </tr>\n",
       "  </tbody>\n",
       "</table>\n",
       "<p>17379 rows × 8 columns</p>\n",
       "</div>"
      ],
      "text/plain": [
       "        hum  weathersit  hr   atemp  temp  casual  registered  cnt\n",
       "0      0.81           1   0  0.2879  0.24       3          13   16\n",
       "1      0.80           1   1  0.2727  0.22       8          32   40\n",
       "2      0.80           1   2  0.2727  0.22       5          27   32\n",
       "3      0.75           1   3  0.2879  0.24       3          10   13\n",
       "4      0.75           1   4  0.2879  0.24       0           1    1\n",
       "...     ...         ...  ..     ...   ...     ...         ...  ...\n",
       "17374  0.60           2  19  0.2576  0.26      11         108  119\n",
       "17375  0.60           2  20  0.2576  0.26       8          81   89\n",
       "17376  0.60           1  21  0.2576  0.26       7          83   90\n",
       "17377  0.56           1  22  0.2727  0.26      13          48   61\n",
       "17378  0.65           1  23  0.2727  0.26      12          37   49\n",
       "\n",
       "[17379 rows x 8 columns]"
      ]
     },
     "execution_count": 39,
     "metadata": {},
     "output_type": "execute_result"
    }
   ],
   "source": [
    "data1 = df[['hum', 'weathersit', 'hr','atemp', 'temp', 'casual', 'registered', 'cnt']]\n",
    "data1"
   ]
  },
  {
   "cell_type": "markdown",
   "id": "e7a4d1f1",
   "metadata": {},
   "source": [
    "#copy the data\n",
    "df_mm = data1.copy()\n",
    "  \n",
    "#apply normalization techniques\n",
    "for column in df_mm.columns:\n",
    "    df_mm[column] = (df_mm[column] - df_mm[column].min()) / (df_mm[column].max() - df_mm[column].min())    \n",
    "\n",
    "print(df_mm)"
   ]
  },
  {
   "cell_type": "code",
   "execution_count": 40,
   "id": "5bc61cf4",
   "metadata": {},
   "outputs": [
    {
     "data": {
      "text/plain": [
       "array([[ 0.81,  1.  ,  0.  , ...,  0.24,  3.  , 13.  ],\n",
       "       [ 0.8 ,  1.  ,  1.  , ...,  0.22,  8.  , 32.  ],\n",
       "       [ 0.8 ,  1.  ,  2.  , ...,  0.22,  5.  , 27.  ],\n",
       "       ...,\n",
       "       [ 0.6 ,  1.  , 21.  , ...,  0.26,  7.  , 83.  ],\n",
       "       [ 0.56,  1.  , 22.  , ...,  0.26, 13.  , 48.  ],\n",
       "       [ 0.65,  1.  , 23.  , ...,  0.26, 12.  , 37.  ]])"
      ]
     },
     "execution_count": 40,
     "metadata": {},
     "output_type": "execute_result"
    }
   ],
   "source": [
    "X = data1.iloc[:,:-1].values\n",
    "X "
   ]
  },
  {
   "cell_type": "code",
   "execution_count": 41,
   "id": "50cce2d1",
   "metadata": {},
   "outputs": [],
   "source": [
    "# Add a column of ones for the intercept term\n",
    "#X = np.insert(X, 0, 1, axis=1)\n",
    "#X"
   ]
  },
  {
   "cell_type": "code",
   "execution_count": 42,
   "id": "a16d0307",
   "metadata": {},
   "outputs": [
    {
     "data": {
      "text/plain": [
       "array([16, 40, 32, ..., 90, 61, 49], dtype=int64)"
      ]
     },
     "execution_count": 42,
     "metadata": {},
     "output_type": "execute_result"
    }
   ],
   "source": [
    "#y = preprocessing.scale(df['cnt'])\n",
    "Y = data1.iloc[:,-1].values\n",
    "Y"
   ]
  },
  {
   "cell_type": "code",
   "execution_count": 43,
   "id": "5b092f21",
   "metadata": {},
   "outputs": [
    {
     "name": "stdout",
     "output_type": "stream",
     "text": [
      "[[0.59332685 0.69314718 0.         ... 0.21511138 1.38629436 2.63905733]\n",
      " [0.58778666 0.69314718 0.69314718 ... 0.19885086 2.19722458 3.49650756]\n",
      " [0.58778666 0.69314718 1.09861229 ... 0.19885086 1.79175947 3.33220451]\n",
      " ...\n",
      " [0.47000363 0.69314718 3.09104245 ... 0.23111172 2.07944154 4.4308168 ]\n",
      " [0.44468582 0.69314718 3.13549422 ... 0.23111172 2.63905733 3.8918203 ]\n",
      " [0.50077529 0.69314718 3.17805383 ... 0.23111172 2.56494936 3.63758616]]\n",
      "[2.83321334 3.71357207 3.49650756 ... 4.51085951 4.12713439 3.91202301]\n"
     ]
    }
   ],
   "source": [
    "# Normalize the target variable (y) and features (X) by taking the logarithm\n",
    "Y = np.log1p(Y)\n",
    "X = np.log1p(X)\n",
    "print(X)\n",
    "print(Y)"
   ]
  },
  {
   "cell_type": "code",
   "execution_count": 44,
   "id": "6d3dd962",
   "metadata": {},
   "outputs": [
    {
     "name": "stdout",
     "output_type": "stream",
     "text": [
      "Shape of X: (17379, 7)\n",
      "Shape of Y: (17379,)\n"
     ]
    }
   ],
   "source": [
    "X_train, X_test, Y_train, Y_test = train_test_split(X, Y, test_size = 0.3,random_state=42)\n",
    "print(\"Shape of X:\", X.shape)\n",
    "print(\"Shape of Y:\", Y.shape)"
   ]
  },
  {
   "cell_type": "code",
   "execution_count": 45,
   "id": "23799a35",
   "metadata": {},
   "outputs": [
    {
     "name": "stdout",
     "output_type": "stream",
     "text": [
      "N: 12165.0\n",
      "t1:  (7,)\n",
      "Coefficients: [0.08890008 0.13666504 0.17948725 0.05275375 0.05345233 0.23723774\n",
      " 0.75484264]\n",
      "RMSE:  0.17208985959667025\n",
      "RMSLE:  1.2015763142805032\n"
     ]
    }
   ],
   "source": [
    "# Lists to store RMSE and RMSLE values during training\n",
    "rmse_values = []\n",
    "rmsle_values = []\n",
    "\n",
    "# gradient descent using matrix dot product\n",
    "A = 0.001\n",
    "epochs = 1000\n",
    "\n",
    "n = float(len(Y_train))\n",
    "print(\"N:\",n)\n",
    "\n",
    "# t - theta - making a matrix of the dimension [no of columns of X, 1]\n",
    "t1 = np.zeros(X_train.shape[1])\n",
    "#t1 = np.random.rand(X_train.shape[1])\n",
    "print(\"t1: \",t1.shape)\n",
    "\n",
    "for i in range(epochs):\n",
    "    # taking a dot product of the matrices X and t1 and add t0\n",
    "    Y_pred = np.dot(X_train, t1) #+ t0         \n",
    "    #print(\"Y_pred: \",Y_pred.shape)\n",
    "    \n",
    "    err = Y_pred - Y_train\n",
    "    # partial derivative wrt t1\n",
    "    D_t1 = (2/n) * np.dot(err, X_train)      \n",
    "    #print(\"D_t1: \",D_t1.shape)\n",
    "    \n",
    "    # updatation of t\n",
    "    t1 = t1 - A * D_t1                          \n",
    "   \n",
    "    # Calculate RMSE and RMSLE and store in lists\n",
    "    mse = np.square(np.subtract(Y_test, (np.dot(X_test, t1)))).mean() \n",
    "    rmse = math.sqrt(mse)\n",
    "    rmse_values.append(rmse)\n",
    "    #rmse_values.append(np.sqrt(mean_squared_error(Y_test, np.dot(X_test, t1) ))) \n",
    "    msle = np.square((np.log(Y_test + 1) - np.log((np.dot(X_test, t1) + 1)))).mean()\n",
    "    rmsle = math.sqrt(msle)\n",
    "    rmsle_values.append(rmsle)\n",
    "    #rmsle_values.append(np.sqrt(mean_squared_log_error(Y_test, np.dot(X_test, t1)))) \n",
    "\n",
    "    \n",
    "# Print the final coefficients\n",
    "print(\"Coefficients:\", t1)\n",
    "print(\"RMSE: \", rmse_values[-1])\n",
    "print(\"RMSLE: \",rmsle_values[1])"
   ]
  },
  {
   "cell_type": "code",
   "execution_count": 46,
   "id": "25957e68",
   "metadata": {},
   "outputs": [
    {
     "name": "stdout",
     "output_type": "stream",
     "text": [
      "R2 Score when gradient descent is used:  0.9852735880726856\n",
      "R2 score using the library:  0.9965253623797964\n"
     ]
    }
   ],
   "source": [
    "# r2 score for gradient descent\n",
    "y_pred1 = np.dot(X_test, t1)\n",
    "print(\"R2 Score when gradient descent is used: \",r2_score(Y_test, y_pred1))\n",
    "\n",
    "# r2 score using library\n",
    "model = LinearRegression()\n",
    "model.fit(X_train, Y_train)\n",
    "print(\"R2 score using the library: \",model.score(X_test, Y_test))"
   ]
  },
  {
   "cell_type": "code",
   "execution_count": 47,
   "id": "a0c39623",
   "metadata": {},
   "outputs": [
    {
     "name": "stdout",
     "output_type": "stream",
     "text": [
      "Difference:  0.011251774307110773\n"
     ]
    }
   ],
   "source": [
    "# difference between both r2 scores\n",
    "print(\"Difference: \", model.score(X_test, Y_test)-r2_score(Y_test, y_pred1))"
   ]
  },
  {
   "cell_type": "code",
   "execution_count": 48,
   "id": "87550de7",
   "metadata": {},
   "outputs": [
    {
     "name": "stdout",
     "output_type": "stream",
     "text": [
      "Root Mean Square Error:\n",
      "\n",
      "0.17208985959667025\n",
      "\n",
      "\n",
      "Root Mean Square Log Error:\n",
      "\n",
      "0.03958382963909501\n"
     ]
    }
   ],
   "source": [
    "from sklearn.metrics import mean_squared_error\n",
    "import math\n",
    "MSE = mean_squared_error(Y_test, y_pred1)\n",
    "\n",
    "RMSE = math.sqrt(MSE)\n",
    "print(\"Root Mean Square Error:\\n\")\n",
    "print(RMSE)\n",
    "print(\"\\n\")\n",
    "MSLE = mean_squared_log_error(Y_test, np.dot(X_test, t1))\n",
    "RMSLE = math.sqrt(MSLE)\n",
    "print(\"Root Mean Square Log Error:\\n\")\n",
    "print(RMSLE)"
   ]
  },
  {
   "cell_type": "code",
   "execution_count": 49,
   "id": "dae5221b",
   "metadata": {},
   "outputs": [
    {
     "data": {
      "image/png": "[encoded data removed]",
      "text/plain": [
       "<Figure size 864x360 with 2 Axes>"
      ]
     },
     "metadata": {
      "needs_background": "light"
     },
     "output_type": "display_data"
    }
   ],
   "source": [
    "plt.figure(figsize=(12, 5))\n",
    "plt.subplot(1, 2, 1)\n",
    "plt.plot(range(epochs), rmse_values, label='RMSE', color='blue')\n",
    "plt.xlabel('Iterations')\n",
    "plt.ylabel('RMSE')\n",
    "plt.title('RMSE Curve')\n",
    "plt.grid()\n",
    "\n",
    "plt.subplot(1, 2, 2)\n",
    "plt.plot(range(epochs), rmsle_values, label='RMSLE', color='red')\n",
    "plt.xlabel('Iterations')\n",
    "plt.ylabel('RMSLE')\n",
    "plt.title('RMSLE Curve')\n",
    "plt.grid()"
   ]
  },
  {
   "cell_type": "code",
   "execution_count": 50,
   "id": "b01b613a",
   "metadata": {},
   "outputs": [
    {
     "data": {
      "image/png": "[encoded data removed]",
      "text/plain": [
       "<Figure size 432x288 with 1 Axes>"
      ]
     },
     "metadata": {
      "needs_background": "light"
     },
     "output_type": "display_data"
    }
   ],
   "source": [
    "plt.hist(Y_test, color='blue', alpha = 0.8)\n",
    "plt.hist(y_pred1, color='red', alpha = 0.5)\n",
    "plt.show()"
   ]
  },
  {
   "cell_type": "code",
   "execution_count": null,
   "id": "202d2ca0",
   "metadata": {},
   "outputs": [],
   "source": []
  }
 ],
 "metadata": {
  "kernelspec": {
   "display_name": "Python 3 (ipykernel)",
   "language": "python",
   "name": "python3"
  },
  "language_info": {
   "codemirror_mode": {
    "name": "ipython",
    "version": 3
   },
   "file_extension": ".py",
   "mimetype": "text/x-python",
   "name": "python",
   "nbconvert_exporter": "python",
   "pygments_lexer": "ipython3",
   "version": "3.9.7"
  }
 },
 "nbformat": 4,
 "nbformat_minor": 5
}
