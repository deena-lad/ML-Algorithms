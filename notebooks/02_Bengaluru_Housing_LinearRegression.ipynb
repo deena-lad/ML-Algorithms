{
 "cells": [
  {
   "cell_type": "markdown",
   "id": "9a2bd25a",
   "metadata": {},
   "source": [
    "# PRML Assignment 2"
   ]
  },
  {
   "cell_type": "markdown",
   "id": "4f9098f8",
   "metadata": {},
   "source": [
    "Aim: Write a script to implement following for the given dataset Bengaluru Housing Dataset - Datafile: Bengaluru Housing Dataset"
   ]
  },
  {
   "cell_type": "markdown",
   "id": "fe6cb6d4",
   "metadata": {},
   "source": [
    "### Exercise 1: Draw a scatterplot for the data mentioned for the given attributes"
   ]
  },
  {
   "cell_type": "markdown",
   "id": "6a3259a2",
   "metadata": {},
   "source": [
    "### Exercise 2: Perform Data pre-processing"
   ]
  },
  {
   "cell_type": "code",
   "execution_count": 38,
   "id": "f2e57c28",
   "metadata": {},
   "outputs": [],
   "source": [
    "# import libraries\n",
    "import numpy as np\n",
    "import pandas as pd\n",
    "import matplotlib.pyplot as plt\n",
    "from sklearn.linear_model import LinearRegression\n",
    "from sklearn import linear_model\n",
    "from sklearn.metrics import r2_score\n",
    "from sklearn.model_selection import train_test_split"
   ]
  },
  {
   "cell_type": "code",
   "execution_count": 3,
   "id": "43d5a0d7",
   "metadata": {},
   "outputs": [],
   "source": [
    "# read data\n",
    "data = pd.read_csv(r\"C:\\Users\\Deena\\Downloads\\Bengaluru_House_Data.csv\")"
   ]
  },
  {
   "cell_type": "code",
   "execution_count": 4,
   "id": "a43af171",
   "metadata": {},
   "outputs": [
    {
     "data": {
      "text/html": [
       "<div>\n",
       "<style scoped>\n",
       "    .dataframe tbody tr th:only-of-type {\n",
       "        vertical-align: middle;\n",
       "    }\n",
       "\n",
       "    .dataframe tbody tr th {\n",
       "        vertical-align: top;\n",
       "    }\n",
       "\n",
       "    .dataframe thead th {\n",
       "        text-align: right;\n",
       "    }\n",
       "</style>\n",
       "<table border=\"1\" class=\"dataframe\">\n",
       "  <thead>\n",
       "    <tr style=\"text-align: right;\">\n",
       "      <th></th>\n",
       "      <th>area_type</th>\n",
       "      <th>availability</th>\n",
       "      <th>location</th>\n",
       "      <th>size</th>\n",
       "      <th>society</th>\n",
       "      <th>total_sqft</th>\n",
       "      <th>bath</th>\n",
       "      <th>balcony</th>\n",
       "      <th>price</th>\n",
       "    </tr>\n",
       "  </thead>\n",
       "  <tbody>\n",
       "    <tr>\n",
       "      <th>0</th>\n",
       "      <td>Super built-up  Area</td>\n",
       "      <td>19-Dec</td>\n",
       "      <td>Electronic City Phase II</td>\n",
       "      <td>2 BHK</td>\n",
       "      <td>Coomee</td>\n",
       "      <td>1056</td>\n",
       "      <td>2.0</td>\n",
       "      <td>1.0</td>\n",
       "      <td>39.07</td>\n",
       "    </tr>\n",
       "    <tr>\n",
       "      <th>1</th>\n",
       "      <td>Plot  Area</td>\n",
       "      <td>Ready To Move</td>\n",
       "      <td>Chikka Tirupathi</td>\n",
       "      <td>4 Bedroom</td>\n",
       "      <td>Theanmp</td>\n",
       "      <td>2600</td>\n",
       "      <td>5.0</td>\n",
       "      <td>3.0</td>\n",
       "      <td>120.00</td>\n",
       "    </tr>\n",
       "    <tr>\n",
       "      <th>2</th>\n",
       "      <td>Built-up  Area</td>\n",
       "      <td>Ready To Move</td>\n",
       "      <td>Uttarahalli</td>\n",
       "      <td>3 BHK</td>\n",
       "      <td>NaN</td>\n",
       "      <td>1440</td>\n",
       "      <td>2.0</td>\n",
       "      <td>3.0</td>\n",
       "      <td>62.00</td>\n",
       "    </tr>\n",
       "    <tr>\n",
       "      <th>3</th>\n",
       "      <td>Super built-up  Area</td>\n",
       "      <td>Ready To Move</td>\n",
       "      <td>Lingadheeranahalli</td>\n",
       "      <td>3 BHK</td>\n",
       "      <td>Soiewre</td>\n",
       "      <td>1521</td>\n",
       "      <td>3.0</td>\n",
       "      <td>1.0</td>\n",
       "      <td>95.00</td>\n",
       "    </tr>\n",
       "    <tr>\n",
       "      <th>4</th>\n",
       "      <td>Super built-up  Area</td>\n",
       "      <td>Ready To Move</td>\n",
       "      <td>Kothanur</td>\n",
       "      <td>2 BHK</td>\n",
       "      <td>NaN</td>\n",
       "      <td>1200</td>\n",
       "      <td>2.0</td>\n",
       "      <td>1.0</td>\n",
       "      <td>51.00</td>\n",
       "    </tr>\n",
       "  </tbody>\n",
       "</table>\n",
       "</div>"
      ],
      "text/plain": [
       "              area_type   availability                  location       size  \\\n",
       "0  Super built-up  Area         19-Dec  Electronic City Phase II      2 BHK   \n",
       "1            Plot  Area  Ready To Move          Chikka Tirupathi  4 Bedroom   \n",
       "2        Built-up  Area  Ready To Move               Uttarahalli      3 BHK   \n",
       "3  Super built-up  Area  Ready To Move        Lingadheeranahalli      3 BHK   \n",
       "4  Super built-up  Area  Ready To Move                  Kothanur      2 BHK   \n",
       "\n",
       "   society total_sqft  bath  balcony   price  \n",
       "0  Coomee        1056   2.0      1.0   39.07  \n",
       "1  Theanmp       2600   5.0      3.0  120.00  \n",
       "2      NaN       1440   2.0      3.0   62.00  \n",
       "3  Soiewre       1521   3.0      1.0   95.00  \n",
       "4      NaN       1200   2.0      1.0   51.00  "
      ]
     },
     "execution_count": 4,
     "metadata": {},
     "output_type": "execute_result"
    }
   ],
   "source": [
    "data.head()"
   ]
  },
  {
   "cell_type": "code",
   "execution_count": 5,
   "id": "5fa636c5",
   "metadata": {},
   "outputs": [],
   "source": [
    "# make another dataframe of the required columns\n",
    "df = data[['total_sqft','price']].copy()"
   ]
  },
  {
   "cell_type": "code",
   "execution_count": 6,
   "id": "6fa62f27",
   "metadata": {},
   "outputs": [
    {
     "data": {
      "text/html": [
       "<div>\n",
       "<style scoped>\n",
       "    .dataframe tbody tr th:only-of-type {\n",
       "        vertical-align: middle;\n",
       "    }\n",
       "\n",
       "    .dataframe tbody tr th {\n",
       "        vertical-align: top;\n",
       "    }\n",
       "\n",
       "    .dataframe thead th {\n",
       "        text-align: right;\n",
       "    }\n",
       "</style>\n",
       "<table border=\"1\" class=\"dataframe\">\n",
       "  <thead>\n",
       "    <tr style=\"text-align: right;\">\n",
       "      <th></th>\n",
       "      <th>total_sqft</th>\n",
       "      <th>price</th>\n",
       "    </tr>\n",
       "  </thead>\n",
       "  <tbody>\n",
       "    <tr>\n",
       "      <th>0</th>\n",
       "      <td>1056</td>\n",
       "      <td>39.07</td>\n",
       "    </tr>\n",
       "    <tr>\n",
       "      <th>1</th>\n",
       "      <td>2600</td>\n",
       "      <td>120.00</td>\n",
       "    </tr>\n",
       "    <tr>\n",
       "      <th>2</th>\n",
       "      <td>1440</td>\n",
       "      <td>62.00</td>\n",
       "    </tr>\n",
       "    <tr>\n",
       "      <th>3</th>\n",
       "      <td>1521</td>\n",
       "      <td>95.00</td>\n",
       "    </tr>\n",
       "    <tr>\n",
       "      <th>4</th>\n",
       "      <td>1200</td>\n",
       "      <td>51.00</td>\n",
       "    </tr>\n",
       "    <tr>\n",
       "      <th>...</th>\n",
       "      <td>...</td>\n",
       "      <td>...</td>\n",
       "    </tr>\n",
       "    <tr>\n",
       "      <th>13315</th>\n",
       "      <td>3453</td>\n",
       "      <td>231.00</td>\n",
       "    </tr>\n",
       "    <tr>\n",
       "      <th>13316</th>\n",
       "      <td>3600</td>\n",
       "      <td>400.00</td>\n",
       "    </tr>\n",
       "    <tr>\n",
       "      <th>13317</th>\n",
       "      <td>1141</td>\n",
       "      <td>60.00</td>\n",
       "    </tr>\n",
       "    <tr>\n",
       "      <th>13318</th>\n",
       "      <td>4689</td>\n",
       "      <td>488.00</td>\n",
       "    </tr>\n",
       "    <tr>\n",
       "      <th>13319</th>\n",
       "      <td>550</td>\n",
       "      <td>17.00</td>\n",
       "    </tr>\n",
       "  </tbody>\n",
       "</table>\n",
       "<p>13320 rows × 2 columns</p>\n",
       "</div>"
      ],
      "text/plain": [
       "      total_sqft   price\n",
       "0           1056   39.07\n",
       "1           2600  120.00\n",
       "2           1440   62.00\n",
       "3           1521   95.00\n",
       "4           1200   51.00\n",
       "...          ...     ...\n",
       "13315       3453  231.00\n",
       "13316       3600  400.00\n",
       "13317       1141   60.00\n",
       "13318       4689  488.00\n",
       "13319        550   17.00\n",
       "\n",
       "[13320 rows x 2 columns]"
      ]
     },
     "execution_count": 6,
     "metadata": {},
     "output_type": "execute_result"
    }
   ],
   "source": [
    "df"
   ]
  },
  {
   "cell_type": "code",
   "execution_count": 7,
   "id": "722cdb0b",
   "metadata": {},
   "outputs": [
    {
     "data": {
      "text/plain": [
       "total_sqft     object\n",
       "price         float64\n",
       "dtype: object"
      ]
     },
     "execution_count": 7,
     "metadata": {},
     "output_type": "execute_result"
    }
   ],
   "source": [
    "df.dtypes"
   ]
  },
  {
   "cell_type": "code",
   "execution_count": 8,
   "id": "968a5e1e",
   "metadata": {},
   "outputs": [],
   "source": [
    "# using try-except for cleaning the total_sqft column values\n",
    "avg = []\n",
    "for s in df['total_sqft']:  \n",
    "    try:\n",
    "        avg.append(float(s))      # if the values only have numbers\n",
    "    except:\n",
    "        try:\n",
    "            range_list = s.split('-')\n",
    "            avg.append((range_list[0] + range_list[1]) / 2)      # if the values are in a range\n",
    "        except:\n",
    "            avg.append(0)     # 0 doesn't work as it is not showing in isnull"
   ]
  },
  {
   "cell_type": "code",
   "execution_count": 9,
   "id": "ff70cb39",
   "metadata": {},
   "outputs": [
    {
     "data": {
      "text/plain": [
       "[1056.0, 2600.0, 1440.0, 1521.0, 1200.0]"
      ]
     },
     "execution_count": 9,
     "metadata": {},
     "output_type": "execute_result"
    }
   ],
   "source": [
    "avg[:5]"
   ]
  },
  {
   "cell_type": "code",
   "execution_count": 10,
   "id": "ed931940",
   "metadata": {},
   "outputs": [],
   "source": [
    "# add the new values as a new column in the dataframe\n",
    "df['avg_area'] = avg"
   ]
  },
  {
   "cell_type": "code",
   "execution_count": 11,
   "id": "0f3087fe",
   "metadata": {},
   "outputs": [
    {
     "data": {
      "text/plain": [
       "total_sqft    0\n",
       "price         0\n",
       "avg_area      0\n",
       "dtype: int64"
      ]
     },
     "execution_count": 11,
     "metadata": {},
     "output_type": "execute_result"
    }
   ],
   "source": [
    "df.isnull().sum()"
   ]
  },
  {
   "cell_type": "code",
   "execution_count": 12,
   "id": "60e5632e",
   "metadata": {},
   "outputs": [],
   "source": [
    "df.drop(['total_sqft'], axis=1, inplace=True)"
   ]
  },
  {
   "cell_type": "code",
   "execution_count": 13,
   "id": "d629fee0",
   "metadata": {},
   "outputs": [],
   "source": [
    "# drop the rows having null values\n",
    "df.dropna(inplace=True)"
   ]
  },
  {
   "cell_type": "code",
   "execution_count": 14,
   "id": "dae169a7",
   "metadata": {},
   "outputs": [
    {
     "data": {
      "text/html": [
       "<div>\n",
       "<style scoped>\n",
       "    .dataframe tbody tr th:only-of-type {\n",
       "        vertical-align: middle;\n",
       "    }\n",
       "\n",
       "    .dataframe tbody tr th {\n",
       "        vertical-align: top;\n",
       "    }\n",
       "\n",
       "    .dataframe thead th {\n",
       "        text-align: right;\n",
       "    }\n",
       "</style>\n",
       "<table border=\"1\" class=\"dataframe\">\n",
       "  <thead>\n",
       "    <tr style=\"text-align: right;\">\n",
       "      <th></th>\n",
       "      <th>price</th>\n",
       "      <th>avg_area</th>\n",
       "    </tr>\n",
       "  </thead>\n",
       "  <tbody>\n",
       "    <tr>\n",
       "      <th>0</th>\n",
       "      <td>39.07</td>\n",
       "      <td>1056.0</td>\n",
       "    </tr>\n",
       "    <tr>\n",
       "      <th>1</th>\n",
       "      <td>120.00</td>\n",
       "      <td>2600.0</td>\n",
       "    </tr>\n",
       "    <tr>\n",
       "      <th>2</th>\n",
       "      <td>62.00</td>\n",
       "      <td>1440.0</td>\n",
       "    </tr>\n",
       "    <tr>\n",
       "      <th>3</th>\n",
       "      <td>95.00</td>\n",
       "      <td>1521.0</td>\n",
       "    </tr>\n",
       "    <tr>\n",
       "      <th>4</th>\n",
       "      <td>51.00</td>\n",
       "      <td>1200.0</td>\n",
       "    </tr>\n",
       "    <tr>\n",
       "      <th>...</th>\n",
       "      <td>...</td>\n",
       "      <td>...</td>\n",
       "    </tr>\n",
       "    <tr>\n",
       "      <th>13315</th>\n",
       "      <td>231.00</td>\n",
       "      <td>3453.0</td>\n",
       "    </tr>\n",
       "    <tr>\n",
       "      <th>13316</th>\n",
       "      <td>400.00</td>\n",
       "      <td>3600.0</td>\n",
       "    </tr>\n",
       "    <tr>\n",
       "      <th>13317</th>\n",
       "      <td>60.00</td>\n",
       "      <td>1141.0</td>\n",
       "    </tr>\n",
       "    <tr>\n",
       "      <th>13318</th>\n",
       "      <td>488.00</td>\n",
       "      <td>4689.0</td>\n",
       "    </tr>\n",
       "    <tr>\n",
       "      <th>13319</th>\n",
       "      <td>17.00</td>\n",
       "      <td>550.0</td>\n",
       "    </tr>\n",
       "  </tbody>\n",
       "</table>\n",
       "<p>13320 rows × 2 columns</p>\n",
       "</div>"
      ],
      "text/plain": [
       "        price  avg_area\n",
       "0       39.07    1056.0\n",
       "1      120.00    2600.0\n",
       "2       62.00    1440.0\n",
       "3       95.00    1521.0\n",
       "4       51.00    1200.0\n",
       "...       ...       ...\n",
       "13315  231.00    3453.0\n",
       "13316  400.00    3600.0\n",
       "13317   60.00    1141.0\n",
       "13318  488.00    4689.0\n",
       "13319   17.00     550.0\n",
       "\n",
       "[13320 rows x 2 columns]"
      ]
     },
     "execution_count": 14,
     "metadata": {},
     "output_type": "execute_result"
    }
   ],
   "source": [
    "df"
   ]
  },
  {
   "cell_type": "code",
   "execution_count": 15,
   "id": "7baddc00",
   "metadata": {},
   "outputs": [],
   "source": [
    "# standardizing the data \n",
    "df = (df - df.mean()) / df.std()"
   ]
  },
  {
   "cell_type": "code",
   "execution_count": 16,
   "id": "6826bccb",
   "metadata": {},
   "outputs": [
    {
     "data": {
      "text/html": [
       "<div>\n",
       "<style scoped>\n",
       "    .dataframe tbody tr th:only-of-type {\n",
       "        vertical-align: middle;\n",
       "    }\n",
       "\n",
       "    .dataframe tbody tr th {\n",
       "        vertical-align: top;\n",
       "    }\n",
       "\n",
       "    .dataframe thead th {\n",
       "        text-align: right;\n",
       "    }\n",
       "</style>\n",
       "<table border=\"1\" class=\"dataframe\">\n",
       "  <thead>\n",
       "    <tr style=\"text-align: right;\">\n",
       "      <th></th>\n",
       "      <th>price</th>\n",
       "      <th>avg_area</th>\n",
       "    </tr>\n",
       "  </thead>\n",
       "  <tbody>\n",
       "    <tr>\n",
       "      <th>0</th>\n",
       "      <td>-0.493353</td>\n",
       "      <td>-0.377680</td>\n",
       "    </tr>\n",
       "    <tr>\n",
       "      <th>1</th>\n",
       "      <td>0.049905</td>\n",
       "      <td>0.862754</td>\n",
       "    </tr>\n",
       "    <tr>\n",
       "      <th>2</th>\n",
       "      <td>-0.339431</td>\n",
       "      <td>-0.069178</td>\n",
       "    </tr>\n",
       "    <tr>\n",
       "      <th>3</th>\n",
       "      <td>-0.117913</td>\n",
       "      <td>-0.004104</td>\n",
       "    </tr>\n",
       "    <tr>\n",
       "      <th>4</th>\n",
       "      <td>-0.413271</td>\n",
       "      <td>-0.261992</td>\n",
       "    </tr>\n",
       "    <tr>\n",
       "      <th>...</th>\n",
       "      <td>...</td>\n",
       "      <td>...</td>\n",
       "    </tr>\n",
       "    <tr>\n",
       "      <th>13315</th>\n",
       "      <td>0.795013</td>\n",
       "      <td>1.548045</td>\n",
       "    </tr>\n",
       "    <tr>\n",
       "      <th>13316</th>\n",
       "      <td>1.929457</td>\n",
       "      <td>1.666143</td>\n",
       "    </tr>\n",
       "    <tr>\n",
       "      <th>13317</th>\n",
       "      <td>-0.352857</td>\n",
       "      <td>-0.309392</td>\n",
       "    </tr>\n",
       "    <tr>\n",
       "      <th>13318</th>\n",
       "      <td>2.520173</td>\n",
       "      <td>2.541034</td>\n",
       "    </tr>\n",
       "    <tr>\n",
       "      <th>13319</th>\n",
       "      <td>-0.641502</td>\n",
       "      <td>-0.784195</td>\n",
       "    </tr>\n",
       "  </tbody>\n",
       "</table>\n",
       "<p>13320 rows × 2 columns</p>\n",
       "</div>"
      ],
      "text/plain": [
       "          price  avg_area\n",
       "0     -0.493353 -0.377680\n",
       "1      0.049905  0.862754\n",
       "2     -0.339431 -0.069178\n",
       "3     -0.117913 -0.004104\n",
       "4     -0.413271 -0.261992\n",
       "...         ...       ...\n",
       "13315  0.795013  1.548045\n",
       "13316  1.929457  1.666143\n",
       "13317 -0.352857 -0.309392\n",
       "13318  2.520173  2.541034\n",
       "13319 -0.641502 -0.784195\n",
       "\n",
       "[13320 rows x 2 columns]"
      ]
     },
     "execution_count": 16,
     "metadata": {},
     "output_type": "execute_result"
    }
   ],
   "source": [
    "df"
   ]
  },
  {
   "cell_type": "code",
   "execution_count": 17,
   "id": "60c9278e",
   "metadata": {},
   "outputs": [
    {
     "data": {
      "text/plain": [
       "0       -0.493353\n",
       "1        0.049905\n",
       "2       -0.339431\n",
       "3       -0.117913\n",
       "4       -0.413271\n",
       "           ...   \n",
       "13315    0.795013\n",
       "13316    1.929457\n",
       "13317   -0.352857\n",
       "13318    2.520173\n",
       "13319   -0.641502\n",
       "Name: price, Length: 13320, dtype: float64"
      ]
     },
     "execution_count": 17,
     "metadata": {},
     "output_type": "execute_result"
    }
   ],
   "source": [
    "X = df.iloc[:,0]\n",
    "X"
   ]
  },
  {
   "cell_type": "code",
   "execution_count": 18,
   "id": "c013df3b",
   "metadata": {},
   "outputs": [
    {
     "data": {
      "text/plain": [
       "0       -0.377680\n",
       "1        0.862754\n",
       "2       -0.069178\n",
       "3       -0.004104\n",
       "4       -0.261992\n",
       "           ...   \n",
       "13315    1.548045\n",
       "13316    1.666143\n",
       "13317   -0.309392\n",
       "13318    2.541034\n",
       "13319   -0.784195\n",
       "Name: avg_area, Length: 13320, dtype: float64"
      ]
     },
     "execution_count": 18,
     "metadata": {},
     "output_type": "execute_result"
    }
   ],
   "source": [
    "Y = df.iloc[:,1]\n",
    "Y"
   ]
  },
  {
   "cell_type": "code",
   "execution_count": 19,
   "id": "5e9e42e1",
   "metadata": {},
   "outputs": [
    {
     "name": "stdout",
     "output_type": "stream",
     "text": [
      "23.410050281709477 40.768714980216416\n"
     ]
    }
   ],
   "source": [
    "print(max(X), max(Y))"
   ]
  },
  {
   "cell_type": "code",
   "execution_count": 20,
   "id": "aeeb6cc6",
   "metadata": {},
   "outputs": [
    {
     "data": {
      "image/png": "[encoded data removed]",
      "text/plain": [
       "<Figure size 936x576 with 1 Axes>"
      ]
     },
     "metadata": {
      "needs_background": "light"
     },
     "output_type": "display_data"
    }
   ],
   "source": [
    "plt.figure(figsize=(13, 8))\n",
    "plt.scatter(X,Y, alpha = 0.5)\n",
    "plt.xlabel(\"Area in Sq.ft\")\n",
    "plt.ylabel(\"Price\")\n",
    "plt.show()"
   ]
  },
  {
   "cell_type": "markdown",
   "id": "027e529b",
   "metadata": {},
   "source": [
    "### EXERCISE-3: Performs gradient descent to learn theta (using the library and without using the library). Compare the values of ‘theta’ in both cases"
   ]
  },
  {
   "cell_type": "code",
   "execution_count": 21,
   "id": "81dacaf8",
   "metadata": {},
   "outputs": [
    {
     "name": "stdout",
     "output_type": "stream",
     "text": [
      "13320.0\n",
      "7.659870402296646e-17 0.5515896953597115\n"
     ]
    }
   ],
   "source": [
    "# GRADIENT DESCENT WITHOUT USING THE LIBRARY\n",
    "\n",
    "t0 = 0   # t0 - theta 0\n",
    "t1 = 0   # t1 - theta 1\n",
    "\n",
    "A = 0.002    # the learning Rate alpha\n",
    "epochs = 1000  # the number of iterations to perform gradient descent\n",
    "\n",
    "n = float(len(X)) # number of elements in X\n",
    "print(n)\n",
    "\n",
    "# Performing Gradient Descent\n",
    "for i in range(epochs):\n",
    "    Y_pred = t1 * X + t0                       # the current predicted value of Y\n",
    "    D_t1 = (-2/n) * sum(X * (Y - Y_pred))      # partial derivative wrt t1\n",
    "    D_t0 = (-2/n) * sum(Y - Y_pred)            # partial derivative wrt t0\n",
    "    t1 = t1 - A * D_t1                         # updatation of t1\n",
    "    t0 = t0 - A * D_t0                         # updatation of t0\n",
    "\n",
    "print (t0, t1)"
   ]
  },
  {
   "cell_type": "code",
   "execution_count": 22,
   "id": "f7b2b3d3",
   "metadata": {},
   "outputs": [
    {
     "data": {
      "image/png": "[encoded data removed]",
      "text/plain": [
       "<Figure size 936x576 with 1 Axes>"
      ]
     },
     "metadata": {
      "needs_background": "light"
     },
     "output_type": "display_data"
    }
   ],
   "source": [
    "# plotting the regression line (WITHOUT LIBRARY)\n",
    "Y_pred = t1 * X + t0\n",
    "\n",
    "plt.figure(figsize=(13, 8))\n",
    "plt.title(\"Graph plotted without using the library\")\n",
    "plt.scatter(X, Y)      # for the original data\n",
    "#plt.plot([min(X), max(X)], [min(Y_pred), max(Y_pred)], color='red')  # regression line\n",
    "plt.plot(X, Y_pred, color='red', label=\"Regression line\")  # regression line - predicted data\n",
    "plt.xlabel(\"Area in standardized form\")\n",
    "plt.ylabel(\"Price in standardized form\")\n",
    "plt.legend()\n",
    "plt.plot()\n",
    "plt.show()"
   ]
  },
  {
   "cell_type": "code",
   "execution_count": 23,
   "id": "aa2db945",
   "metadata": {},
   "outputs": [
    {
     "name": "stdout",
     "output_type": "stream",
     "text": [
      "5.15802751227814e-16 0.5618002969486114\n"
     ]
    }
   ],
   "source": [
    "# PERFORMING THE GRADIENT DESCENT USING THE LIBRARY\n",
    "x = df[['avg_area']].values\n",
    "y = df['price'].values\n",
    "model = LinearRegression()\n",
    "model.fit(x,y)\n",
    "theta_0 = model.intercept_\n",
    "theta_1 = model.coef_[0]\n",
    "\n",
    "print(theta_0, theta_1)"
   ]
  },
  {
   "cell_type": "code",
   "execution_count": 24,
   "id": "8b2abd88",
   "metadata": {},
   "outputs": [
    {
     "name": "stdout",
     "output_type": "stream",
     "text": [
      "Difference between theta 0:  4.392040472048475e-16\n",
      "Difference between theta 1:  0.01021060158889997\n"
     ]
    }
   ],
   "source": [
    "# Difference between the two thetas\n",
    "diff_Theta0 = theta_0 - t0\n",
    "diff_Theta1 = theta_1 - t1\n",
    "print(\"Difference between theta 0: \", diff_Theta0)\n",
    "print(\"Difference between theta 1: \", diff_Theta1)"
   ]
  },
  {
   "cell_type": "markdown",
   "id": "d5822e2a",
   "metadata": {},
   "source": [
    "### EXERCISE-4: Splitting data into the training and testing, 60:40, 70:30, and 80:20."
   ]
  },
  {
   "cell_type": "code",
   "execution_count": 25,
   "id": "38504b62",
   "metadata": {},
   "outputs": [
    {
     "name": "stdout",
     "output_type": "stream",
     "text": [
      "[-0.09106178 -0.18503938 -0.40655801 ...  0.25128518  3.60762795\n",
      " -0.38306361]\n"
     ]
    }
   ],
   "source": [
    "# splitting between 60 : 40\n",
    "x_train, x_test, y_train, y_test = train_test_split(x, y, train_size=0.6, test_size=0.4)\n",
    "print(y_test)"
   ]
  },
  {
   "cell_type": "code",
   "execution_count": 26,
   "id": "78ebdccb",
   "metadata": {},
   "outputs": [
    {
     "name": "stdout",
     "output_type": "stream",
     "text": [
      "[[-0.38250007]\n",
      " [-0.26199165]\n",
      " [-0.7078728 ]\n",
      " ...\n",
      " [-0.28770011]\n",
      " [-0.27002554]\n",
      " [-0.17040525]]\n"
     ]
    }
   ],
   "source": [
    "# splitting between 70 : 30\n",
    "x_train, x_test, y_train, y_test = train_test_split(x, y, train_size=0.7, test_size=0.3)\n",
    "print(x_train)"
   ]
  },
  {
   "cell_type": "code",
   "execution_count": 27,
   "id": "9010fe6a",
   "metadata": {},
   "outputs": [
    {
     "name": "stdout",
     "output_type": "stream",
     "text": [
      "[[ 0.17987256]\n",
      " [-0.26199165]\n",
      " [ 0.11158445]\n",
      " ...\n",
      " [-0.05471716]\n",
      " [-0.10131375]\n",
      " [-0.53112712]]\n"
     ]
    }
   ],
   "source": [
    "# splitting between 80 : 20\n",
    "x_train, x_test, y_train, y_test = train_test_split(x, y, train_size=0.8, test_size=0.2)\n",
    "print(x_test)"
   ]
  },
  {
   "cell_type": "markdown",
   "id": "0d42a4ee",
   "metadata": {},
   "source": [
    "### EXERCISE-5: Train linear regression model and test using Gradient Descent and using the library. Find out the limitation in both cases"
   ]
  },
  {
   "cell_type": "code",
   "execution_count": 28,
   "id": "c8217b21",
   "metadata": {},
   "outputs": [
    {
     "data": {
      "image/png": "[encoded data removed]",
      "text/plain": [
       "<Figure size 936x576 with 1 Axes>"
      ]
     },
     "metadata": {
      "needs_background": "light"
     },
     "output_type": "display_data"
    }
   ],
   "source": [
    "# plotting the regression line (WITHOUT LIBRARY)\n",
    "Y_pred = t1 * X + t0\n",
    "\n",
    "plt.figure(figsize=(13, 8))\n",
    "plt.title(\"Graph plotted without using the library\")\n",
    "plt.scatter(X, Y)      # for the original data\n",
    "#plt.plot([min(X), max(X)], [min(Y_pred), max(Y_pred)], color='red')  # regression line\n",
    "plt.plot(X, Y_pred, color='red', label=\"Regression line\")  # regression line - predicted data\n",
    "plt.legend()\n",
    "plt.plot()\n",
    "plt.show()"
   ]
  },
  {
   "cell_type": "code",
   "execution_count": 29,
   "id": "b864169b",
   "metadata": {},
   "outputs": [
    {
     "data": {
      "image/png": "[encoded data removed]",
      "text/plain": [
       "<Figure size 936x576 with 1 Axes>"
      ]
     },
     "metadata": {
      "needs_background": "light"
     },
     "output_type": "display_data"
    }
   ],
   "source": [
    "# plotting the regression line (WITH LIBRARY)\n",
    "y_pred = theta_1*x + theta_0\n",
    "\n",
    "plt.figure(figsize=(13, 8))\n",
    "plt.title(\"Graph plotted using the library\")\n",
    "plt.scatter(x, y)      # for the original data\n",
    "plt.plot(x, y_pred, color='red', label=\"Regression line\")  # regression line - predicted data\n",
    "plt.xlabel(\"Area in standardized form\")\n",
    "plt.ylabel(\"Price in standardized form\")\n",
    "plt.legend()\n",
    "plt.plot()\n",
    "plt.show()"
   ]
  },
  {
   "cell_type": "code",
   "execution_count": 36,
   "id": "b89bc8f7",
   "metadata": {},
   "outputs": [
    {
     "name": "stdout",
     "output_type": "stream",
     "text": [
      "Root Mean Square Error:\n",
      "\n",
      "0.43818325380484446\n"
     ]
    }
   ],
   "source": [
    "from sklearn.metrics import mean_squared_error\n",
    "import math\n",
    "MSE = mean_squared_error(Y, y_pred)\n",
    "\n",
    "RMSE = math.sqrt(MSE)\n",
    "print(\"Root Mean Square Error:\\n\")\n",
    "print(RMSE)"
   ]
  },
  {
   "cell_type": "code",
   "execution_count": 42,
   "id": "05df6926",
   "metadata": {},
   "outputs": [
    {
     "name": "stdout",
     "output_type": "stream",
     "text": [
      "R2 Score when gradient descent is used:  0.8079810202456749\n"
     ]
    }
   ],
   "source": [
    "print(\"R2 Score when gradient descent is used: \",r2_score(Y, y_pred))"
   ]
  },
  {
   "cell_type": "code",
   "execution_count": null,
   "id": "6f7bf701",
   "metadata": {},
   "outputs": [],
   "source": []
  }
 ],
 "metadata": {
  "kernelspec": {
   "display_name": "Python 3 (ipykernel)",
   "language": "python",
   "name": "python3"
  },
  "language_info": {
   "codemirror_mode": {
    "name": "ipython",
    "version": 3
   },
   "file_extension": ".py",
   "mimetype": "text/x-python",
   "name": "python",
   "nbconvert_exporter": "python",
   "pygments_lexer": "ipython3",
   "version": "3.9.7"
  }
 },
 "nbformat": 4,
 "nbformat_minor": 5
}
